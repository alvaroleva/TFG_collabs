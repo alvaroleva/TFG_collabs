{
  "cells": [
    {
      "cell_type": "markdown",
      "metadata": {
        "id": "view-in-github",
        "colab_type": "text"
      },
      "source": [
        "<a href=\"https://colab.research.google.com/github/alvaroleva/TFG_collabs/blob/main/SupportVectorMachine.ipynb\" target=\"_parent\"><img src=\"https://colab.research.google.com/assets/colab-badge.svg\" alt=\"Open In Colab\"/></a>"
      ]
    },
    {
      "cell_type": "markdown",
      "metadata": {
        "id": "T-kAExHJbdmg"
      },
      "source": [
        "# **SVC classifier on imbalanced data | further study**\n",
        "\n",
        "\n",
        "This script will utlimately try to find the best SVC model performing hyperparameter tunning with GridSearch on different datasets:\n",
        "\n",
        "* **All the biomarkers**: all the 120 ECG-derived markers. \n",
        "\n",
        "* **Dataset 1**: best biomarkers (Correlation + Decision Trees + Univariate selection).\n",
        "* **Dataset 2**: best biomarkers + clinical data.\n",
        "* **Dataset 3**: 5 best biomarkers for each lead (based on Pearson correlation).\n",
        "* **Dataset 4**: 5 best biomarkers for each lead (based on Pearson correlation) + clinical data. \n",
        "* **Dataset 5**: 30 best biomarkers based only on Univariate Selection (SelectKBest).\n",
        "* **Dataset 6**: 30 best biomarkers based only on Tree Classifier approach.\n",
        "\n"
      ]
    },
    {
      "cell_type": "markdown",
      "metadata": {
        "id": "8EdHnALccI7y"
      },
      "source": [
        "Import needed libraries"
      ]
    },
    {
      "cell_type": "code",
      "execution_count": null,
      "metadata": {
        "id": "jRCG4RqHbYPO"
      },
      "outputs": [],
      "source": [
        "#Basic libraries\n",
        "import pandas as pd\n",
        "import numpy as np\n",
        "import matplotlib.pyplot as plt\n",
        "#Machine Learning\n",
        "from sklearn.svm import SVC\n",
        "from sklearn.model_selection import GridSearchCV,StratifiedKFold\n",
        "from sklearn.metrics import confusion_matrix, ConfusionMatrixDisplay, classification_report, accuracy_score, roc_auc_score,recall_score\n",
        "from sklearn.model_selection import cross_val_score\n",
        "from collections import Counter\n",
        "from sklearn.pipeline import make_pipeline\n",
        "from sklearn.preprocessing import StandardScaler"
      ]
    },
    {
      "cell_type": "markdown",
      "metadata": {
        "id": "csWDRRZOQ3cq"
      },
      "source": [
        "## 0A. Import Data: all the final **biomarkers** (after KNN imputation) and **clinical** variables\n",
        "\n",
        "> Last result from [p02_FeatureSelection_DataVisualization](https://colab.research.google.com/drive/1ebdLWv-O7FurtHxEVpgi4ute8-b-gOSn#scrollTo=NxjMCC3QwbGC)"
      ]
    },
    {
      "cell_type": "code",
      "execution_count": null,
      "metadata": {
        "colab": {
          "base_uri": "https://localhost:8080/"
        },
        "id": "Tphs_S5EQ2vp",
        "outputId": "3d17fabb-e1f9-4cfc-b7f2-f7c08b29c084"
      },
      "outputs": [
        {
          "output_type": "stream",
          "name": "stdout",
          "text": [
            "Original dataset shape: (26304, 131)\n"
          ]
        }
      ],
      "source": [
        "#Code needed to import the Data from GoogleDrive\n",
        "from google.colab import files\n",
        "from pydrive.auth import GoogleAuth \n",
        "from pydrive.drive import GoogleDrive \n",
        "from google.colab import auth \n",
        "from oauth2client.client import GoogleCredentials\n",
        "\n",
        "auth.authenticate_user() \n",
        "gauth = GoogleAuth() \n",
        "gauth.credentials = GoogleCredentials.get_application_default() \n",
        "drive = GoogleDrive(gauth)\n",
        "\n",
        "X_bmkclc_url = 'https://docs.google.com/spreadsheets/d/1Md6cxfAp4_AMZlBhSHQtWj_iXljjc7o8/edit?usp=share_link&ouid=111241553451068058703&rtpof=true&sd=true'\n",
        "id = X_bmkclc_url.split(\"/\")[-2] #get ID\n",
        "downloaded = drive.CreateFile({'id':id}) #download from ID\n",
        "downloaded.GetContentFile('X_bmkclc.xlsx') #Get the file in the Colab working directory\n",
        "\n",
        "#load all the merged data\n",
        "X_bmkclc = pd.read_excel('X_bmkclc.xlsx', index_col = 0)\n",
        "X_bmkclc = X_bmkclc.reset_index(drop=True)\n",
        "print('Original dataset shape: {}'.format(X_bmkclc.shape))"
      ]
    },
    {
      "cell_type": "markdown",
      "metadata": {
        "id": "EDmkfXTqQRE9"
      },
      "source": [
        "## 0B. Define the custom functions to split the beats data according to BHs. \n"
      ]
    },
    {
      "cell_type": "code",
      "execution_count": null,
      "metadata": {
        "id": "H-NAS3AIQQEx"
      },
      "outputs": [],
      "source": [
        "def train_test_split_BH(data_BHsymp, rnd_state, test_siz = None, figures = 1):\n",
        "    \"\"\"\n",
        "    Performs a stratified patient partition and returns the corresponding beat selection for train and test datasets. \n",
        "    \n",
        "    INPUT ARGUMENTS:\n",
        "    ## Data ##\n",
        "    - data_BHsymp: a pandas dataframe with all the independent variables (biomarkers), the'BH' (patient BH code) \n",
        "    and the 'symp'target variable (1: symptomatic / 0: asymptomatic). Each row correspond to a beat. \n",
        "    *Note: the 'BH' and 'symp' column names must be respected. \n",
        "\n",
        "    ## train_test_split parameters ##\n",
        "    -rnd_state = random_state\n",
        "    -strat = stratify (takes y_BH by default)\n",
        "    -test_siz = percentage from 0.0 to 1.0 of patients for test. If None, by default is taken as 25%.  \n",
        "   \n",
        "    Source: https://scikit-learn.org/stable/modules/generated/sklearn.model_selection.train_test_split.html\n",
        "   \n",
        "    ## figures ##\n",
        "    -figures = binary number indicating if pie charts are displayed (1: show / 0: hide). Showed by \n",
        "    default (figures = 1). \n",
        "    \n",
        "    OUTPUT ARGUMENTS:\n",
        "    -X_train = biomarkers for train (independent variables)\n",
        "    -X_test  = biomarkers for test  (independent variables)\n",
        "    -y_train = labels for train (target variable 'symp')\n",
        "    -y_test  = labels for test  (target variable 'symp')\n",
        "\n",
        "    *Returned in the following order X_train,X_test,y_train, y_test. \n",
        "\n",
        "    \"\"\"\n",
        "    \n",
        "    #Import train_test_split from sklearn\n",
        "    from sklearn.model_selection import train_test_split\n",
        "\n",
        "    #Define a dataframe with the all the BHs and their symp condition\n",
        "    BH_symp   = data_BHsymp.groupby('BH').symp.first()\n",
        "    BH_symp = pd.DataFrame(BH_symp.reset_index(drop = False)) #transform it to df\n",
        "\n",
        "    #Split the BH PATIENTS in train and test \n",
        "    X_BH = BH_symp.BH   #a pandas Series with the BH numbers.\n",
        "    y_BH = BH_symp.symp #the corresponding Series with the symptomatic condition of each BH (1: sympt / 0: asympt)\n",
        "\n",
        "\n",
        "    XBH_train, XBH_test, yBH_train, yBH_test = train_test_split(X_BH, y_BH, \n",
        "        random_state= rnd_state, stratify = y_BH , test_size = test_siz) #perform the split\n",
        "    \n",
        "    if figures:\n",
        "        print('*BH patient train-test split\\n---------------------------\\n')\n",
        "        print(\"Train patients: {:.2f}% | 0: {} | 1: {}\".format(len(XBH_train) / len(X_BH)*100, \n",
        "                                                        yBH_train.value_counts()[0],\n",
        "                                                        yBH_train.value_counts()[1]      ))\n",
        "\n",
        "        print(\"Test patients:  {:.2f}% | 0: {} | 1: {}\".format(len(XBH_test) / len(X_BH)*100, \n",
        "                                                        yBH_test.value_counts()[0],\n",
        "                                                        yBH_test.value_counts()[1]   ))\n",
        "        \n",
        "        import plotly.express as px\n",
        "        #See train-test overall percentage\n",
        "        fig = px.pie(values= [len(XBH_train), len(XBH_test)],  names = ['Train', 'Test'], width = 400, height = 400, title = 'Train-test BH patient split')\n",
        "        fig.show()\n",
        "\n",
        "\n",
        "        #See symp percentages in train\n",
        "        fig = px.pie(values= yBH_train.value_counts(),  names = ['Asymptomatic', 'Symptomatic'], width = 400, height = 400, title = 'TRAIN: Symptomatic vs Asymptomatic patients')\n",
        "        fig.show()\n",
        "\n",
        "        #See symp percentages in test\n",
        "        fig = px.pie(values= yBH_test.value_counts(),  names = ['Asymptomatic', 'Symptomatic'], width = 400, height = 400, title = 'TEST: Symptomatic vs Asymptomatic patients')\n",
        "        fig.show()\n",
        "    \n",
        "\n",
        "    #TAKE the beats corresponding to the BH train-test split\n",
        "    #Select all the beats for Train\n",
        "    X_train = data_BHsymp[data_BHsymp.BH.isin(XBH_train)]      #biomarkers\n",
        "    y_train = data_BHsymp[data_BHsymp.BH.isin(XBH_train)].symp #labels\n",
        "    #Select all the beats for Test\n",
        "    X_test = data_BHsymp[data_BHsymp.BH.isin(XBH_test)]        #biomarkers\n",
        "    y_test = data_BHsymp[data_BHsymp.BH.isin(XBH_test)].symp   #labels\n",
        "\n",
        "    #Reset the indexes\n",
        "    X_train = X_train.reset_index(drop = True)\n",
        "    X_test  = X_test.reset_index(drop = True)\n",
        "    y_train = y_train.reset_index(drop = True)\n",
        "    y_test  = y_test.reset_index(drop = True)\n",
        "    \n",
        "    X_train_wBH_Symp = X_train.copy()\n",
        "    \n",
        "    #Drop the BH patient's column and symp target variable from X_train and X_test\n",
        "    # and reset the indexes\n",
        "    X_train = X_train.drop(columns = ['BH', 'symp']).reset_index(drop = True)\n",
        "    X_test  = X_test.drop(columns =  ['BH', 'symp']).reset_index(drop = True)\n",
        "    y_train = y_train.reset_index(drop = True)\n",
        "    y_test  = y_test.reset_index(drop = True)\n",
        "    \n",
        "    return X_train,X_test,y_train, y_test, X_train_wBH_Symp"
      ]
    },
    {
      "cell_type": "code",
      "execution_count": null,
      "metadata": {
        "id": "t9vJXrRkQhKO"
      },
      "outputs": [],
      "source": [
        "def StratifiedKFold_BH (data_BHsymp, n_splits_, random_state_, shuffle_ = True):\n",
        "    \"\"\"\n",
        "    Mimicks the behaviour of StratifiedKFold but performing the train-test splits of each fold\n",
        "    according to the BH patients, and then selects the corresponding beats\n",
        "    \n",
        "    INPUT ARGUMENTS:\n",
        "    ## Data ##\n",
        "    - data_BHsymp: a pandas dataframe with all the independent variables (biomarkers), the'BH' (patient BH code) \n",
        "    and the 'symp'target variable (1: symptomatic / 0: asymptomatic). Each row correspond to a beat. \n",
        "    *Note: the 'BH' and 'symp' column names must be respected. \n",
        "\n",
        "    ## StratifiedKFold parameters ##\n",
        "    -n_splits_ = number of folds \n",
        "    -shuffle_ = Whether to shuffle each class’s samples before splitting into batches. Note that the samples within each split will not be shuffled.\n",
        "    -random_state_ = When shuffle is True, random_state affects the ordering of the indices, which controls the randomness of each fold for each class. \n",
        "    \n",
        "    Source: https://scikit-learn.org/stable/modules/generated/sklearn.model_selection.StratifiedKFold.html\n",
        "    \n",
        "    \"\"\"\n",
        "    BHs_in_data = data_BHsymp.BH.unique()\n",
        "    symp_in_data = data_BHsymp.groupby('BH').symp.first()\n",
        "\n",
        "    #Perform the StratifiedKfold split of the BH patients in the 'data' dataframe\n",
        "    cv = StratifiedKFold(n_splits= n_splits_, shuffle= shuffle_, random_state = random_state_)\n",
        "    BH_splits = list(cv.split(BHs_in_data, symp_in_data))\n",
        "\n",
        "    #Select the beats from that patients to define the final train-test split\n",
        "    cv_beats = []\n",
        "    for trainBH_index, testBH_index in BH_splits: #iterate the BH indexes for each fold\n",
        "\n",
        "        train_BH = BHs_in_data[trainBH_index] #take the BH numbers for train\n",
        "        test_BH = BHs_in_data[testBH_index]   #take the BH numbers for test\n",
        "\n",
        "        train_data = data_BHsymp[data_BHsymp['BH'].isin(train_BH)] #take the beats of the BH patients in train\n",
        "        test_data = data_BHsymp[data_BHsymp['BH'].isin(test_BH)]   #take the beats of the BH patients in test\n",
        "\n",
        "        train_data_idx = list(train_data.index) #extract the TRAIN beat indexes and convert to list\n",
        "        test_data_idx  = list(test_data.index)  #extract the TEST beat indexes and convert to list\n",
        "\n",
        "        tuple_train_test = (train_data_idx,test_data_idx) #generate a tuple with the train-test beat indexes for each fold\n",
        "        return cv_beats.append(tuple_train_test)"
      ]
    },
    {
      "cell_type": "markdown",
      "metadata": {
        "id": "4RFUz3tO3lL0"
      },
      "source": [
        "# **1. Define the datasets**"
      ]
    },
    {
      "cell_type": "markdown",
      "source": [
        "## **All the dataset**: All the 120 biomarkers.\n"
      ],
      "metadata": {
        "id": "xp6OTLhKDEUT"
      }
    },
    {
      "cell_type": "code",
      "source": [
        "tot_bmk = list(X_bmkclc.columns[11:].values)\n",
        "X_bmk_all = X_bmkclc[ ['BH','symp'] + tot_bmk]\n",
        "print('All biomarkers shape: {}'.format(X_bmk_all.shape))"
      ],
      "metadata": {
        "colab": {
          "base_uri": "https://localhost:8080/"
        },
        "id": "Wq2TGgGgDSLm",
        "outputId": "4724a0f1-c998-4cd4-f806-8803b0b8f235"
      },
      "execution_count": null,
      "outputs": [
        {
          "output_type": "stream",
          "name": "stdout",
          "text": [
            "All biomarkers shape: (26304, 122)\n"
          ]
        }
      ]
    },
    {
      "cell_type": "markdown",
      "metadata": {
        "id": "7ng2Qyt_3q2W"
      },
      "source": [
        "## **Dataset 1**: best biomarkers (Correlation + Decision Trees + Univariate selection).\n",
        "Includes 19 best biomarkers\n"
      ]
    },
    {
      "cell_type": "code",
      "execution_count": null,
      "metadata": {
        "colab": {
          "base_uri": "https://localhost:8080/"
        },
        "id": "bJk5uwbO31IU",
        "outputId": "91b89386-f481-4d91-96c0-2221983bac8f"
      },
      "outputs": [
        {
          "output_type": "stream",
          "name": "stdout",
          "text": [
            "Dataset 1 shape: (26304, 21)\n"
          ]
        }
      ],
      "source": [
        "tot_best_bmk = ['AreaQRSabs_aVF', 'Pavg_aVL', 'LP_QRSd_V4', 'AreaQRSabs_II', 'LP_QRSd_V1', 'AreaQRSabs_V3', 'LP_RMS40_V3', 'AreaQRSabs_V2', 'Pavg_aVF', 'Pavg_III', 'ST_slope_V3', 'ST_slope_II', 'LP_QRSd_V6', 'LP_QRSd_V3', 'ST_slope_V5', 'AreaQRSabs_aVL', 'AreaQRSabs_V1', 'AreaQRSabs_III', 'QTc_V6']\n",
        "X_ds1 = X_bmkclc[ ['BH','symp'] + tot_best_bmk ] \n",
        "print('Dataset 1 shape: {}'.format(X_ds1.shape))"
      ]
    },
    {
      "cell_type": "markdown",
      "metadata": {
        "id": "20hPJCCE4dnF"
      },
      "source": [
        "## **Dataset 2**: best biomarkers + all clinical data.\n",
        "Includes 19 best biomarkers + 9 clinical variables\n"
      ]
    },
    {
      "cell_type": "code",
      "execution_count": null,
      "metadata": {
        "colab": {
          "base_uri": "https://localhost:8080/"
        },
        "id": "Zsw-s-6g4kjy",
        "outputId": "ef8140aa-2b81-4cb4-b009-9005627c8bb9"
      },
      "outputs": [
        {
          "output_type": "stream",
          "name": "stdout",
          "text": [
            "Dataset 2 shape: (26304, 30)\n"
          ]
        }
      ],
      "source": [
        "tot_best_bmk = ['AreaQRSabs_aVF', 'Pavg_aVL', 'LP_QRSd_V4', 'AreaQRSabs_II', 'LP_QRSd_V1', 'AreaQRSabs_V3', 'LP_RMS40_V3', 'AreaQRSabs_V2', 'Pavg_aVF', 'Pavg_III', 'ST_slope_V3', 'ST_slope_II', 'LP_QRSd_V6', 'LP_QRSd_V3', 'ST_slope_V5', 'AreaQRSabs_aVL', 'AreaQRSabs_V1', 'AreaQRSabs_III', 'QTc_V6']\n",
        "clinical_vars = ['Diagnosis_age', 'Gender', 'Proband', 'FH_SCD', 'FH_SCD_bef_55', 'SD_VF_bef_Dg', 'sponECGtype1_all', 'AF_bef_Dg', 'EPS_inducib_dic']\n",
        "X_ds2 = X_bmkclc[ ['BH','symp'] + tot_best_bmk + clinical_vars] \n",
        "print('Dataset 2 shape: {}'.format(X_ds2.shape))"
      ]
    },
    {
      "cell_type": "markdown",
      "metadata": {
        "id": "ee8F4fnC9mDc"
      },
      "source": [
        "## **Dataset 3**: 5 best biomarkers for each lead (based on correlation).\n",
        "Includes 58 best biomarkers (5 from each lead but excluding 2 LP_LAS)\n"
      ]
    },
    {
      "cell_type": "code",
      "execution_count": null,
      "metadata": {
        "colab": {
          "base_uri": "https://localhost:8080/"
        },
        "id": "Y0BZzVAn94Zd",
        "outputId": "8fccac03-5a7c-4b3a-b7c4-87a57cec10f0"
      },
      "outputs": [
        {
          "output_type": "stream",
          "name": "stdout",
          "text": [
            "Dataset 3 shape: (26304, 60)\n"
          ]
        }
      ],
      "source": [
        "tot_best5lead_bmk = ['PR_I', 'ST_60_I', 'ST_0_I', 'LP_QRSd_I', 'qt_I', \n",
        "'ST_0_II', 'ST_slope_II', 'PR_II', 'qt_II', 'AreaQRSabs_II',\n",
        "'AreaQRSabs_III', 'Pavg_III' ,'PR_III', 'qt_III', 'LP_QRSd_III',\n",
        "'ST_60_aVR', 'LP_RMS40_aVR', 'ST_0_aVR', 'PR_aVR', 'qt_aVR', \n",
        "'Pavg_aVL', 'AreaQRSabs_aVL', 'PR_aVL', 'qt_aVL', 'ST_60_aVL', \n",
        "'ST_0_aVF', 'AreaQRSabs_aVF', 'ST_slope_aVF', 'PR_aVF', 'Pavg_aVF',\n",
        "'ST_60_V1', 'LP_QRSd_V1', 'PR_V1', 'qt_V1', 'AreaQRSabs_V1', \n",
        "'ST_60_V2', 'AreaQRSabs_V2', 'ST_0_V2', 'PR_V2', 'LP_QRSd_V2',\n",
        "'ST_60_V3', 'LP_QRSd_V3', 'PR_V3', 'AreaQRSabs_V3', 'LP_RMS40_V3',\n",
        "'LP_QRSd_V4', 'ST_60_V4', 'ST_0_V4', 'qt_V4',\n",
        "'ST_slope_V5', 'ST_0_V5', 'qt_V5', 'QTc_V5','PR_V5',\n",
        "'QTc_V6', 'LP_QRSd_V6', 'qt_V6', 'ST_slope_V6' ]\n",
        "\n",
        "X_ds3 = X_bmkclc[ ['BH','symp'] + tot_best5lead_bmk ] \n",
        "print('Dataset 3 shape: {}'.format(X_ds3.shape))"
      ]
    },
    {
      "cell_type": "markdown",
      "metadata": {
        "id": "wRS4iQDhWINx"
      },
      "source": [
        "## **Dataset 4**: 5 best biomarkers for each lead (based on correlation) + clinical data.\n",
        "Includes 58 best biomarkers (5 from each lead but excluding 2 LP_LAS) + clinical data. \n"
      ]
    },
    {
      "cell_type": "code",
      "execution_count": null,
      "metadata": {
        "colab": {
          "base_uri": "https://localhost:8080/"
        },
        "id": "miQ-aTPFWMxH",
        "outputId": "9e6f83a8-a849-4b17-85f4-ffc76dce2468"
      },
      "outputs": [
        {
          "output_type": "stream",
          "name": "stdout",
          "text": [
            "Dataset 3 shape: (26304, 69)\n"
          ]
        }
      ],
      "source": [
        "X_ds4 = X_bmkclc[ ['BH','symp'] + tot_best5lead_bmk +  clinical_vars] \n",
        "print('Dataset 3 shape: {}'.format(X_ds4.shape))"
      ]
    },
    {
      "cell_type": "markdown",
      "metadata": {
        "id": "xKtEYV9Y-ZEN"
      },
      "source": [
        "## **Dataset 5**: best biomarkers and clinical variable based on univariate selection (SelectKBest).\n",
        "Repeat what it was done in [3.2.3 Univariate selection](https://colab.research.google.com/drive/1ebdLWv-O7FurtHxEVpgi4ute8-b-gOSn#scrollTo=_cHtUC3zwbxo) but now taken into account also the clinical data. \n",
        "\n",
        "Includes the **30 best features** including both biomarkers and clinical data. \n"
      ]
    },
    {
      "cell_type": "code",
      "execution_count": null,
      "metadata": {
        "colab": {
          "base_uri": "https://localhost:8080/"
        },
        "id": "MhkZZtQq-ZEW",
        "outputId": "3fe4b579-5102-4ed4-ba86-fee54ecbf968"
      },
      "outputs": [
        {
          "output_type": "stream",
          "name": "stdout",
          "text": [
            "            Features          Score\n",
            "7          AF_bef_Dg  243682.649512\n",
            "4      FH_SCD_bef_55  224545.368780\n",
            "30    AreaQRSabs_III   26852.344773\n",
            "108      LP_RMS40_V4   21700.739984\n",
            "50    AreaQRSabs_aVL   19295.071599\n",
            "60    AreaQRSabs_aVF   14314.328154\n",
            "48      LP_RMS40_aVR   13788.979823\n",
            "97        LP_QRSd_V3   12337.993197\n",
            "77        LP_QRSd_V1   11438.236756\n",
            "107       LP_QRSd_V4   10100.602778\n",
            "98       LP_RMS40_V3    9195.398490\n",
            "128      LP_RMS40_V6    8785.564600\n",
            "80     AreaQRSabs_V2    8749.083805\n",
            "90     AreaQRSabs_V3    8683.202775\n",
            "122           QTc_V6    7457.869101\n",
            "112           QTc_V5    6489.405613\n",
            "8    EPS_inducib_dic    6017.478399\n",
            "5       SD_VF_bef_Dg    5590.421864\n",
            "127       LP_QRSd_V6    5391.176784\n",
            "88       LP_RMS40_V2    5230.148456\n",
            "38      LP_RMS40_III    5203.401951\n",
            "87        LP_QRSd_V2    5128.914406\n",
            "20     AreaQRSabs_II    4987.228065\n",
            "70     AreaQRSabs_V1    3911.473530\n",
            "92            QTc_V3    3878.660452\n",
            "102           QTc_V4    3273.753943\n",
            "62           QTc_aVF    3172.418699\n",
            "17         LP_QRSd_I    3012.646691\n",
            "68      LP_RMS40_aVF    2904.272626\n",
            "37       LP_QRSd_III    2772.325320\n",
            "Dataset 5 shape: (26304, 32)\n"
          ]
        }
      ],
      "source": [
        "#UNIVARIATE SELECTION\n",
        "from sklearn.feature_selection import SelectKBest\n",
        "from sklearn.feature_selection import f_classif\n",
        "\n",
        "X_features = X_bmkclc.drop(columns = ['BH','symp'] )\n",
        "y_symp = X_bmkclc.symp\n",
        "\n",
        "bestfeatures = SelectKBest(score_func = f_classif, k = 10)\n",
        "fit = bestfeatures.fit(abs(X_features),y_symp)\n",
        "dfscores = pd.DataFrame(fit.scores_)\n",
        "dfcolumns = pd.DataFrame(X_features.columns)\n",
        "featureScores = pd.concat([dfcolumns, dfscores], axis = 1)\n",
        "featureScores.columns = ['Features', 'Score']\n",
        "print(featureScores.nlargest(30,'Score'))\n",
        "best_30ft_univ = featureScores.nlargest(30,'Score').Features\n",
        "best_30ft_univ = list(best_30ft_univ)\n",
        "\n",
        "#Dataframe ´\n",
        "X_ds5 = X_bmkclc[ ['BH','symp'] + best_30ft_univ ] \n",
        "print('Dataset 5 shape: {}'.format(X_ds5.shape))"
      ]
    },
    {
      "cell_type": "markdown",
      "metadata": {
        "id": "nthFNr-SiF-9"
      },
      "source": [
        "## **Dataset 6**: best biomarkers based only on Tree Classifier approach\n",
        "\n",
        "Repeat what it was done in [3.2.2 Tree Classifier approach](https://colab.research.google.com/drive/1ebdLWv-O7FurtHxEVpgi4ute8-b-gOSn#scrollTo=_cHtUC3zwbxo) but now taken into account also the clinical data. \n",
        "\n",
        "Includes the **30 best features** including both biomarkers and clinical data. \n"
      ]
    },
    {
      "cell_type": "code",
      "execution_count": null,
      "metadata": {
        "colab": {
          "base_uri": "https://localhost:8080/"
        },
        "id": "b2tN9PMmahz9",
        "outputId": "31faaabf-350c-4f2c-80c5-81fed54380f5"
      },
      "outputs": [
        {
          "output_type": "stream",
          "name": "stdout",
          "text": [
            "Dataset 6 shape: (26304, 32)\n"
          ]
        }
      ],
      "source": [
        "#Tree Classifier \n",
        "from sklearn.ensemble import ExtraTreesClassifier\n",
        "feature_importances = []\n",
        "\n",
        "n_trials = 3\n",
        "for i in range(n_trials):\n",
        "    model = ExtraTreesClassifier(random_state= i )\n",
        "    model.fit(X_features, y_symp) #the same inputs as before\n",
        "    feature_importances.append(model.feature_importances_)\n",
        "\n",
        "# Aggregate feature importances for each trial\n",
        "average_importances = np.mean(feature_importances, axis=0)\n",
        "feat_importances = pd.Series(average_importances, index=X_features.columns)\n",
        "\n",
        "# Select the top 30 features\n",
        "best_30ft_tree = list(feat_importances.nlargest(30).index)\n",
        "\n",
        "#Dataframe ´\n",
        "X_ds6 = X_bmkclc[ ['BH','symp'] + best_30ft_tree ] \n",
        "print('Dataset 6 shape: {}'.format(X_ds6.shape))\n"
      ]
    },
    {
      "cell_type": "code",
      "source": [
        "best_30ft_tree"
      ],
      "metadata": {
        "colab": {
          "base_uri": "https://localhost:8080/"
        },
        "id": "SeOZAmoOZnem",
        "outputId": "5b80d48a-97e9-4472-c973-be4616f70ee6"
      },
      "execution_count": null,
      "outputs": [
        {
          "output_type": "execute_result",
          "data": {
            "text/plain": [
              "['SD_VF_bef_Dg',\n",
              " 'FH_SCD_bef_55',\n",
              " 'AF_bef_Dg',\n",
              " 'Diagnosis_age',\n",
              " 'sponECGtype1_all',\n",
              " 'EPS_inducib_dic',\n",
              " 'Gender',\n",
              " 'FH_SCD',\n",
              " 'Pavg_aVL',\n",
              " 'PR_V5',\n",
              " 'ST_0_I',\n",
              " 'AreaQRSabs_aVL',\n",
              " 'AreaQRSabs_III',\n",
              " 'Pavg_II',\n",
              " 'Proband',\n",
              " 'Pavg_aVF',\n",
              " 'LP_QRSd_V4',\n",
              " 'Pavg_III',\n",
              " 'PR_V6',\n",
              " 'ST_60_aVR',\n",
              " 'LP_QRSd_V6',\n",
              " 'AreaQRSabs_V2',\n",
              " 'AreaQRSabs_aVF',\n",
              " 'LP_QRSd_V3',\n",
              " 'ST_slope_I',\n",
              " 'LP_QRSd_aVL',\n",
              " 'LP_QRSd_I',\n",
              " 'ST_60_V3',\n",
              " 'PR_II',\n",
              " 'ST_slope_V5']"
            ]
          },
          "metadata": {},
          "execution_count": 48
        }
      ]
    },
    {
      "cell_type": "markdown",
      "metadata": {
        "id": "q1oMFXhjjLaF"
      },
      "source": [
        "> Perform the feature selection based on ``ExtraTreesClassifier`` but modifing 3 times the ``random_state`` to ensure more robustneess. It end up with the 30 common features that have an average better importance on the 3 randomizations."
      ]
    },
    {
      "cell_type": "markdown",
      "metadata": {
        "id": "N5i7iw2KDOXo"
      },
      "source": [
        "**For better readability a dictionary will be done containing the 6 datasets.**"
      ]
    },
    {
      "cell_type": "code",
      "execution_count": null,
      "metadata": {
        "id": "HYdOx5HADbqw"
      },
      "outputs": [],
      "source": [
        "all_datasets = {'All_biomarkers': X_bmk_all,'Dataset_1': X_ds1,'Dataset_2': X_ds2, 'Dataset_3': X_ds3,'Dataset_4': X_ds4, 'Dataset_5': X_ds5, 'Dataset_6':X_ds6}"
      ]
    },
    {
      "cell_type": "markdown",
      "metadata": {
        "id": "zalEAY8ZAuSP"
      },
      "source": [
        "# **2. Find the best SVC model**\n",
        "The same process will be conducted over each dataset."
      ]
    },
    {
      "cell_type": "markdown",
      "metadata": {
        "id": "ZF8-DkgRBmNf"
      },
      "source": [
        "### **1. First try SVC with default parameters**\n",
        "\n"
      ]
    },
    {
      "cell_type": "code",
      "execution_count": null,
      "metadata": {
        "id": "dGoVP5CMEMeh",
        "colab": {
          "base_uri": "https://localhost:8080/"
        },
        "outputId": "1ca67f84-0710-4965-80e1-fdbf29e1eb6f"
      },
      "outputs": [
        {
          "output_type": "stream",
          "name": "stdout",
          "text": [
            "All_biomarkers\n",
            "Dataset_1\n",
            "Dataset_2\n",
            "Dataset_3\n",
            "Dataset_4\n",
            "Dataset_5\n",
            "Dataset_6\n"
          ]
        }
      ],
      "source": [
        "default_results_ds = [];\n",
        "for dataset_name, dataset in all_datasets.items():\n",
        "  print(dataset_name)\n",
        "\n",
        "  #A. Define the X,y\n",
        "  X = dataset.drop(columns = ['BH', 'symp'])\n",
        "  y = dataset.symp\n",
        "\n",
        "  X_wBH_Symp = dataset #needed input for StratifiedKFold_BH (in this case corresponds to the raw datasets)\n",
        "\n",
        " \n",
        "    #Define the model\n",
        "  model = SVC() \n",
        "\n",
        "    #B.3 Cross validation score with all data to assess the performance of the model for each dataset\n",
        "  n_scores = []\n",
        "  n_trials = 3\n",
        "  for i in range(n_trials):\n",
        "    #define the cross-validation strategy to validate the model (using the custom function)\n",
        "    cv = StratifiedKFold_BH (X_wBH_Symp, n_splits_ = 6, random_state_ = i, shuffle_ = True) #X_train_wBH_Symp output from the custom function (See the section above)\n",
        "\n",
        "    #evaluate the model\n",
        "    scores = cross_val_score(model, X, y, scoring='roc_auc', cv=cv, n_jobs=-1)\n",
        "\n",
        "    #save the mean scores\n",
        "    n_scores.append(np.mean(scores))\n",
        "    mean_cv_nscore = np.mean(n_scores)\n",
        "\n",
        "    #Save RESULTS: The mean ROC_AUC cv score for each dataset\n",
        "  default_results_ds.append({\n",
        "      'Dataset' : dataset_name,\n",
        "      'AUC_roc_mean_cvscore': mean_cv_nscore\n",
        "      \n",
        "  })\n",
        "\n",
        "df_DatasetResults = pd.DataFrame(default_results_ds,columns=['Dataset', 'AUC_roc_mean_cvscore'])"
      ]
    },
    {
      "cell_type": "code",
      "execution_count": null,
      "metadata": {
        "colab": {
          "base_uri": "https://localhost:8080/",
          "height": 269
        },
        "id": "pLX4yaqhX3O7",
        "outputId": "79a1d71d-b423-40a7-d06b-58b478b6634b"
      },
      "outputs": [
        {
          "output_type": "execute_result",
          "data": {
            "text/plain": [
              "          Dataset  AUC_roc_mean_cvscore\n",
              "0  All_biomarkers              0.455665\n",
              "1       Dataset_1              0.515284\n",
              "2       Dataset_2              0.566571\n",
              "3       Dataset_3              0.525293\n",
              "4       Dataset_4              0.573653\n",
              "5       Dataset_5              0.494711\n",
              "6       Dataset_6              0.550223"
            ],
            "text/html": [
              "\n",
              "  <div id=\"df-64cf28c2-bc5c-47d7-b925-3a93f6103c04\">\n",
              "    <div class=\"colab-df-container\">\n",
              "      <div>\n",
              "<style scoped>\n",
              "    .dataframe tbody tr th:only-of-type {\n",
              "        vertical-align: middle;\n",
              "    }\n",
              "\n",
              "    .dataframe tbody tr th {\n",
              "        vertical-align: top;\n",
              "    }\n",
              "\n",
              "    .dataframe thead th {\n",
              "        text-align: right;\n",
              "    }\n",
              "</style>\n",
              "<table border=\"1\" class=\"dataframe\">\n",
              "  <thead>\n",
              "    <tr style=\"text-align: right;\">\n",
              "      <th></th>\n",
              "      <th>Dataset</th>\n",
              "      <th>AUC_roc_mean_cvscore</th>\n",
              "    </tr>\n",
              "  </thead>\n",
              "  <tbody>\n",
              "    <tr>\n",
              "      <th>0</th>\n",
              "      <td>All_biomarkers</td>\n",
              "      <td>0.455665</td>\n",
              "    </tr>\n",
              "    <tr>\n",
              "      <th>1</th>\n",
              "      <td>Dataset_1</td>\n",
              "      <td>0.515284</td>\n",
              "    </tr>\n",
              "    <tr>\n",
              "      <th>2</th>\n",
              "      <td>Dataset_2</td>\n",
              "      <td>0.566571</td>\n",
              "    </tr>\n",
              "    <tr>\n",
              "      <th>3</th>\n",
              "      <td>Dataset_3</td>\n",
              "      <td>0.525293</td>\n",
              "    </tr>\n",
              "    <tr>\n",
              "      <th>4</th>\n",
              "      <td>Dataset_4</td>\n",
              "      <td>0.573653</td>\n",
              "    </tr>\n",
              "    <tr>\n",
              "      <th>5</th>\n",
              "      <td>Dataset_5</td>\n",
              "      <td>0.494711</td>\n",
              "    </tr>\n",
              "    <tr>\n",
              "      <th>6</th>\n",
              "      <td>Dataset_6</td>\n",
              "      <td>0.550223</td>\n",
              "    </tr>\n",
              "  </tbody>\n",
              "</table>\n",
              "</div>\n",
              "      <button class=\"colab-df-convert\" onclick=\"convertToInteractive('df-64cf28c2-bc5c-47d7-b925-3a93f6103c04')\"\n",
              "              title=\"Convert this dataframe to an interactive table.\"\n",
              "              style=\"display:none;\">\n",
              "        \n",
              "  <svg xmlns=\"http://www.w3.org/2000/svg\" height=\"24px\"viewBox=\"0 0 24 24\"\n",
              "       width=\"24px\">\n",
              "    <path d=\"M0 0h24v24H0V0z\" fill=\"none\"/>\n",
              "    <path d=\"M18.56 5.44l.94 2.06.94-2.06 2.06-.94-2.06-.94-.94-2.06-.94 2.06-2.06.94zm-11 1L8.5 8.5l.94-2.06 2.06-.94-2.06-.94L8.5 2.5l-.94 2.06-2.06.94zm10 10l.94 2.06.94-2.06 2.06-.94-2.06-.94-.94-2.06-.94 2.06-2.06.94z\"/><path d=\"M17.41 7.96l-1.37-1.37c-.4-.4-.92-.59-1.43-.59-.52 0-1.04.2-1.43.59L10.3 9.45l-7.72 7.72c-.78.78-.78 2.05 0 2.83L4 21.41c.39.39.9.59 1.41.59.51 0 1.02-.2 1.41-.59l7.78-7.78 2.81-2.81c.8-.78.8-2.07 0-2.86zM5.41 20L4 18.59l7.72-7.72 1.47 1.35L5.41 20z\"/>\n",
              "  </svg>\n",
              "      </button>\n",
              "      \n",
              "  <style>\n",
              "    .colab-df-container {\n",
              "      display:flex;\n",
              "      flex-wrap:wrap;\n",
              "      gap: 12px;\n",
              "    }\n",
              "\n",
              "    .colab-df-convert {\n",
              "      background-color: #E8F0FE;\n",
              "      border: none;\n",
              "      border-radius: 50%;\n",
              "      cursor: pointer;\n",
              "      display: none;\n",
              "      fill: #1967D2;\n",
              "      height: 32px;\n",
              "      padding: 0 0 0 0;\n",
              "      width: 32px;\n",
              "    }\n",
              "\n",
              "    .colab-df-convert:hover {\n",
              "      background-color: #E2EBFA;\n",
              "      box-shadow: 0px 1px 2px rgba(60, 64, 67, 0.3), 0px 1px 3px 1px rgba(60, 64, 67, 0.15);\n",
              "      fill: #174EA6;\n",
              "    }\n",
              "\n",
              "    [theme=dark] .colab-df-convert {\n",
              "      background-color: #3B4455;\n",
              "      fill: #D2E3FC;\n",
              "    }\n",
              "\n",
              "    [theme=dark] .colab-df-convert:hover {\n",
              "      background-color: #434B5C;\n",
              "      box-shadow: 0px 1px 3px 1px rgba(0, 0, 0, 0.15);\n",
              "      filter: drop-shadow(0px 1px 2px rgba(0, 0, 0, 0.3));\n",
              "      fill: #FFFFFF;\n",
              "    }\n",
              "  </style>\n",
              "\n",
              "      <script>\n",
              "        const buttonEl =\n",
              "          document.querySelector('#df-64cf28c2-bc5c-47d7-b925-3a93f6103c04 button.colab-df-convert');\n",
              "        buttonEl.style.display =\n",
              "          google.colab.kernel.accessAllowed ? 'block' : 'none';\n",
              "\n",
              "        async function convertToInteractive(key) {\n",
              "          const element = document.querySelector('#df-64cf28c2-bc5c-47d7-b925-3a93f6103c04');\n",
              "          const dataTable =\n",
              "            await google.colab.kernel.invokeFunction('convertToInteractive',\n",
              "                                                     [key], {});\n",
              "          if (!dataTable) return;\n",
              "\n",
              "          const docLinkHtml = 'Like what you see? Visit the ' +\n",
              "            '<a target=\"_blank\" href=https://colab.research.google.com/notebooks/data_table.ipynb>data table notebook</a>'\n",
              "            + ' to learn more about interactive tables.';\n",
              "          element.innerHTML = '';\n",
              "          dataTable['output_type'] = 'display_data';\n",
              "          await google.colab.output.renderOutput(dataTable, element);\n",
              "          const docLink = document.createElement('div');\n",
              "          docLink.innerHTML = docLinkHtml;\n",
              "          element.appendChild(docLink);\n",
              "        }\n",
              "      </script>\n",
              "    </div>\n",
              "  </div>\n",
              "  "
            ]
          },
          "metadata": {},
          "execution_count": 36
        }
      ],
      "source": [
        "df_DatasetResults"
      ]
    },
    {
      "cell_type": "markdown",
      "metadata": {
        "id": "eUQofoAZ6-RD"
      },
      "source": [
        "#### Test prediction with **default SVC** and **Dataset 6**. I am also interested in trying **Dataset 1**: only the 19 best biomarkers without clinical data. The following scrit compute the sensitivity and AUC for 4 random test-train partitions. "
      ]
    },
    {
      "cell_type": "code",
      "source": [
        "ds_2try = {'Dataset 6': X_ds6,  'Dataset 1': X_ds1}"
      ],
      "metadata": {
        "id": "PqFQnhoi0kkw"
      },
      "execution_count": null,
      "outputs": []
    },
    {
      "cell_type": "code",
      "execution_count": null,
      "metadata": {
        "colab": {
          "base_uri": "https://localhost:8080/"
        },
        "id": "7bCvk18t6Ypp",
        "outputId": "0685fe81-74b8-4c9a-ab5f-27b642fefb5d"
      },
      "outputs": [
        {
          "output_type": "stream",
          "name": "stdout",
          "text": [
            "Dataset 6\n",
            "Dataset 1\n"
          ]
        },
        {
          "output_type": "execute_result",
          "data": {
            "text/plain": [
              "[{'Dataset': 'Dataset 6',\n",
              "  'Sensitivity_mean': 0.010308319892593083,\n",
              "  'AUC_roc_mean': 0.45660538377455645},\n",
              " {'Dataset': 'Dataset 1',\n",
              "  'Sensitivity_mean': 0.0013241525423728813,\n",
              "  'AUC_roc_mean': 0.4955511046811836}]"
            ]
          },
          "metadata": {},
          "execution_count": 70
        }
      ],
      "source": [
        "results_ds2try = []\n",
        "for ds2try_name, ds2try in ds_2try.items():\n",
        "  print(ds2try_name)\n",
        "  n_trials = 4\n",
        "  mean_sensitivity = []\n",
        "  mean_AUC = []\n",
        "  for i in range(n_trials):\n",
        "    X_train, X_test, y_train, y_test, X_train_wBH_Symp = train_test_split_BH(ds2try, rnd_state = i, figures = 0)\n",
        "    model = SVC() \n",
        "    model.fit(X_train, y_train) #training\n",
        "    y_pred = model.predict(X_test) #predictions\n",
        "    #confusion matrix\n",
        "    labels_str= [0,1]\n",
        "    cm = confusion_matrix(y_test, y_pred, labels= labels_str)\n",
        "    tn, fp, fn, tp = cm.ravel()\n",
        "\n",
        "    # compute sensitivity and specificity\n",
        "    sensitivity = tp / (tp + fn)\n",
        "    AUC = roc_auc_score(y_test,y_pred)\n",
        "    mean_sensitivity.append(sensitivity)\n",
        "    mean_AUC.append(AUC)\n",
        "\n",
        "  #Save RESULTS: The mean ROC_AUC cv score for each dataset\n",
        "  results_ds2try.append({\n",
        "    'Dataset' : ds2try_name,\n",
        "    'Sensitivity_mean': np.mean(mean_sensitivity),\n",
        "    'AUC_roc_mean': np.mean(mean_AUC)\n",
        "    \n",
        "  })\n",
        "\n",
        "results_ds2try"
      ]
    },
    {
      "cell_type": "code",
      "source": [
        "df_results_ds2try = pd.DataFrame(results_ds2try,columns=['Dataset', 'Sensitivity_mean', 'AUC_roc_mean'])\n",
        "df_results_ds2try"
      ],
      "metadata": {
        "colab": {
          "base_uri": "https://localhost:8080/",
          "height": 112
        },
        "id": "kSnm_IP11Aid",
        "outputId": "215aa690-41fc-445f-f962-99fade81c4c0"
      },
      "execution_count": null,
      "outputs": [
        {
          "output_type": "execute_result",
          "data": {
            "text/plain": [
              "     Dataset  Sensitivity_mean  AUC_roc_mean\n",
              "0  Dataset 6          0.078050      0.421871\n",
              "1  Dataset 1          0.192187      0.458948"
            ],
            "text/html": [
              "\n",
              "  <div id=\"df-4276508a-3231-4690-b3f1-bf43504f6295\">\n",
              "    <div class=\"colab-df-container\">\n",
              "      <div>\n",
              "<style scoped>\n",
              "    .dataframe tbody tr th:only-of-type {\n",
              "        vertical-align: middle;\n",
              "    }\n",
              "\n",
              "    .dataframe tbody tr th {\n",
              "        vertical-align: top;\n",
              "    }\n",
              "\n",
              "    .dataframe thead th {\n",
              "        text-align: right;\n",
              "    }\n",
              "</style>\n",
              "<table border=\"1\" class=\"dataframe\">\n",
              "  <thead>\n",
              "    <tr style=\"text-align: right;\">\n",
              "      <th></th>\n",
              "      <th>Dataset</th>\n",
              "      <th>Sensitivity_mean</th>\n",
              "      <th>AUC_roc_mean</th>\n",
              "    </tr>\n",
              "  </thead>\n",
              "  <tbody>\n",
              "    <tr>\n",
              "      <th>0</th>\n",
              "      <td>Dataset 6</td>\n",
              "      <td>0.078050</td>\n",
              "      <td>0.421871</td>\n",
              "    </tr>\n",
              "    <tr>\n",
              "      <th>1</th>\n",
              "      <td>Dataset 1</td>\n",
              "      <td>0.192187</td>\n",
              "      <td>0.458948</td>\n",
              "    </tr>\n",
              "  </tbody>\n",
              "</table>\n",
              "</div>\n",
              "      <button class=\"colab-df-convert\" onclick=\"convertToInteractive('df-4276508a-3231-4690-b3f1-bf43504f6295')\"\n",
              "              title=\"Convert this dataframe to an interactive table.\"\n",
              "              style=\"display:none;\">\n",
              "        \n",
              "  <svg xmlns=\"http://www.w3.org/2000/svg\" height=\"24px\"viewBox=\"0 0 24 24\"\n",
              "       width=\"24px\">\n",
              "    <path d=\"M0 0h24v24H0V0z\" fill=\"none\"/>\n",
              "    <path d=\"M18.56 5.44l.94 2.06.94-2.06 2.06-.94-2.06-.94-.94-2.06-.94 2.06-2.06.94zm-11 1L8.5 8.5l.94-2.06 2.06-.94-2.06-.94L8.5 2.5l-.94 2.06-2.06.94zm10 10l.94 2.06.94-2.06 2.06-.94-2.06-.94-.94-2.06-.94 2.06-2.06.94z\"/><path d=\"M17.41 7.96l-1.37-1.37c-.4-.4-.92-.59-1.43-.59-.52 0-1.04.2-1.43.59L10.3 9.45l-7.72 7.72c-.78.78-.78 2.05 0 2.83L4 21.41c.39.39.9.59 1.41.59.51 0 1.02-.2 1.41-.59l7.78-7.78 2.81-2.81c.8-.78.8-2.07 0-2.86zM5.41 20L4 18.59l7.72-7.72 1.47 1.35L5.41 20z\"/>\n",
              "  </svg>\n",
              "      </button>\n",
              "      \n",
              "  <style>\n",
              "    .colab-df-container {\n",
              "      display:flex;\n",
              "      flex-wrap:wrap;\n",
              "      gap: 12px;\n",
              "    }\n",
              "\n",
              "    .colab-df-convert {\n",
              "      background-color: #E8F0FE;\n",
              "      border: none;\n",
              "      border-radius: 50%;\n",
              "      cursor: pointer;\n",
              "      display: none;\n",
              "      fill: #1967D2;\n",
              "      height: 32px;\n",
              "      padding: 0 0 0 0;\n",
              "      width: 32px;\n",
              "    }\n",
              "\n",
              "    .colab-df-convert:hover {\n",
              "      background-color: #E2EBFA;\n",
              "      box-shadow: 0px 1px 2px rgba(60, 64, 67, 0.3), 0px 1px 3px 1px rgba(60, 64, 67, 0.15);\n",
              "      fill: #174EA6;\n",
              "    }\n",
              "\n",
              "    [theme=dark] .colab-df-convert {\n",
              "      background-color: #3B4455;\n",
              "      fill: #D2E3FC;\n",
              "    }\n",
              "\n",
              "    [theme=dark] .colab-df-convert:hover {\n",
              "      background-color: #434B5C;\n",
              "      box-shadow: 0px 1px 3px 1px rgba(0, 0, 0, 0.15);\n",
              "      filter: drop-shadow(0px 1px 2px rgba(0, 0, 0, 0.3));\n",
              "      fill: #FFFFFF;\n",
              "    }\n",
              "  </style>\n",
              "\n",
              "      <script>\n",
              "        const buttonEl =\n",
              "          document.querySelector('#df-4276508a-3231-4690-b3f1-bf43504f6295 button.colab-df-convert');\n",
              "        buttonEl.style.display =\n",
              "          google.colab.kernel.accessAllowed ? 'block' : 'none';\n",
              "\n",
              "        async function convertToInteractive(key) {\n",
              "          const element = document.querySelector('#df-4276508a-3231-4690-b3f1-bf43504f6295');\n",
              "          const dataTable =\n",
              "            await google.colab.kernel.invokeFunction('convertToInteractive',\n",
              "                                                     [key], {});\n",
              "          if (!dataTable) return;\n",
              "\n",
              "          const docLinkHtml = 'Like what you see? Visit the ' +\n",
              "            '<a target=\"_blank\" href=https://colab.research.google.com/notebooks/data_table.ipynb>data table notebook</a>'\n",
              "            + ' to learn more about interactive tables.';\n",
              "          element.innerHTML = '';\n",
              "          dataTable['output_type'] = 'display_data';\n",
              "          await google.colab.output.renderOutput(dataTable, element);\n",
              "          const docLink = document.createElement('div');\n",
              "          docLink.innerHTML = docLinkHtml;\n",
              "          element.appendChild(docLink);\n",
              "        }\n",
              "      </script>\n",
              "    </div>\n",
              "  </div>\n",
              "  "
            ]
          },
          "metadata": {},
          "execution_count": 69
        }
      ]
    },
    {
      "cell_type": "markdown",
      "source": [
        "To see if the biomarkers without clinical data can classify, let's take **Dataset 1**"
      ],
      "metadata": {
        "id": "DXrBdjds1_1d"
      }
    },
    {
      "cell_type": "code",
      "source": [
        "X_train, X_test, y_train, y_test, X_train_wBH_Symp = train_test_split_BH(X_ds1, rnd_state = 0, figures = 0)\n",
        "\n",
        "model = SVC() \n",
        "model.fit(X_train, y_train) #training\n",
        "y_pred = model.predict(X_test) #predictions\n",
        "\n",
        "\n",
        "#confusion matrix\n",
        "labels_str= [0,1]\n",
        "\n",
        "cm = confusion_matrix(y_test, y_pred, labels= labels_str)\n",
        "cm_fig = ConfusionMatrixDisplay(confusion_matrix=cm,\n",
        "                               display_labels=labels_str)\n",
        "cm_fig.plot()\n",
        "\n",
        "plt.show()\n",
        "\n",
        "tn, fp, fn, tp = cm.ravel()\n",
        "\n",
        "# compute sensitivity and specificity\n",
        "sensitivity = tp / (tp + fn)\n",
        "specificity = tn / (tn + fp)\n",
        "print('Accuracy: ', accuracy_score(y_test, y_pred))\n",
        "print('AUC roc: ' , roc_auc_score(y_test,y_pred))\n",
        "print('Sensitivity: {:.3f} %'.format(sensitivity*100))\n",
        "print('Specificity: {:.3f} %'.format(specificity*100))\n",
        "\n",
        "target_names = ['Asymptomatic (0)', 'Symptomatic (1)']\n",
        "print(classification_report(y_test, y_pred, target_names=target_names))\n"
      ],
      "metadata": {
        "colab": {
          "base_uri": "https://localhost:8080/",
          "height": 675
        },
        "id": "oRgsjR6H2fYf",
        "outputId": "5a4dc662-d7b2-400f-ba2b-cd495a90c276"
      },
      "execution_count": null,
      "outputs": [
        {
          "output_type": "display_data",
          "data": {
            "text/plain": [
              "<Figure size 640x480 with 2 Axes>"
            ],
            "image/png": "[encoded data removed]"
          },
          "metadata": {}
        },
        {
          "output_type": "stream",
          "name": "stdout",
          "text": [
            "Accuracy:  0.8729141835518475\n",
            "AUC roc:  0.49863829787234043\n",
            "Sensitivity: 0.000 %\n",
            "Specificity: 99.728 %\n",
            "                  precision    recall  f1-score   support\n",
            "\n",
            "Asymptomatic (0)       0.88      1.00      0.93      5875\n",
            " Symptomatic (1)       0.00      0.00      0.00       837\n",
            "\n",
            "        accuracy                           0.87      6712\n",
            "       macro avg       0.44      0.50      0.47      6712\n",
            "    weighted avg       0.77      0.87      0.82      6712\n",
            "\n"
          ]
        }
      ]
    },
    {
      "cell_type": "markdown",
      "metadata": {
        "id": "v6bUjvNBMXWS"
      },
      "source": [
        "### **2. Secondly try weighted SVC**\n",
        "\n",
        "To improve the performance of Support Vector Machines (SVM) models, each example in the training dataset is assigned its own penalty term (C value) which is used to calculate the margin. This C value can be calculated as a weighted version of the global C value, where the weight is proportional to the class distribution. When an example is misclassified, the penalty for the mistake is greater if its weight is small and vice versa.\n",
        "\n",
        "The ``class_weight``argument of SVC is a hyperparameter that allows the user to specify a dictionary defining the weighting for each class label in the calculation of the soft margin. A good practice is to use the inverse of the class distribution in the training dataset as the class weighting. \n",
        "\n",
        "In the case of our dataset, if the minority class has a **15:100** ratio to the majority class, **the class weighting can be set to 1.5 for the majority class and 100 for the minority class**.\n",
        "\n",
        "By defining ``class_weight = 'balanced'`` the weight is automatically adapted to the distribution of our imbalanced data.  \n",
        "\n",
        "\n",
        "> https://machinelearningmastery.com/cost-sensitive-svm-for-imbalanced-classification/\n",
        "\n"
      ]
    },
    {
      "cell_type": "code",
      "execution_count": null,
      "metadata": {
        "colab": {
          "base_uri": "https://localhost:8080/"
        },
        "outputId": "3d71f9ea-1b97-46b0-e6cb-695c0e65196e",
        "id": "2h9j1T0rMXWT"
      },
      "outputs": [
        {
          "metadata": {
            "tags": null
          },
          "name": "stdout",
          "output_type": "stream",
          "text": [
            "All_biomarkers\n",
            "Dataset_1\n",
            "Dataset_2\n",
            "Dataset_3\n",
            "Dataset_4\n",
            "Dataset_5\n",
            "Dataset_6\n"
          ]
        }
      ],
      "source": [
        "weighted_results_ds = [];\n",
        "for dataset_name, dataset in all_datasets.items():\n",
        "  print(dataset_name)\n",
        "\n",
        "  #A. Define the X,y\n",
        "  X = dataset.drop(columns = ['BH', 'symp'])\n",
        "  y = dataset.symp\n",
        "\n",
        "  X_wBH_Symp = dataset #needed input for StratifiedKFold_BH (in this case corresponds to the raw datasets)\n",
        "\n",
        " \n",
        "    #Define the model\n",
        "  model = SVC(class_weight= 'balanced') \n",
        "\n",
        "    #B.3 Cross validation score with all data to assess the performance of the model for each dataset\n",
        "  n_scores = []\n",
        "  n_trials = 3\n",
        "  for i in range(n_trials):\n",
        "    #define the cross-validation strategy to validate the model (using the custom function)\n",
        "    cv = StratifiedKFold_BH (X_wBH_Symp, n_splits_ = 6, random_state_ = i, shuffle_ = True) #X_train_wBH_Symp output from the custom function (See the section above)\n",
        "\n",
        "    #evaluate the model\n",
        "    scores = cross_val_score(model, X, y, scoring='roc_auc', cv=cv, n_jobs=-1)\n",
        "\n",
        "    #save the mean scores\n",
        "    n_scores.append(np.mean(scores))\n",
        "    mean_cv_nscore = np.mean(n_scores)\n",
        "\n",
        "    #Save RESULTS: The mean ROC_AUC cv score for each dataset\n",
        "  weighted_results_ds.append({\n",
        "      'Dataset' : dataset_name,\n",
        "      'AUC_roc_mean_cvscore': mean_cv_nscore\n",
        "      \n",
        "  })\n",
        "\n",
        "df_DatasetResults = pd.DataFrame(weighted_results_ds,columns=['Dataset', 'AUC_roc_mean_cvscore'])"
      ]
    },
    {
      "cell_type": "code",
      "execution_count": null,
      "metadata": {
        "colab": {
          "base_uri": "https://localhost:8080/",
          "height": 269
        },
        "outputId": "9a14746b-0d1c-4f46-db40-af8193422a46",
        "id": "wGEp5tK_MXWU"
      },
      "outputs": [
        {
          "output_type": "execute_result",
          "data": {
            "text/plain": [
              "          Dataset  AUC_roc_mean_cvscore\n",
              "0  All_biomarkers              0.475525\n",
              "1       Dataset_1              0.539955\n",
              "2       Dataset_2              0.573405\n",
              "3       Dataset_3              0.537263\n",
              "4       Dataset_4              0.582990\n",
              "5       Dataset_5              0.537695\n",
              "6       Dataset_6              0.551558"
            ],
            "text/html": [
              "\n",
              "  <div id=\"df-9d094c81-64b4-46d8-b3bb-c20e3c31f5d8\">\n",
              "    <div class=\"colab-df-container\">\n",
              "      <div>\n",
              "<style scoped>\n",
              "    .dataframe tbody tr th:only-of-type {\n",
              "        vertical-align: middle;\n",
              "    }\n",
              "\n",
              "    .dataframe tbody tr th {\n",
              "        vertical-align: top;\n",
              "    }\n",
              "\n",
              "    .dataframe thead th {\n",
              "        text-align: right;\n",
              "    }\n",
              "</style>\n",
              "<table border=\"1\" class=\"dataframe\">\n",
              "  <thead>\n",
              "    <tr style=\"text-align: right;\">\n",
              "      <th></th>\n",
              "      <th>Dataset</th>\n",
              "      <th>AUC_roc_mean_cvscore</th>\n",
              "    </tr>\n",
              "  </thead>\n",
              "  <tbody>\n",
              "    <tr>\n",
              "      <th>0</th>\n",
              "      <td>All_biomarkers</td>\n",
              "      <td>0.475525</td>\n",
              "    </tr>\n",
              "    <tr>\n",
              "      <th>1</th>\n",
              "      <td>Dataset_1</td>\n",
              "      <td>0.539955</td>\n",
              "    </tr>\n",
              "    <tr>\n",
              "      <th>2</th>\n",
              "      <td>Dataset_2</td>\n",
              "      <td>0.573405</td>\n",
              "    </tr>\n",
              "    <tr>\n",
              "      <th>3</th>\n",
              "      <td>Dataset_3</td>\n",
              "      <td>0.537263</td>\n",
              "    </tr>\n",
              "    <tr>\n",
              "      <th>4</th>\n",
              "      <td>Dataset_4</td>\n",
              "      <td>0.582990</td>\n",
              "    </tr>\n",
              "    <tr>\n",
              "      <th>5</th>\n",
              "      <td>Dataset_5</td>\n",
              "      <td>0.537695</td>\n",
              "    </tr>\n",
              "    <tr>\n",
              "      <th>6</th>\n",
              "      <td>Dataset_6</td>\n",
              "      <td>0.551558</td>\n",
              "    </tr>\n",
              "  </tbody>\n",
              "</table>\n",
              "</div>\n",
              "      <button class=\"colab-df-convert\" onclick=\"convertToInteractive('df-9d094c81-64b4-46d8-b3bb-c20e3c31f5d8')\"\n",
              "              title=\"Convert this dataframe to an interactive table.\"\n",
              "              style=\"display:none;\">\n",
              "        \n",
              "  <svg xmlns=\"http://www.w3.org/2000/svg\" height=\"24px\"viewBox=\"0 0 24 24\"\n",
              "       width=\"24px\">\n",
              "    <path d=\"M0 0h24v24H0V0z\" fill=\"none\"/>\n",
              "    <path d=\"M18.56 5.44l.94 2.06.94-2.06 2.06-.94-2.06-.94-.94-2.06-.94 2.06-2.06.94zm-11 1L8.5 8.5l.94-2.06 2.06-.94-2.06-.94L8.5 2.5l-.94 2.06-2.06.94zm10 10l.94 2.06.94-2.06 2.06-.94-2.06-.94-.94-2.06-.94 2.06-2.06.94z\"/><path d=\"M17.41 7.96l-1.37-1.37c-.4-.4-.92-.59-1.43-.59-.52 0-1.04.2-1.43.59L10.3 9.45l-7.72 7.72c-.78.78-.78 2.05 0 2.83L4 21.41c.39.39.9.59 1.41.59.51 0 1.02-.2 1.41-.59l7.78-7.78 2.81-2.81c.8-.78.8-2.07 0-2.86zM5.41 20L4 18.59l7.72-7.72 1.47 1.35L5.41 20z\"/>\n",
              "  </svg>\n",
              "      </button>\n",
              "      \n",
              "  <style>\n",
              "    .colab-df-container {\n",
              "      display:flex;\n",
              "      flex-wrap:wrap;\n",
              "      gap: 12px;\n",
              "    }\n",
              "\n",
              "    .colab-df-convert {\n",
              "      background-color: #E8F0FE;\n",
              "      border: none;\n",
              "      border-radius: 50%;\n",
              "      cursor: pointer;\n",
              "      display: none;\n",
              "      fill: #1967D2;\n",
              "      height: 32px;\n",
              "      padding: 0 0 0 0;\n",
              "      width: 32px;\n",
              "    }\n",
              "\n",
              "    .colab-df-convert:hover {\n",
              "      background-color: #E2EBFA;\n",
              "      box-shadow: 0px 1px 2px rgba(60, 64, 67, 0.3), 0px 1px 3px 1px rgba(60, 64, 67, 0.15);\n",
              "      fill: #174EA6;\n",
              "    }\n",
              "\n",
              "    [theme=dark] .colab-df-convert {\n",
              "      background-color: #3B4455;\n",
              "      fill: #D2E3FC;\n",
              "    }\n",
              "\n",
              "    [theme=dark] .colab-df-convert:hover {\n",
              "      background-color: #434B5C;\n",
              "      box-shadow: 0px 1px 3px 1px rgba(0, 0, 0, 0.15);\n",
              "      filter: drop-shadow(0px 1px 2px rgba(0, 0, 0, 0.3));\n",
              "      fill: #FFFFFF;\n",
              "    }\n",
              "  </style>\n",
              "\n",
              "      <script>\n",
              "        const buttonEl =\n",
              "          document.querySelector('#df-9d094c81-64b4-46d8-b3bb-c20e3c31f5d8 button.colab-df-convert');\n",
              "        buttonEl.style.display =\n",
              "          google.colab.kernel.accessAllowed ? 'block' : 'none';\n",
              "\n",
              "        async function convertToInteractive(key) {\n",
              "          const element = document.querySelector('#df-9d094c81-64b4-46d8-b3bb-c20e3c31f5d8');\n",
              "          const dataTable =\n",
              "            await google.colab.kernel.invokeFunction('convertToInteractive',\n",
              "                                                     [key], {});\n",
              "          if (!dataTable) return;\n",
              "\n",
              "          const docLinkHtml = 'Like what you see? Visit the ' +\n",
              "            '<a target=\"_blank\" href=https://colab.research.google.com/notebooks/data_table.ipynb>data table notebook</a>'\n",
              "            + ' to learn more about interactive tables.';\n",
              "          element.innerHTML = '';\n",
              "          dataTable['output_type'] = 'display_data';\n",
              "          await google.colab.output.renderOutput(dataTable, element);\n",
              "          const docLink = document.createElement('div');\n",
              "          docLink.innerHTML = docLinkHtml;\n",
              "          element.appendChild(docLink);\n",
              "        }\n",
              "      </script>\n",
              "    </div>\n",
              "  </div>\n",
              "  "
            ]
          },
          "metadata": {},
          "execution_count": 39
        }
      ],
      "source": [
        "df_DatasetResults"
      ]
    },
    {
      "cell_type": "markdown",
      "source": [
        "Similar AUC values for weighted SVC but let's compare the confusion matrix of **Dataset 1**. "
      ],
      "metadata": {
        "id": "NsoJWhre2NZU"
      }
    },
    {
      "cell_type": "code",
      "execution_count": null,
      "metadata": {
        "colab": {
          "base_uri": "https://localhost:8080/",
          "height": 676
        },
        "outputId": "aed71b41-34e0-41c6-8495-ac065e29efc3",
        "id": "hoAtSruxMXWV"
      },
      "outputs": [
        {
          "output_type": "display_data",
          "data": {
            "text/plain": [
              "<Figure size 640x480 with 2 Axes>"
            ],
            "image/png": "[encoded data removed]"
          },
          "metadata": {}
        },
        {
          "output_type": "stream",
          "name": "stdout",
          "text": [
            "Accuracy:  0.7719010727056019\n",
            "AUC roc:  0.4993344009761305\n",
            "Sensitivity: 13.620 %\n",
            "Specificity: 86.247 %\n",
            "                  precision    recall  f1-score   support\n",
            "\n",
            "Asymptomatic (0)       0.88      0.86      0.87      5875\n",
            " Symptomatic (1)       0.12      0.14      0.13       837\n",
            "\n",
            "        accuracy                           0.77      6712\n",
            "       macro avg       0.50      0.50      0.50      6712\n",
            "    weighted avg       0.78      0.77      0.78      6712\n",
            "\n"
          ]
        }
      ],
      "source": [
        "X_train, X_test, y_train, y_test, X_train_wBH_Symp = train_test_split_BH(X_ds1, rnd_state = 0, figures = 0)\n",
        "\n",
        "model = SVC(class_weight= 'balanced') \n",
        "model.fit(X_train, y_train) #training\n",
        "y_pred = model.predict(X_test) #predictions\n",
        "\n",
        "\n",
        "#confusion matrix\n",
        "labels_str= [0,1]\n",
        "\n",
        "cm = confusion_matrix(y_test, y_pred, labels= labels_str)\n",
        "cm_fig = ConfusionMatrixDisplay(confusion_matrix=cm,\n",
        "                               display_labels=labels_str)\n",
        "cm_fig.plot()\n",
        "\n",
        "plt.show()\n",
        "\n",
        "tn, fp, fn, tp = cm.ravel()\n",
        "\n",
        "# compute sensitivity and specificity\n",
        "sensitivity = tp / (tp + fn)\n",
        "specificity = tn / (tn + fp)\n",
        "print('Accuracy: ', accuracy_score(y_test, y_pred))\n",
        "print('AUC roc: ' , roc_auc_score(y_test,y_pred))\n",
        "print('Sensitivity: {:.3f} %'.format(sensitivity*100))\n",
        "print('Specificity: {:.3f} %'.format(specificity*100))\n",
        "\n",
        "target_names = ['Asymptomatic (0)', 'Symptomatic (1)']\n",
        "print(classification_report(y_test, y_pred, target_names=target_names))\n"
      ]
    },
    {
      "cell_type": "code",
      "execution_count": null,
      "metadata": {
        "id": "4O4e3d37_DMu",
        "colab": {
          "base_uri": "https://localhost:8080/"
        },
        "outputId": "3c40ace3-67fd-4b7f-a1ea-bd5bebbdfc2c"
      },
      "outputs": [
        {
          "output_type": "stream",
          "name": "stdout",
          "text": [
            "Subset_10\n",
            "Subset_20\n",
            "Subset_30\n",
            "Subset_40\n",
            "Subset_50\n",
            "Subset_60\n"
          ]
        }
      ],
      "source": [
        "#Assess the default SVM performance for each subset\n",
        "default_results_subsets = [];\n",
        "for subset_name, subset in X_ds6_subsets.items():\n",
        "  print(subset_name)\n",
        "  #A. Define the X,y\n",
        "  X = subset.drop(columns = ['BH', 'symp'])\n",
        "  y = subset.symp\n",
        "\n",
        "  X_wBH_Symp = subset #needed input for StratifiedKFold_BH (in this case corresponds to the raw subsets)\n",
        "\n",
        " \n",
        "    #Define the model\n",
        "  model = SVC(class_weight= 'balanced') \n",
        "\n",
        "    #B.3 Cross validation score with all data to assess the performance of the model for each subset\n",
        "  n_scores = []\n",
        "  n_trials = 5\n",
        "  for i in range(n_trials):\n",
        "    #define the cross-validation strategy to validate the model (using the custom function)\n",
        "    cv = StratifiedKFold_BH (X_wBH_Symp, n_splits_ = 6, random_state_ = i, shuffle_ = True) #X_train_wBH_Symp output from the custom function (See the section above)\n",
        "\n",
        "    #evaluate the model\n",
        "    scores = cross_val_score(model, X, y, scoring='roc_auc', cv=cv, n_jobs=-1)\n",
        "\n",
        "    #save the mean scores\n",
        "    n_scores.append(np.mean(scores))\n",
        "    mean_cv_nscore = np.mean(n_scores)\n",
        "\n",
        "    #Save RESULTS: The mean ROC_AUC cv score for each subset\n",
        "  default_results_subsets.append({\n",
        "      'Subset' : subset_name,\n",
        "      'AUC_roc_mean_cvscore': mean_cv_nscore\n",
        "      \n",
        "  })\n",
        "\n",
        "df_SubsetResults = pd.DataFrame(default_results_subsets,columns=['Subset', 'AUC_roc_mean_cvscore'])"
      ]
    },
    {
      "cell_type": "code",
      "execution_count": null,
      "metadata": {
        "colab": {
          "base_uri": "https://localhost:8080/",
          "height": 237
        },
        "id": "FrMd4P6tEFS3",
        "outputId": "507be85c-0f71-4d0f-da4b-a559483d8c1a"
      },
      "outputs": [
        {
          "output_type": "execute_result",
          "data": {
            "text/plain": [
              "      Subset  AUC_roc_mean_cvscore\n",
              "0  Subset_10              0.370177\n",
              "1  Subset_20              0.584572\n",
              "2  Subset_30              0.551558\n",
              "3  Subset_40              0.589260\n",
              "4  Subset_50              0.599785\n",
              "5  Subset_60              0.574623"
            ],
            "text/html": [
              "\n",
              "  <div id=\"df-658d7d29-972c-44c7-bbdc-9366b77e2ee8\">\n",
              "    <div class=\"colab-df-container\">\n",
              "      <div>\n",
              "<style scoped>\n",
              "    .dataframe tbody tr th:only-of-type {\n",
              "        vertical-align: middle;\n",
              "    }\n",
              "\n",
              "    .dataframe tbody tr th {\n",
              "        vertical-align: top;\n",
              "    }\n",
              "\n",
              "    .dataframe thead th {\n",
              "        text-align: right;\n",
              "    }\n",
              "</style>\n",
              "<table border=\"1\" class=\"dataframe\">\n",
              "  <thead>\n",
              "    <tr style=\"text-align: right;\">\n",
              "      <th></th>\n",
              "      <th>Subset</th>\n",
              "      <th>AUC_roc_mean_cvscore</th>\n",
              "    </tr>\n",
              "  </thead>\n",
              "  <tbody>\n",
              "    <tr>\n",
              "      <th>0</th>\n",
              "      <td>Subset_10</td>\n",
              "      <td>0.370177</td>\n",
              "    </tr>\n",
              "    <tr>\n",
              "      <th>1</th>\n",
              "      <td>Subset_20</td>\n",
              "      <td>0.584572</td>\n",
              "    </tr>\n",
              "    <tr>\n",
              "      <th>2</th>\n",
              "      <td>Subset_30</td>\n",
              "      <td>0.551558</td>\n",
              "    </tr>\n",
              "    <tr>\n",
              "      <th>3</th>\n",
              "      <td>Subset_40</td>\n",
              "      <td>0.589260</td>\n",
              "    </tr>\n",
              "    <tr>\n",
              "      <th>4</th>\n",
              "      <td>Subset_50</td>\n",
              "      <td>0.599785</td>\n",
              "    </tr>\n",
              "    <tr>\n",
              "      <th>5</th>\n",
              "      <td>Subset_60</td>\n",
              "      <td>0.574623</td>\n",
              "    </tr>\n",
              "  </tbody>\n",
              "</table>\n",
              "</div>\n",
              "      <button class=\"colab-df-convert\" onclick=\"convertToInteractive('df-658d7d29-972c-44c7-bbdc-9366b77e2ee8')\"\n",
              "              title=\"Convert this dataframe to an interactive table.\"\n",
              "              style=\"display:none;\">\n",
              "        \n",
              "  <svg xmlns=\"http://www.w3.org/2000/svg\" height=\"24px\"viewBox=\"0 0 24 24\"\n",
              "       width=\"24px\">\n",
              "    <path d=\"M0 0h24v24H0V0z\" fill=\"none\"/>\n",
              "    <path d=\"M18.56 5.44l.94 2.06.94-2.06 2.06-.94-2.06-.94-.94-2.06-.94 2.06-2.06.94zm-11 1L8.5 8.5l.94-2.06 2.06-.94-2.06-.94L8.5 2.5l-.94 2.06-2.06.94zm10 10l.94 2.06.94-2.06 2.06-.94-2.06-.94-.94-2.06-.94 2.06-2.06.94z\"/><path d=\"M17.41 7.96l-1.37-1.37c-.4-.4-.92-.59-1.43-.59-.52 0-1.04.2-1.43.59L10.3 9.45l-7.72 7.72c-.78.78-.78 2.05 0 2.83L4 21.41c.39.39.9.59 1.41.59.51 0 1.02-.2 1.41-.59l7.78-7.78 2.81-2.81c.8-.78.8-2.07 0-2.86zM5.41 20L4 18.59l7.72-7.72 1.47 1.35L5.41 20z\"/>\n",
              "  </svg>\n",
              "      </button>\n",
              "      \n",
              "  <style>\n",
              "    .colab-df-container {\n",
              "      display:flex;\n",
              "      flex-wrap:wrap;\n",
              "      gap: 12px;\n",
              "    }\n",
              "\n",
              "    .colab-df-convert {\n",
              "      background-color: #E8F0FE;\n",
              "      border: none;\n",
              "      border-radius: 50%;\n",
              "      cursor: pointer;\n",
              "      display: none;\n",
              "      fill: #1967D2;\n",
              "      height: 32px;\n",
              "      padding: 0 0 0 0;\n",
              "      width: 32px;\n",
              "    }\n",
              "\n",
              "    .colab-df-convert:hover {\n",
              "      background-color: #E2EBFA;\n",
              "      box-shadow: 0px 1px 2px rgba(60, 64, 67, 0.3), 0px 1px 3px 1px rgba(60, 64, 67, 0.15);\n",
              "      fill: #174EA6;\n",
              "    }\n",
              "\n",
              "    [theme=dark] .colab-df-convert {\n",
              "      background-color: #3B4455;\n",
              "      fill: #D2E3FC;\n",
              "    }\n",
              "\n",
              "    [theme=dark] .colab-df-convert:hover {\n",
              "      background-color: #434B5C;\n",
              "      box-shadow: 0px 1px 3px 1px rgba(0, 0, 0, 0.15);\n",
              "      filter: drop-shadow(0px 1px 2px rgba(0, 0, 0, 0.3));\n",
              "      fill: #FFFFFF;\n",
              "    }\n",
              "  </style>\n",
              "\n",
              "      <script>\n",
              "        const buttonEl =\n",
              "          document.querySelector('#df-658d7d29-972c-44c7-bbdc-9366b77e2ee8 button.colab-df-convert');\n",
              "        buttonEl.style.display =\n",
              "          google.colab.kernel.accessAllowed ? 'block' : 'none';\n",
              "\n",
              "        async function convertToInteractive(key) {\n",
              "          const element = document.querySelector('#df-658d7d29-972c-44c7-bbdc-9366b77e2ee8');\n",
              "          const dataTable =\n",
              "            await google.colab.kernel.invokeFunction('convertToInteractive',\n",
              "                                                     [key], {});\n",
              "          if (!dataTable) return;\n",
              "\n",
              "          const docLinkHtml = 'Like what you see? Visit the ' +\n",
              "            '<a target=\"_blank\" href=https://colab.research.google.com/notebooks/data_table.ipynb>data table notebook</a>'\n",
              "            + ' to learn more about interactive tables.';\n",
              "          element.innerHTML = '';\n",
              "          dataTable['output_type'] = 'display_data';\n",
              "          await google.colab.output.renderOutput(dataTable, element);\n",
              "          const docLink = document.createElement('div');\n",
              "          docLink.innerHTML = docLinkHtml;\n",
              "          element.appendChild(docLink);\n",
              "        }\n",
              "      </script>\n",
              "    </div>\n",
              "  </div>\n",
              "  "
            ]
          },
          "metadata": {},
          "execution_count": 52
        }
      ],
      "source": [
        "df_SubsetResults"
      ]
    },
    {
      "cell_type": "code",
      "source": [
        "results_nft_subsets = []\n",
        "for subset_name, subset in X_ds6_subsets.items():\n",
        "  print(subset_name)\n",
        "  n_trials = 4\n",
        "  mean_sensitivity = []\n",
        "  mean_AUC = []\n",
        "  for i in range(n_trials):\n",
        "    X_train, X_test, y_train, y_test, X_train_wBH_Symp = train_test_split_BH(subset, rnd_state = i, figures = 0)\n",
        "    model = SVC(class_weight= 'balanced') \n",
        "    model.fit(X_train, y_train) #training\n",
        "    y_pred = model.predict(X_test) #predictions\n",
        "    #confusion matrix\n",
        "    labels_str= [0,1]\n",
        "    cm = confusion_matrix(y_test, y_pred, labels= labels_str)\n",
        "    tn, fp, fn, tp = cm.ravel()\n",
        "\n",
        "    # compute sensitivity and specificity\n",
        "    sensitivity = tp / (tp + fn)\n",
        "    AUC = roc_auc_score(y_test,y_pred)\n",
        "    mean_sensitivity.append(sensitivity)\n",
        "    mean_AUC.append(AUC)\n",
        "\n",
        "  #Save RESULTS: The mean ROC_AUC cv score for each dataset\n",
        "  results_nft_subsets.append({\n",
        "    'Subset' : subset_name,\n",
        "    'Sensitivity_mean': np.mean(mean_sensitivity),\n",
        "    'AUC_roc_mean': np.mean(mean_AUC)\n",
        "    \n",
        "  })\n",
        "\n",
        "df_nft_subset = pd.DataFrame(results_nft_subsets,columns=['Subset', 'Sensitivity_mean', 'AUC_roc_mean'])"
      ],
      "metadata": {
        "colab": {
          "base_uri": "https://localhost:8080/"
        },
        "id": "2ezr3R7YpIz9",
        "outputId": "89511d00-f251-4a5a-ec4b-bfc55a0cf82e"
      },
      "execution_count": null,
      "outputs": [
        {
          "output_type": "stream",
          "name": "stdout",
          "text": [
            "Subset_10\n",
            "Subset_20\n",
            "Subset_30\n",
            "Subset_40\n",
            "Subset_50\n",
            "Subset_60\n"
          ]
        }
      ]
    },
    {
      "cell_type": "code",
      "source": [
        "df_nft_subset"
      ],
      "metadata": {
        "colab": {
          "base_uri": "https://localhost:8080/",
          "height": 237
        },
        "id": "EwVwM46GrCKF",
        "outputId": "08011674-ebbf-4688-f2d2-9bccfec8276c"
      },
      "execution_count": null,
      "outputs": [
        {
          "output_type": "execute_result",
          "data": {
            "text/plain": [
              "      Subset  Sensitivity_mean  AUC_roc_mean\n",
              "0  Subset_10          0.348560      0.468315\n",
              "1  Subset_20          0.183867      0.441091\n",
              "2  Subset_30          0.078050      0.421871\n",
              "3  Subset_40          0.063438      0.431933\n",
              "4  Subset_50          0.061619      0.448447\n",
              "5  Subset_60          0.197294      0.493630"
            ],
            "text/html": [
              "\n",
              "  <div id=\"df-361c02ef-6404-40f3-891c-cec7bf8b7585\">\n",
              "    <div class=\"colab-df-container\">\n",
              "      <div>\n",
              "<style scoped>\n",
              "    .dataframe tbody tr th:only-of-type {\n",
              "        vertical-align: middle;\n",
              "    }\n",
              "\n",
              "    .dataframe tbody tr th {\n",
              "        vertical-align: top;\n",
              "    }\n",
              "\n",
              "    .dataframe thead th {\n",
              "        text-align: right;\n",
              "    }\n",
              "</style>\n",
              "<table border=\"1\" class=\"dataframe\">\n",
              "  <thead>\n",
              "    <tr style=\"text-align: right;\">\n",
              "      <th></th>\n",
              "      <th>Subset</th>\n",
              "      <th>Sensitivity_mean</th>\n",
              "      <th>AUC_roc_mean</th>\n",
              "    </tr>\n",
              "  </thead>\n",
              "  <tbody>\n",
              "    <tr>\n",
              "      <th>0</th>\n",
              "      <td>Subset_10</td>\n",
              "      <td>0.348560</td>\n",
              "      <td>0.468315</td>\n",
              "    </tr>\n",
              "    <tr>\n",
              "      <th>1</th>\n",
              "      <td>Subset_20</td>\n",
              "      <td>0.183867</td>\n",
              "      <td>0.441091</td>\n",
              "    </tr>\n",
              "    <tr>\n",
              "      <th>2</th>\n",
              "      <td>Subset_30</td>\n",
              "      <td>0.078050</td>\n",
              "      <td>0.421871</td>\n",
              "    </tr>\n",
              "    <tr>\n",
              "      <th>3</th>\n",
              "      <td>Subset_40</td>\n",
              "      <td>0.063438</td>\n",
              "      <td>0.431933</td>\n",
              "    </tr>\n",
              "    <tr>\n",
              "      <th>4</th>\n",
              "      <td>Subset_50</td>\n",
              "      <td>0.061619</td>\n",
              "      <td>0.448447</td>\n",
              "    </tr>\n",
              "    <tr>\n",
              "      <th>5</th>\n",
              "      <td>Subset_60</td>\n",
              "      <td>0.197294</td>\n",
              "      <td>0.493630</td>\n",
              "    </tr>\n",
              "  </tbody>\n",
              "</table>\n",
              "</div>\n",
              "      <button class=\"colab-df-convert\" onclick=\"convertToInteractive('df-361c02ef-6404-40f3-891c-cec7bf8b7585')\"\n",
              "              title=\"Convert this dataframe to an interactive table.\"\n",
              "              style=\"display:none;\">\n",
              "        \n",
              "  <svg xmlns=\"http://www.w3.org/2000/svg\" height=\"24px\"viewBox=\"0 0 24 24\"\n",
              "       width=\"24px\">\n",
              "    <path d=\"M0 0h24v24H0V0z\" fill=\"none\"/>\n",
              "    <path d=\"M18.56 5.44l.94 2.06.94-2.06 2.06-.94-2.06-.94-.94-2.06-.94 2.06-2.06.94zm-11 1L8.5 8.5l.94-2.06 2.06-.94-2.06-.94L8.5 2.5l-.94 2.06-2.06.94zm10 10l.94 2.06.94-2.06 2.06-.94-2.06-.94-.94-2.06-.94 2.06-2.06.94z\"/><path d=\"M17.41 7.96l-1.37-1.37c-.4-.4-.92-.59-1.43-.59-.52 0-1.04.2-1.43.59L10.3 9.45l-7.72 7.72c-.78.78-.78 2.05 0 2.83L4 21.41c.39.39.9.59 1.41.59.51 0 1.02-.2 1.41-.59l7.78-7.78 2.81-2.81c.8-.78.8-2.07 0-2.86zM5.41 20L4 18.59l7.72-7.72 1.47 1.35L5.41 20z\"/>\n",
              "  </svg>\n",
              "      </button>\n",
              "      \n",
              "  <style>\n",
              "    .colab-df-container {\n",
              "      display:flex;\n",
              "      flex-wrap:wrap;\n",
              "      gap: 12px;\n",
              "    }\n",
              "\n",
              "    .colab-df-convert {\n",
              "      background-color: #E8F0FE;\n",
              "      border: none;\n",
              "      border-radius: 50%;\n",
              "      cursor: pointer;\n",
              "      display: none;\n",
              "      fill: #1967D2;\n",
              "      height: 32px;\n",
              "      padding: 0 0 0 0;\n",
              "      width: 32px;\n",
              "    }\n",
              "\n",
              "    .colab-df-convert:hover {\n",
              "      background-color: #E2EBFA;\n",
              "      box-shadow: 0px 1px 2px rgba(60, 64, 67, 0.3), 0px 1px 3px 1px rgba(60, 64, 67, 0.15);\n",
              "      fill: #174EA6;\n",
              "    }\n",
              "\n",
              "    [theme=dark] .colab-df-convert {\n",
              "      background-color: #3B4455;\n",
              "      fill: #D2E3FC;\n",
              "    }\n",
              "\n",
              "    [theme=dark] .colab-df-convert:hover {\n",
              "      background-color: #434B5C;\n",
              "      box-shadow: 0px 1px 3px 1px rgba(0, 0, 0, 0.15);\n",
              "      filter: drop-shadow(0px 1px 2px rgba(0, 0, 0, 0.3));\n",
              "      fill: #FFFFFF;\n",
              "    }\n",
              "  </style>\n",
              "\n",
              "      <script>\n",
              "        const buttonEl =\n",
              "          document.querySelector('#df-361c02ef-6404-40f3-891c-cec7bf8b7585 button.colab-df-convert');\n",
              "        buttonEl.style.display =\n",
              "          google.colab.kernel.accessAllowed ? 'block' : 'none';\n",
              "\n",
              "        async function convertToInteractive(key) {\n",
              "          const element = document.querySelector('#df-361c02ef-6404-40f3-891c-cec7bf8b7585');\n",
              "          const dataTable =\n",
              "            await google.colab.kernel.invokeFunction('convertToInteractive',\n",
              "                                                     [key], {});\n",
              "          if (!dataTable) return;\n",
              "\n",
              "          const docLinkHtml = 'Like what you see? Visit the ' +\n",
              "            '<a target=\"_blank\" href=https://colab.research.google.com/notebooks/data_table.ipynb>data table notebook</a>'\n",
              "            + ' to learn more about interactive tables.';\n",
              "          element.innerHTML = '';\n",
              "          dataTable['output_type'] = 'display_data';\n",
              "          await google.colab.output.renderOutput(dataTable, element);\n",
              "          const docLink = document.createElement('div');\n",
              "          docLink.innerHTML = docLinkHtml;\n",
              "          element.appendChild(docLink);\n",
              "        }\n",
              "      </script>\n",
              "    </div>\n",
              "  </div>\n",
              "  "
            ]
          },
          "metadata": {},
          "execution_count": 58
        }
      ]
    },
    {
      "cell_type": "markdown",
      "source": [
        "As the top 10 features contain mainly clinical variables this make us think that could be the reason of obtaining the best sensitivity. "
      ],
      "metadata": {
        "id": "_cGeZc4P27Zs"
      }
    },
    {
      "cell_type": "markdown",
      "metadata": {
        "id": "tNAUNXQKFt6s"
      },
      "source": [
        "### **2. GridSearchCV hyperparameter tunning with the best biomarkers**\n",
        "In an imbalanced dataset, it's important to ensure that the proportion of the minority class is maintained in the training and testing sets. This can be achieved with the stratify parameter of the train_test_split() function. Morover Stratified K-fold will be used and the score function in GridSearchSV will be de auc_roc (f-score is also valid)."
      ]
    },
    {
      "cell_type": "code",
      "execution_count": null,
      "metadata": {
        "id": "udq5lk0rEa1w"
      },
      "outputs": [],
      "source": [
        "best_ds = X_ds1"
      ]
    },
    {
      "cell_type": "markdown",
      "metadata": {
        "id": "M8YD73EpecYo"
      },
      "source": [
        "TRAIN-TEST split"
      ]
    },
    {
      "cell_type": "code",
      "execution_count": null,
      "metadata": {
        "colab": {
          "base_uri": "https://localhost:8080/"
        },
        "id": "OWyDdzcaeXAF",
        "outputId": "5d3e9d9a-45b5-4df4-9501-d4d12db286ce"
      },
      "outputs": [
        {
          "output_type": "stream",
          "name": "stdout",
          "text": [
            "X_train shape: (19592, 19)\n",
            "y_train shape: (19592,)\n",
            "X_test shape: (6712, 19)\n",
            "y_test shape: (6712,)\n",
            "\n",
            "\n",
            "TRAIN: Symptomatic vs Asymptomatic beat count\n",
            "0    16340\n",
            "1     3252\n",
            "Name: symp, dtype: int64\n",
            "\n",
            "\n",
            "TEST:  Symptomatic vs Asymptomatic beat count\n",
            "0    5875\n",
            "1     837\n",
            "Name: symp, dtype: int64\n"
          ]
        }
      ],
      "source": [
        "X_train, X_test, y_train, y_test, X_train_wBH_Symp = train_test_split_BH(best_ds, rnd_state = 0, figures = 0)\n",
        "print(\"X_train shape: {}\".format(X_train.shape))\n",
        "print(\"y_train shape: {}\".format(y_train.shape))\n",
        "print(\"X_test shape: {}\".format(X_test.shape))\n",
        "print(\"y_test shape: {}\".format(y_test.shape))\n",
        "print('\\n')\n",
        "print('TRAIN: Symptomatic vs Asymptomatic beat count')\n",
        "print(y_train.value_counts())\n",
        "print('\\n')\n",
        "print('TEST:  Symptomatic vs Asymptomatic beat count')\n",
        "print(y_test.value_counts())"
      ]
    },
    {
      "cell_type": "code",
      "execution_count": null,
      "metadata": {
        "id": "pIZzzLxUH66x"
      },
      "outputs": [],
      "source": [
        "# Set up possible values of parameters to optimize over\n",
        "p_grid = {\n",
        "          \"C\": [0.01, 0.1, 10, 100],\n",
        "          \"gamma\": [0.1, 0.001, 1],\n",
        "          }\n",
        "\n",
        "\n",
        "#Define the weighted model\n",
        "SVC = SVC(class_weight = 'balanced')\n",
        "# Loop for each trial\n",
        "num_trials = 3\n",
        "non_nested_scores = np.zeros(num_trials)# Array to store scores\n",
        "for i in range(num_trials):\n",
        "\n",
        "    # Selecting stratified cross-validation technique for preserving the data distribution\n",
        "    outer_cv = StratifiedKFold_BH (X_train_wBH_Symp, n_splits_ = 4, random_state_ = i, shuffle_ = True)#define the outer loop with 4folds \n",
        "\n",
        "    # Non_nested parameter search and scoring\n",
        "    clf = GridSearchCV(estimator= SVC, param_grid=p_grid, cv=outer_cv, scoring = 'roc_auc')\n",
        "    print('Hyperparameter tunning has started | Waiting for the results...')\n",
        "    clf.fit(X_train, y_train) #DO IT WITH TRAIN \n",
        "    print('Hyperparameter tunning has finished | Saving the results...')\n",
        "    \n",
        "    #Results\n",
        "    non_nested_scores[i] = clf.best_score_\n",
        "\n",
        "    #Save results\n",
        "    best_params = clf.best_params_\n",
        "    best_estimator = clf.best_estimator_\n",
        "    results = clf.cv_results_\n",
        "    print(best_params)\n",
        "    print(best_estimator)\n",
        "\n",
        "    # Export GridSearchCV results into a dataframe for better view\n",
        "    df_results = pd.DataFrame(results)\n",
        "\n",
        "    # #Download results in local \n",
        "    # from google.colab import files\n",
        "\n",
        "    # df_results.to_excel('XGB_GridSearch{}.xlsx'.format(i))\n",
        "    # # download the file to your local PC\n",
        "    # files.download('XGB_GridSearch{}.xlsx'.format(i))"
      ]
    },
    {
      "cell_type": "markdown",
      "source": [
        "### **Final cross-validation**"
      ],
      "metadata": {
        "id": "W8prvW_BGGYX"
      }
    },
    {
      "cell_type": "code",
      "source": [
        "best_ds = X_ds1\n",
        "best_model = SVC(class_weight = 'balanced', C = 0.125, kernel = 'rbf', gamma = 0.001)\n",
        "\n",
        "#A. Define the X,y\n",
        "X = best_ds.drop(columns = ['BH', 'symp'])\n",
        "y = best_ds.symp\n",
        "\n",
        "X_wBH_Symp = best_ds #needed input for StratifiedKFold_BH (in this case corresponds to the raw datasets)\n",
        "\n",
        "#Cross validation score with all data to assess the performance of the model for each dataset\n",
        "mean_cv_AUC = []\n",
        "mean_cv_recall = []\n",
        "mean_cv_specificity = []\n",
        "\n",
        "n_trials = 3\n",
        "for i in range(n_trials):\n",
        "  #define the cross-validation strategy to validate the model (using the custom function)\n",
        "  cv = StratifiedKFold_BH (X_wBH_Symp, n_splits_ = 6, random_state_ = i, shuffle_ = True) #X_train_wBH_Symp output from the custom function (See the section above)\n",
        "\n",
        "  #evaluate the model\n",
        "  cv_AUCs = cross_val_score(best_model, X, y, scoring='roc_auc', cv=cv, n_jobs=-1)\n",
        "  cv_recalls = cross_val_score(best_model, X, y, scoring='recall', cv=cv, n_jobs=-1)  \n",
        "  #save the mean scores\n",
        "  mean_cv_AUC.append(np.mean(cv_AUCs))\n",
        "  mean_cv_recall.append(np.mean(cv_recalls))\n",
        "\n",
        "print(np.mean(mean_cv_AUC))\n",
        "print(np.mean(mean_cv_recall))\n"
      ],
      "metadata": {
        "colab": {
          "base_uri": "https://localhost:8080/"
        },
        "id": "6CCi7aDKGTGn",
        "outputId": "ec839da4-232c-4506-d7b7-74f38374fbe5"
      },
      "execution_count": null,
      "outputs": [
        {
          "output_type": "stream",
          "name": "stdout",
          "text": [
            "0.7075602481748561\n",
            "0.27222440019990846\n"
          ]
        }
      ]
    },
    {
      "cell_type": "markdown",
      "source": [
        "#### Extra test: Leave-one-patient-out approach\n",
        "In each iteration we'll train the model taking only one patient appart to test. "
      ],
      "metadata": {
        "id": "8ObeZoN0JIg_"
      }
    },
    {
      "cell_type": "markdown",
      "source": [
        "One-Single model\n"
      ],
      "metadata": {
        "id": "V_rcjmZFsuzM"
      }
    },
    {
      "cell_type": "code",
      "source": [
        "def leave_one_out_pred(dataset,model):\n",
        "  pred_symp_percentages = []\n",
        "\n",
        "  BHs = dataset.BH.unique()\n",
        "  BHs = list(BHs) #convert BHs to list\n",
        "\n",
        "  for n_pat in range(len(BHs)):\n",
        "    print('Progress: {:.2f}%'.format(n_pat/64*100))\n",
        "\n",
        "    #Take one patient as test and the rest for train\n",
        "    test_BH = BHs[n_pat]\n",
        "    train_BH = BHs[:n_pat] + BHs[n_pat+1:]\n",
        "\n",
        "    #Select all the beats for Train\n",
        "    X_train = dataset[dataset.BH.isin(train_BH)]      #biomarkers\n",
        "    y_train = dataset[dataset.BH.isin(train_BH)].symp #labels\n",
        "\n",
        "\n",
        "    #Select all the beats for Test\n",
        "    X_test = dataset[dataset.BH == test_BH]        #biomarkers\n",
        "    y_test = dataset[dataset.BH == test_BH].symp   #labels\n",
        "\n",
        "    #Reset the indexes\n",
        "    X_train = X_train.reset_index(drop = True)\n",
        "    X_test  = X_test.reset_index(drop = True)\n",
        "    y_train = y_train.reset_index(drop = True)\n",
        "    y_test  = y_test.reset_index(drop = True)\n",
        "\n",
        "\n",
        "    #Drop the BH patient's column and symp target variable from X_train and X_test\n",
        "    # and reset the indexes\n",
        "    X_train = X_train.drop(columns = ['BH', 'symp']).reset_index(drop = True)\n",
        "    X_test  = X_test.drop(columns =  ['BH', 'symp']).reset_index(drop = True)\n",
        "    y_train = y_train.reset_index(drop = True)\n",
        "    y_test  = y_test.reset_index(drop = True)\n",
        "\n",
        "\n",
        "    #DEFINE XGBoost MODELS\n",
        "    #Compute scale_pos_weight value\n",
        "    counter = Counter(y_train) # count samples in each class\n",
        "    weight = counter[0] / counter[1]\n",
        "\n",
        "    model.fit(X_train, y_train) #training\n",
        "    y_pred_BH = model.predict(X_test) #predictions\n",
        "\n",
        "    pred_counter = Counter(y_pred_BH)\n",
        "\n",
        "    if pred_counter[0] == 0:\n",
        "      pred_symp_percentage = 0\n",
        "    else:\n",
        "      pred_symp_percentage = pred_counter[1]/(pred_counter[0] + pred_counter[1])*100\n",
        "    pred_symp_percentages.append(pred_symp_percentage)\n",
        "  \n",
        "  return pred_symp_percentages"
      ],
      "metadata": {
        "id": "6vyy2DqoJPJq"
      },
      "execution_count": null,
      "outputs": []
    },
    {
      "cell_type": "code",
      "source": [
        "SVC_m1 = SVC(class_weight = 'balanced', C = 10)\n",
        "SVC_m2 = SVC(class_weight = 'balanced', C = 0.1)\n",
        "SVC_m3 = SVC(class_weight = 'balanced', C = 0.01)\n",
        "SVC_m4 =  SVC(class_weight = 'balanced', C = 0.001)\n",
        "\n",
        "SVC_models = {'Model_1' : SVC_m1, 'Model_2': SVC_m2, 'Model_3': SVC_m3, 'Model_4': SVC_m4} #dictionary with all the models to try\n",
        "\n",
        "model_results = [];\n",
        "for model_name, model in SVC_models.items():\n",
        "  print(model_name)\n",
        "  y_pred = leave_one_out_pred(best_ds, model)\n",
        "  model_results.append({model_name : y_pred})"
      ],
      "metadata": {
        "colab": {
          "base_uri": "https://localhost:8080/"
        },
        "id": "TSd7DfoJNytH",
        "outputId": "464da2b0-0566-4997-eadc-8b740990c46d"
      },
      "execution_count": null,
      "outputs": [
        {
          "output_type": "stream",
          "name": "stdout",
          "text": [
            "Model_1\n",
            "Progress: 0.00%\n",
            "Progress: 1.56%\n",
            "Progress: 3.12%\n",
            "Progress: 4.69%\n",
            "Progress: 6.25%\n",
            "Progress: 7.81%\n",
            "Progress: 9.38%\n",
            "Progress: 10.94%\n",
            "Progress: 12.50%\n",
            "Progress: 14.06%\n",
            "Progress: 15.62%\n",
            "Progress: 17.19%\n",
            "Progress: 18.75%\n",
            "Progress: 20.31%\n",
            "Progress: 21.88%\n",
            "Progress: 23.44%\n",
            "Progress: 25.00%\n",
            "Progress: 26.56%\n",
            "Progress: 28.12%\n",
            "Progress: 29.69%\n",
            "Progress: 31.25%\n",
            "Progress: 32.81%\n",
            "Progress: 34.38%\n",
            "Progress: 35.94%\n",
            "Progress: 37.50%\n",
            "Progress: 39.06%\n",
            "Progress: 40.62%\n",
            "Progress: 42.19%\n",
            "Progress: 43.75%\n",
            "Progress: 45.31%\n",
            "Progress: 46.88%\n",
            "Progress: 48.44%\n",
            "Progress: 50.00%\n",
            "Progress: 51.56%\n",
            "Progress: 53.12%\n",
            "Progress: 54.69%\n",
            "Progress: 56.25%\n",
            "Progress: 57.81%\n",
            "Progress: 59.38%\n",
            "Progress: 60.94%\n",
            "Progress: 62.50%\n",
            "Progress: 64.06%\n",
            "Progress: 65.62%\n",
            "Progress: 67.19%\n",
            "Progress: 68.75%\n",
            "Progress: 70.31%\n",
            "Progress: 71.88%\n",
            "Progress: 73.44%\n",
            "Progress: 75.00%\n",
            "Progress: 76.56%\n",
            "Progress: 78.12%\n",
            "Progress: 79.69%\n",
            "Progress: 81.25%\n",
            "Progress: 82.81%\n",
            "Progress: 84.38%\n",
            "Progress: 85.94%\n",
            "Progress: 87.50%\n",
            "Progress: 89.06%\n",
            "Progress: 90.62%\n",
            "Progress: 92.19%\n",
            "Progress: 93.75%\n",
            "Progress: 95.31%\n",
            "Progress: 96.88%\n",
            "Progress: 98.44%\n",
            "Model_2\n",
            "Progress: 0.00%\n",
            "Progress: 1.56%\n",
            "Progress: 3.12%\n",
            "Progress: 4.69%\n",
            "Progress: 6.25%\n",
            "Progress: 7.81%\n",
            "Progress: 9.38%\n",
            "Progress: 10.94%\n",
            "Progress: 12.50%\n",
            "Progress: 14.06%\n",
            "Progress: 15.62%\n",
            "Progress: 17.19%\n",
            "Progress: 18.75%\n",
            "Progress: 20.31%\n",
            "Progress: 21.88%\n",
            "Progress: 23.44%\n",
            "Progress: 25.00%\n",
            "Progress: 26.56%\n",
            "Progress: 28.12%\n",
            "Progress: 29.69%\n",
            "Progress: 31.25%\n",
            "Progress: 32.81%\n",
            "Progress: 34.38%\n",
            "Progress: 35.94%\n",
            "Progress: 37.50%\n",
            "Progress: 39.06%\n",
            "Progress: 40.62%\n",
            "Progress: 42.19%\n",
            "Progress: 43.75%\n",
            "Progress: 45.31%\n",
            "Progress: 46.88%\n",
            "Progress: 48.44%\n",
            "Progress: 50.00%\n",
            "Progress: 51.56%\n",
            "Progress: 53.12%\n",
            "Progress: 54.69%\n",
            "Progress: 56.25%\n",
            "Progress: 57.81%\n",
            "Progress: 59.38%\n",
            "Progress: 60.94%\n",
            "Progress: 62.50%\n",
            "Progress: 64.06%\n",
            "Progress: 65.62%\n",
            "Progress: 67.19%\n",
            "Progress: 68.75%\n",
            "Progress: 70.31%\n",
            "Progress: 71.88%\n",
            "Progress: 73.44%\n",
            "Progress: 75.00%\n",
            "Progress: 76.56%\n",
            "Progress: 78.12%\n",
            "Progress: 79.69%\n",
            "Progress: 81.25%\n",
            "Progress: 82.81%\n",
            "Progress: 84.38%\n",
            "Progress: 85.94%\n",
            "Progress: 87.50%\n",
            "Progress: 89.06%\n",
            "Progress: 90.62%\n",
            "Progress: 92.19%\n",
            "Progress: 93.75%\n",
            "Progress: 95.31%\n",
            "Progress: 96.88%\n",
            "Progress: 98.44%\n",
            "Model_3\n",
            "Progress: 0.00%\n",
            "Progress: 1.56%\n",
            "Progress: 3.12%\n",
            "Progress: 4.69%\n",
            "Progress: 6.25%\n",
            "Progress: 7.81%\n",
            "Progress: 9.38%\n",
            "Progress: 10.94%\n",
            "Progress: 12.50%\n",
            "Progress: 14.06%\n",
            "Progress: 15.62%\n",
            "Progress: 17.19%\n",
            "Progress: 18.75%\n",
            "Progress: 20.31%\n",
            "Progress: 21.88%\n",
            "Progress: 23.44%\n",
            "Progress: 25.00%\n",
            "Progress: 26.56%\n",
            "Progress: 28.12%\n",
            "Progress: 29.69%\n",
            "Progress: 31.25%\n",
            "Progress: 32.81%\n",
            "Progress: 34.38%\n",
            "Progress: 35.94%\n",
            "Progress: 37.50%\n",
            "Progress: 39.06%\n",
            "Progress: 40.62%\n",
            "Progress: 42.19%\n",
            "Progress: 43.75%\n",
            "Progress: 45.31%\n",
            "Progress: 46.88%\n",
            "Progress: 48.44%\n",
            "Progress: 50.00%\n",
            "Progress: 51.56%\n",
            "Progress: 53.12%\n",
            "Progress: 54.69%\n",
            "Progress: 56.25%\n",
            "Progress: 57.81%\n",
            "Progress: 59.38%\n",
            "Progress: 60.94%\n",
            "Progress: 62.50%\n",
            "Progress: 64.06%\n",
            "Progress: 65.62%\n",
            "Progress: 67.19%\n",
            "Progress: 68.75%\n",
            "Progress: 70.31%\n",
            "Progress: 71.88%\n",
            "Progress: 73.44%\n",
            "Progress: 75.00%\n",
            "Progress: 76.56%\n",
            "Progress: 78.12%\n",
            "Progress: 79.69%\n",
            "Progress: 81.25%\n",
            "Progress: 82.81%\n",
            "Progress: 84.38%\n",
            "Progress: 85.94%\n",
            "Progress: 87.50%\n",
            "Progress: 89.06%\n",
            "Progress: 90.62%\n",
            "Progress: 92.19%\n",
            "Progress: 93.75%\n",
            "Progress: 95.31%\n",
            "Progress: 96.88%\n",
            "Progress: 98.44%\n",
            "Model_4\n",
            "Progress: 0.00%\n",
            "Progress: 1.56%\n",
            "Progress: 3.12%\n",
            "Progress: 4.69%\n",
            "Progress: 6.25%\n",
            "Progress: 7.81%\n",
            "Progress: 9.38%\n",
            "Progress: 10.94%\n",
            "Progress: 12.50%\n",
            "Progress: 14.06%\n",
            "Progress: 15.62%\n",
            "Progress: 17.19%\n",
            "Progress: 18.75%\n",
            "Progress: 20.31%\n",
            "Progress: 21.88%\n",
            "Progress: 23.44%\n",
            "Progress: 25.00%\n",
            "Progress: 26.56%\n",
            "Progress: 28.12%\n",
            "Progress: 29.69%\n",
            "Progress: 31.25%\n",
            "Progress: 32.81%\n",
            "Progress: 34.38%\n",
            "Progress: 35.94%\n",
            "Progress: 37.50%\n",
            "Progress: 39.06%\n",
            "Progress: 40.62%\n",
            "Progress: 42.19%\n",
            "Progress: 43.75%\n",
            "Progress: 45.31%\n",
            "Progress: 46.88%\n",
            "Progress: 48.44%\n",
            "Progress: 50.00%\n",
            "Progress: 51.56%\n",
            "Progress: 53.12%\n",
            "Progress: 54.69%\n",
            "Progress: 56.25%\n",
            "Progress: 57.81%\n",
            "Progress: 59.38%\n",
            "Progress: 60.94%\n",
            "Progress: 62.50%\n",
            "Progress: 64.06%\n",
            "Progress: 65.62%\n",
            "Progress: 67.19%\n",
            "Progress: 68.75%\n",
            "Progress: 70.31%\n",
            "Progress: 71.88%\n",
            "Progress: 73.44%\n",
            "Progress: 75.00%\n",
            "Progress: 76.56%\n",
            "Progress: 78.12%\n",
            "Progress: 79.69%\n",
            "Progress: 81.25%\n",
            "Progress: 82.81%\n",
            "Progress: 84.38%\n",
            "Progress: 85.94%\n",
            "Progress: 87.50%\n",
            "Progress: 89.06%\n",
            "Progress: 90.62%\n",
            "Progress: 92.19%\n",
            "Progress: 93.75%\n",
            "Progress: 95.31%\n",
            "Progress: 96.88%\n",
            "Progress: 98.44%\n"
          ]
        }
      ]
    },
    {
      "cell_type": "code",
      "source": [
        "m1,m2,m3,m4 = model_results\n",
        "df_model_results = pd.concat([pd.DataFrame(m1), pd.DataFrame(m2), pd.DataFrame(m3), pd.DataFrame(m4)], axis = 1)\n",
        "df_BHs = pd.DataFrame(best_ds.BH.unique(), columns = ['BH'])\n",
        "df_symp_real = best_ds.groupby('BH').symp.first()\n",
        "df_model_results = pd.concat([df_BHs, df_model_results, df_symp_real.reset_index(drop = True)], axis = 1)\n",
        "df_model_results.round(2)\n",
        "\n",
        "\n",
        "#Download results in local \n",
        "from google.colab import files\n",
        "\n",
        "df_model_results.to_excel('SVC_leaveOneOut_ypred.xlsx')\n",
        "# download the file to your local PC\n",
        "files.download('SVC_leaveOneOut_ypred.xlsx')\n"
      ],
      "metadata": {
        "colab": {
          "base_uri": "https://localhost:8080/",
          "height": 17
        },
        "id": "T_WTIywme2nY",
        "outputId": "7ae5cbb9-11d2-4e29-cf36-c3ca282ad101"
      },
      "execution_count": null,
      "outputs": [
        {
          "output_type": "display_data",
          "data": {
            "text/plain": [
              "<IPython.core.display.Javascript object>"
            ],
            "application/javascript": [
              "\n",
              "    async function download(id, filename, size) {\n",
              "      if (!google.colab.kernel.accessAllowed) {\n",
              "        return;\n",
              "      }\n",
              "      const div = document.createElement('div');\n",
              "      const label = document.createElement('label');\n",
              "      label.textContent = `Downloading \"${filename}\": `;\n",
              "      div.appendChild(label);\n",
              "      const progress = document.createElement('progress');\n",
              "      progress.max = size;\n",
              "      div.appendChild(progress);\n",
              "      document.body.appendChild(div);\n",
              "\n",
              "      const buffers = [];\n",
              "      let downloaded = 0;\n",
              "\n",
              "      const channel = await google.colab.kernel.comms.open(id);\n",
              "      // Send a message to notify the kernel that we're ready.\n",
              "      channel.send({})\n",
              "\n",
              "      for await (const message of channel.messages) {\n",
              "        // Send a message to notify the kernel that we're ready.\n",
              "        channel.send({})\n",
              "        if (message.buffers) {\n",
              "          for (const buffer of message.buffers) {\n",
              "            buffers.push(buffer);\n",
              "            downloaded += buffer.byteLength;\n",
              "            progress.value = downloaded;\n",
              "          }\n",
              "        }\n",
              "      }\n",
              "      const blob = new Blob(buffers, {type: 'application/binary'});\n",
              "      const a = document.createElement('a');\n",
              "      a.href = window.URL.createObjectURL(blob);\n",
              "      a.download = filename;\n",
              "      div.appendChild(a);\n",
              "      a.click();\n",
              "      div.remove();\n",
              "    }\n",
              "  "
            ]
          },
          "metadata": {}
        },
        {
          "output_type": "display_data",
          "data": {
            "text/plain": [
              "<IPython.core.display.Javascript object>"
            ],
            "application/javascript": [
              "download(\"download_114a16ef-dfc8-4857-a289-3af76ba4ca2d\", \"SVC_leaveOneOut_ypred.xlsx\", 8659)"
            ]
          },
          "metadata": {}
        }
      ]
    },
    {
      "cell_type": "code",
      "source": [
        "df_model_results #in percentage"
      ],
      "metadata": {
        "colab": {
          "base_uri": "https://localhost:8080/",
          "height": 423
        },
        "id": "5LGzDy34bnY9",
        "outputId": "dc02b088-89b0-4b8a-d356-b7a3661cc582"
      },
      "execution_count": null,
      "outputs": [
        {
          "output_type": "execute_result",
          "data": {
            "text/plain": [
              "     BH    Model_1    Model_2    Model_3    Model_4  symp\n",
              "0     1  10.473815   2.244389   1.745636   0.249377     0\n",
              "1     2  18.518519  20.138889  21.759259  13.194444     0\n",
              "2     3   4.047619  32.142857  45.000000   1.428571     1\n",
              "3     4   0.000000   0.000000   0.000000   0.000000     0\n",
              "4     5   7.317073  23.503326  26.385809   4.212860     0\n",
              "..  ...        ...        ...        ...        ...   ...\n",
              "59  105  59.423503  50.776053  12.416851   1.552106     0\n",
              "60  106  15.217391  52.173913  46.135266   7.004831     0\n",
              "61  107  16.509434  11.320755   4.245283   3.066038     0\n",
              "62  108   9.052632   0.000000   0.000000   0.000000     0\n",
              "63  110   3.526448   3.526448   3.274559   0.000000     0\n",
              "\n",
              "[64 rows x 6 columns]"
            ],
            "text/html": [
              "\n",
              "  <div id=\"df-65613e9f-9dda-4209-b9ae-d5f2b1118396\">\n",
              "    <div class=\"colab-df-container\">\n",
              "      <div>\n",
              "<style scoped>\n",
              "    .dataframe tbody tr th:only-of-type {\n",
              "        vertical-align: middle;\n",
              "    }\n",
              "\n",
              "    .dataframe tbody tr th {\n",
              "        vertical-align: top;\n",
              "    }\n",
              "\n",
              "    .dataframe thead th {\n",
              "        text-align: right;\n",
              "    }\n",
              "</style>\n",
              "<table border=\"1\" class=\"dataframe\">\n",
              "  <thead>\n",
              "    <tr style=\"text-align: right;\">\n",
              "      <th></th>\n",
              "      <th>BH</th>\n",
              "      <th>Model_1</th>\n",
              "      <th>Model_2</th>\n",
              "      <th>Model_3</th>\n",
              "      <th>Model_4</th>\n",
              "      <th>symp</th>\n",
              "    </tr>\n",
              "  </thead>\n",
              "  <tbody>\n",
              "    <tr>\n",
              "      <th>0</th>\n",
              "      <td>1</td>\n",
              "      <td>10.473815</td>\n",
              "      <td>2.244389</td>\n",
              "      <td>1.745636</td>\n",
              "      <td>0.249377</td>\n",
              "      <td>0</td>\n",
              "    </tr>\n",
              "    <tr>\n",
              "      <th>1</th>\n",
              "      <td>2</td>\n",
              "      <td>18.518519</td>\n",
              "      <td>20.138889</td>\n",
              "      <td>21.759259</td>\n",
              "      <td>13.194444</td>\n",
              "      <td>0</td>\n",
              "    </tr>\n",
              "    <tr>\n",
              "      <th>2</th>\n",
              "      <td>3</td>\n",
              "      <td>4.047619</td>\n",
              "      <td>32.142857</td>\n",
              "      <td>45.000000</td>\n",
              "      <td>1.428571</td>\n",
              "      <td>1</td>\n",
              "    </tr>\n",
              "    <tr>\n",
              "      <th>3</th>\n",
              "      <td>4</td>\n",
              "      <td>0.000000</td>\n",
              "      <td>0.000000</td>\n",
              "      <td>0.000000</td>\n",
              "      <td>0.000000</td>\n",
              "      <td>0</td>\n",
              "    </tr>\n",
              "    <tr>\n",
              "      <th>4</th>\n",
              "      <td>5</td>\n",
              "      <td>7.317073</td>\n",
              "      <td>23.503326</td>\n",
              "      <td>26.385809</td>\n",
              "      <td>4.212860</td>\n",
              "      <td>0</td>\n",
              "    </tr>\n",
              "    <tr>\n",
              "      <th>...</th>\n",
              "      <td>...</td>\n",
              "      <td>...</td>\n",
              "      <td>...</td>\n",
              "      <td>...</td>\n",
              "      <td>...</td>\n",
              "      <td>...</td>\n",
              "    </tr>\n",
              "    <tr>\n",
              "      <th>59</th>\n",
              "      <td>105</td>\n",
              "      <td>59.423503</td>\n",
              "      <td>50.776053</td>\n",
              "      <td>12.416851</td>\n",
              "      <td>1.552106</td>\n",
              "      <td>0</td>\n",
              "    </tr>\n",
              "    <tr>\n",
              "      <th>60</th>\n",
              "      <td>106</td>\n",
              "      <td>15.217391</td>\n",
              "      <td>52.173913</td>\n",
              "      <td>46.135266</td>\n",
              "      <td>7.004831</td>\n",
              "      <td>0</td>\n",
              "    </tr>\n",
              "    <tr>\n",
              "      <th>61</th>\n",
              "      <td>107</td>\n",
              "      <td>16.509434</td>\n",
              "      <td>11.320755</td>\n",
              "      <td>4.245283</td>\n",
              "      <td>3.066038</td>\n",
              "      <td>0</td>\n",
              "    </tr>\n",
              "    <tr>\n",
              "      <th>62</th>\n",
              "      <td>108</td>\n",
              "      <td>9.052632</td>\n",
              "      <td>0.000000</td>\n",
              "      <td>0.000000</td>\n",
              "      <td>0.000000</td>\n",
              "      <td>0</td>\n",
              "    </tr>\n",
              "    <tr>\n",
              "      <th>63</th>\n",
              "      <td>110</td>\n",
              "      <td>3.526448</td>\n",
              "      <td>3.526448</td>\n",
              "      <td>3.274559</td>\n",
              "      <td>0.000000</td>\n",
              "      <td>0</td>\n",
              "    </tr>\n",
              "  </tbody>\n",
              "</table>\n",
              "<p>64 rows × 6 columns</p>\n",
              "</div>\n",
              "      <button class=\"colab-df-convert\" onclick=\"convertToInteractive('df-65613e9f-9dda-4209-b9ae-d5f2b1118396')\"\n",
              "              title=\"Convert this dataframe to an interactive table.\"\n",
              "              style=\"display:none;\">\n",
              "        \n",
              "  <svg xmlns=\"http://www.w3.org/2000/svg\" height=\"24px\"viewBox=\"0 0 24 24\"\n",
              "       width=\"24px\">\n",
              "    <path d=\"M0 0h24v24H0V0z\" fill=\"none\"/>\n",
              "    <path d=\"M18.56 5.44l.94 2.06.94-2.06 2.06-.94-2.06-.94-.94-2.06-.94 2.06-2.06.94zm-11 1L8.5 8.5l.94-2.06 2.06-.94-2.06-.94L8.5 2.5l-.94 2.06-2.06.94zm10 10l.94 2.06.94-2.06 2.06-.94-2.06-.94-.94-2.06-.94 2.06-2.06.94z\"/><path d=\"M17.41 7.96l-1.37-1.37c-.4-.4-.92-.59-1.43-.59-.52 0-1.04.2-1.43.59L10.3 9.45l-7.72 7.72c-.78.78-.78 2.05 0 2.83L4 21.41c.39.39.9.59 1.41.59.51 0 1.02-.2 1.41-.59l7.78-7.78 2.81-2.81c.8-.78.8-2.07 0-2.86zM5.41 20L4 18.59l7.72-7.72 1.47 1.35L5.41 20z\"/>\n",
              "  </svg>\n",
              "      </button>\n",
              "      \n",
              "  <style>\n",
              "    .colab-df-container {\n",
              "      display:flex;\n",
              "      flex-wrap:wrap;\n",
              "      gap: 12px;\n",
              "    }\n",
              "\n",
              "    .colab-df-convert {\n",
              "      background-color: #E8F0FE;\n",
              "      border: none;\n",
              "      border-radius: 50%;\n",
              "      cursor: pointer;\n",
              "      display: none;\n",
              "      fill: #1967D2;\n",
              "      height: 32px;\n",
              "      padding: 0 0 0 0;\n",
              "      width: 32px;\n",
              "    }\n",
              "\n",
              "    .colab-df-convert:hover {\n",
              "      background-color: #E2EBFA;\n",
              "      box-shadow: 0px 1px 2px rgba(60, 64, 67, 0.3), 0px 1px 3px 1px rgba(60, 64, 67, 0.15);\n",
              "      fill: #174EA6;\n",
              "    }\n",
              "\n",
              "    [theme=dark] .colab-df-convert {\n",
              "      background-color: #3B4455;\n",
              "      fill: #D2E3FC;\n",
              "    }\n",
              "\n",
              "    [theme=dark] .colab-df-convert:hover {\n",
              "      background-color: #434B5C;\n",
              "      box-shadow: 0px 1px 3px 1px rgba(0, 0, 0, 0.15);\n",
              "      filter: drop-shadow(0px 1px 2px rgba(0, 0, 0, 0.3));\n",
              "      fill: #FFFFFF;\n",
              "    }\n",
              "  </style>\n",
              "\n",
              "      <script>\n",
              "        const buttonEl =\n",
              "          document.querySelector('#df-65613e9f-9dda-4209-b9ae-d5f2b1118396 button.colab-df-convert');\n",
              "        buttonEl.style.display =\n",
              "          google.colab.kernel.accessAllowed ? 'block' : 'none';\n",
              "\n",
              "        async function convertToInteractive(key) {\n",
              "          const element = document.querySelector('#df-65613e9f-9dda-4209-b9ae-d5f2b1118396');\n",
              "          const dataTable =\n",
              "            await google.colab.kernel.invokeFunction('convertToInteractive',\n",
              "                                                     [key], {});\n",
              "          if (!dataTable) return;\n",
              "\n",
              "          const docLinkHtml = 'Like what you see? Visit the ' +\n",
              "            '<a target=\"_blank\" href=https://colab.research.google.com/notebooks/data_table.ipynb>data table notebook</a>'\n",
              "            + ' to learn more about interactive tables.';\n",
              "          element.innerHTML = '';\n",
              "          dataTable['output_type'] = 'display_data';\n",
              "          await google.colab.output.renderOutput(dataTable, element);\n",
              "          const docLink = document.createElement('div');\n",
              "          docLink.innerHTML = docLinkHtml;\n",
              "          element.appendChild(docLink);\n",
              "        }\n",
              "      </script>\n",
              "    </div>\n",
              "  </div>\n",
              "  "
            ]
          },
          "metadata": {},
          "execution_count": 86
        }
      ]
    },
    {
      "cell_type": "code",
      "source": [
        "y_pred_models = df_model_results.iloc[:,1:5] >= 50 \n",
        "y_pred_models = y_pred_models.astype(int)\n",
        "y_pred_models"
      ],
      "metadata": {
        "colab": {
          "base_uri": "https://localhost:8080/",
          "height": 423
        },
        "id": "Ys-16DbOb0Bp",
        "outputId": "395b0f4f-7718-46d1-cb0d-aa1d920254f1"
      },
      "execution_count": null,
      "outputs": [
        {
          "output_type": "execute_result",
          "data": {
            "text/plain": [
              "    Model_1  Model_2  Model_3  Model_4\n",
              "0         0        0        0        0\n",
              "1         0        0        0        0\n",
              "2         0        0        0        0\n",
              "3         0        0        0        0\n",
              "4         0        0        0        0\n",
              "..      ...      ...      ...      ...\n",
              "59        1        1        0        0\n",
              "60        0        1        0        0\n",
              "61        0        0        0        0\n",
              "62        0        0        0        0\n",
              "63        0        0        0        0\n",
              "\n",
              "[64 rows x 4 columns]"
            ],
            "text/html": [
              "\n",
              "  <div id=\"df-ebd1d049-0d65-40f8-8103-ff9140002d7d\">\n",
              "    <div class=\"colab-df-container\">\n",
              "      <div>\n",
              "<style scoped>\n",
              "    .dataframe tbody tr th:only-of-type {\n",
              "        vertical-align: middle;\n",
              "    }\n",
              "\n",
              "    .dataframe tbody tr th {\n",
              "        vertical-align: top;\n",
              "    }\n",
              "\n",
              "    .dataframe thead th {\n",
              "        text-align: right;\n",
              "    }\n",
              "</style>\n",
              "<table border=\"1\" class=\"dataframe\">\n",
              "  <thead>\n",
              "    <tr style=\"text-align: right;\">\n",
              "      <th></th>\n",
              "      <th>Model_1</th>\n",
              "      <th>Model_2</th>\n",
              "      <th>Model_3</th>\n",
              "      <th>Model_4</th>\n",
              "    </tr>\n",
              "  </thead>\n",
              "  <tbody>\n",
              "    <tr>\n",
              "      <th>0</th>\n",
              "      <td>0</td>\n",
              "      <td>0</td>\n",
              "      <td>0</td>\n",
              "      <td>0</td>\n",
              "    </tr>\n",
              "    <tr>\n",
              "      <th>1</th>\n",
              "      <td>0</td>\n",
              "      <td>0</td>\n",
              "      <td>0</td>\n",
              "      <td>0</td>\n",
              "    </tr>\n",
              "    <tr>\n",
              "      <th>2</th>\n",
              "      <td>0</td>\n",
              "      <td>0</td>\n",
              "      <td>0</td>\n",
              "      <td>0</td>\n",
              "    </tr>\n",
              "    <tr>\n",
              "      <th>3</th>\n",
              "      <td>0</td>\n",
              "      <td>0</td>\n",
              "      <td>0</td>\n",
              "      <td>0</td>\n",
              "    </tr>\n",
              "    <tr>\n",
              "      <th>4</th>\n",
              "      <td>0</td>\n",
              "      <td>0</td>\n",
              "      <td>0</td>\n",
              "      <td>0</td>\n",
              "    </tr>\n",
              "    <tr>\n",
              "      <th>...</th>\n",
              "      <td>...</td>\n",
              "      <td>...</td>\n",
              "      <td>...</td>\n",
              "      <td>...</td>\n",
              "    </tr>\n",
              "    <tr>\n",
              "      <th>59</th>\n",
              "      <td>1</td>\n",
              "      <td>1</td>\n",
              "      <td>0</td>\n",
              "      <td>0</td>\n",
              "    </tr>\n",
              "    <tr>\n",
              "      <th>60</th>\n",
              "      <td>0</td>\n",
              "      <td>1</td>\n",
              "      <td>0</td>\n",
              "      <td>0</td>\n",
              "    </tr>\n",
              "    <tr>\n",
              "      <th>61</th>\n",
              "      <td>0</td>\n",
              "      <td>0</td>\n",
              "      <td>0</td>\n",
              "      <td>0</td>\n",
              "    </tr>\n",
              "    <tr>\n",
              "      <th>62</th>\n",
              "      <td>0</td>\n",
              "      <td>0</td>\n",
              "      <td>0</td>\n",
              "      <td>0</td>\n",
              "    </tr>\n",
              "    <tr>\n",
              "      <th>63</th>\n",
              "      <td>0</td>\n",
              "      <td>0</td>\n",
              "      <td>0</td>\n",
              "      <td>0</td>\n",
              "    </tr>\n",
              "  </tbody>\n",
              "</table>\n",
              "<p>64 rows × 4 columns</p>\n",
              "</div>\n",
              "      <button class=\"colab-df-convert\" onclick=\"convertToInteractive('df-ebd1d049-0d65-40f8-8103-ff9140002d7d')\"\n",
              "              title=\"Convert this dataframe to an interactive table.\"\n",
              "              style=\"display:none;\">\n",
              "        \n",
              "  <svg xmlns=\"http://www.w3.org/2000/svg\" height=\"24px\"viewBox=\"0 0 24 24\"\n",
              "       width=\"24px\">\n",
              "    <path d=\"M0 0h24v24H0V0z\" fill=\"none\"/>\n",
              "    <path d=\"M18.56 5.44l.94 2.06.94-2.06 2.06-.94-2.06-.94-.94-2.06-.94 2.06-2.06.94zm-11 1L8.5 8.5l.94-2.06 2.06-.94-2.06-.94L8.5 2.5l-.94 2.06-2.06.94zm10 10l.94 2.06.94-2.06 2.06-.94-2.06-.94-.94-2.06-.94 2.06-2.06.94z\"/><path d=\"M17.41 7.96l-1.37-1.37c-.4-.4-.92-.59-1.43-.59-.52 0-1.04.2-1.43.59L10.3 9.45l-7.72 7.72c-.78.78-.78 2.05 0 2.83L4 21.41c.39.39.9.59 1.41.59.51 0 1.02-.2 1.41-.59l7.78-7.78 2.81-2.81c.8-.78.8-2.07 0-2.86zM5.41 20L4 18.59l7.72-7.72 1.47 1.35L5.41 20z\"/>\n",
              "  </svg>\n",
              "      </button>\n",
              "      \n",
              "  <style>\n",
              "    .colab-df-container {\n",
              "      display:flex;\n",
              "      flex-wrap:wrap;\n",
              "      gap: 12px;\n",
              "    }\n",
              "\n",
              "    .colab-df-convert {\n",
              "      background-color: #E8F0FE;\n",
              "      border: none;\n",
              "      border-radius: 50%;\n",
              "      cursor: pointer;\n",
              "      display: none;\n",
              "      fill: #1967D2;\n",
              "      height: 32px;\n",
              "      padding: 0 0 0 0;\n",
              "      width: 32px;\n",
              "    }\n",
              "\n",
              "    .colab-df-convert:hover {\n",
              "      background-color: #E2EBFA;\n",
              "      box-shadow: 0px 1px 2px rgba(60, 64, 67, 0.3), 0px 1px 3px 1px rgba(60, 64, 67, 0.15);\n",
              "      fill: #174EA6;\n",
              "    }\n",
              "\n",
              "    [theme=dark] .colab-df-convert {\n",
              "      background-color: #3B4455;\n",
              "      fill: #D2E3FC;\n",
              "    }\n",
              "\n",
              "    [theme=dark] .colab-df-convert:hover {\n",
              "      background-color: #434B5C;\n",
              "      box-shadow: 0px 1px 3px 1px rgba(0, 0, 0, 0.15);\n",
              "      filter: drop-shadow(0px 1px 2px rgba(0, 0, 0, 0.3));\n",
              "      fill: #FFFFFF;\n",
              "    }\n",
              "  </style>\n",
              "\n",
              "      <script>\n",
              "        const buttonEl =\n",
              "          document.querySelector('#df-ebd1d049-0d65-40f8-8103-ff9140002d7d button.colab-df-convert');\n",
              "        buttonEl.style.display =\n",
              "          google.colab.kernel.accessAllowed ? 'block' : 'none';\n",
              "\n",
              "        async function convertToInteractive(key) {\n",
              "          const element = document.querySelector('#df-ebd1d049-0d65-40f8-8103-ff9140002d7d');\n",
              "          const dataTable =\n",
              "            await google.colab.kernel.invokeFunction('convertToInteractive',\n",
              "                                                     [key], {});\n",
              "          if (!dataTable) return;\n",
              "\n",
              "          const docLinkHtml = 'Like what you see? Visit the ' +\n",
              "            '<a target=\"_blank\" href=https://colab.research.google.com/notebooks/data_table.ipynb>data table notebook</a>'\n",
              "            + ' to learn more about interactive tables.';\n",
              "          element.innerHTML = '';\n",
              "          dataTable['output_type'] = 'display_data';\n",
              "          await google.colab.output.renderOutput(dataTable, element);\n",
              "          const docLink = document.createElement('div');\n",
              "          docLink.innerHTML = docLinkHtml;\n",
              "          element.appendChild(docLink);\n",
              "        }\n",
              "      </script>\n",
              "    </div>\n",
              "  </div>\n",
              "  "
            ]
          },
          "metadata": {},
          "execution_count": 92
        }
      ]
    },
    {
      "cell_type": "code",
      "source": [
        "for model in y_pred_models.columns:\n",
        "  print(model)\n",
        "  print('------------------------------------\\n')\n",
        "  y_pred = y_pred_models[model].values\n",
        "  y_real = df_model_results.symp\n",
        "  #confusion matrix\n",
        "  labels_str= [0,1]\n",
        "\n",
        "  cm = confusion_matrix(y_real, y_pred, labels= labels_str)\n",
        "  cm_fig = ConfusionMatrixDisplay(confusion_matrix=cm,\n",
        "                                 display_labels=labels_str)\n",
        "  cm_fig.plot()\n",
        "\n",
        "  plt.show()\n",
        "\n",
        "  tn, fp, fn, tp = cm.ravel()\n",
        "\n",
        "  # compute sensitivity and specificity\n",
        "  sensitivity = tp / (tp + fn)\n",
        "  specificity = tn / (tn + fp)\n",
        "  print('AUC roc: ' , roc_auc_score(y_real,y_pred))\n",
        "  print('Sensitivity: {:.3f} %'.format(sensitivity*100))\n",
        "  print('Specificity: {:.3f} %'.format(specificity*100))\n",
        "\n",
        "  target_names = ['Asymptomatic (0)', 'Symptomatic (1)']\n",
        "  print(classification_report(y_real, y_pred, target_names=target_names))\n"
      ],
      "metadata": {
        "colab": {
          "base_uri": "https://localhost:8080/",
          "height": 1000
        },
        "id": "ZusEQ13tcZ0K",
        "outputId": "7efc817d-f69b-487b-820a-0bae866a4c44"
      },
      "execution_count": null,
      "outputs": [
        {
          "output_type": "stream",
          "name": "stdout",
          "text": [
            "Model_1\n",
            "------------------------------------\n",
            "\n"
          ]
        },
        {
          "output_type": "display_data",
          "data": {
            "text/plain": [
              "<Figure size 640x480 with 2 Axes>"
            ],
            "image/png": "[encoded data removed]"
          },
          "metadata": {}
        },
        {
          "output_type": "stream",
          "name": "stdout",
          "text": [
            "AUC roc:  0.4481481481481482\n",
            "Sensitivity: 10.000 %\n",
            "Specificity: 79.630 %\n",
            "                  precision    recall  f1-score   support\n",
            "\n",
            "Asymptomatic (0)       0.83      0.80      0.81        54\n",
            " Symptomatic (1)       0.08      0.10      0.09        10\n",
            "\n",
            "        accuracy                           0.69        64\n",
            "       macro avg       0.46      0.45      0.45        64\n",
            "    weighted avg       0.71      0.69      0.70        64\n",
            "\n",
            "Model_2\n",
            "------------------------------------\n",
            "\n"
          ]
        },
        {
          "output_type": "display_data",
          "data": {
            "text/plain": [
              "<Figure size 640x480 with 2 Axes>"
            ],
            "image/png": "[encoded data removed]"
          },
          "metadata": {}
        },
        {
          "output_type": "stream",
          "name": "stdout",
          "text": [
            "AUC roc:  0.4351851851851852\n",
            "Sensitivity: 0.000 %\n",
            "Specificity: 87.037 %\n",
            "                  precision    recall  f1-score   support\n",
            "\n",
            "Asymptomatic (0)       0.82      0.87      0.85        54\n",
            " Symptomatic (1)       0.00      0.00      0.00        10\n",
            "\n",
            "        accuracy                           0.73        64\n",
            "       macro avg       0.41      0.44      0.42        64\n",
            "    weighted avg       0.70      0.73      0.71        64\n",
            "\n",
            "Model_3\n",
            "------------------------------------\n",
            "\n"
          ]
        },
        {
          "output_type": "display_data",
          "data": {
            "text/plain": [
              "<Figure size 640x480 with 2 Axes>"
            ],
            "image/png": "[encoded data removed]"
          },
          "metadata": {}
        },
        {
          "output_type": "stream",
          "name": "stdout",
          "text": [
            "AUC roc:  0.4722222222222222\n",
            "Sensitivity: 0.000 %\n",
            "Specificity: 94.444 %\n",
            "                  precision    recall  f1-score   support\n",
            "\n",
            "Asymptomatic (0)       0.84      0.94      0.89        54\n",
            " Symptomatic (1)       0.00      0.00      0.00        10\n",
            "\n",
            "        accuracy                           0.80        64\n",
            "       macro avg       0.42      0.47      0.44        64\n",
            "    weighted avg       0.71      0.80      0.75        64\n",
            "\n",
            "Model_4\n",
            "------------------------------------\n",
            "\n"
          ]
        },
        {
          "output_type": "display_data",
          "data": {
            "text/plain": [
              "<Figure size 640x480 with 2 Axes>"
            ],
            "image/png": "[encoded data removed]"
          },
          "metadata": {}
        },
        {
          "output_type": "stream",
          "name": "stdout",
          "text": [
            "AUC roc:  0.5314814814814816\n",
            "Sensitivity: 10.000 %\n",
            "Specificity: 96.296 %\n",
            "                  precision    recall  f1-score   support\n",
            "\n",
            "Asymptomatic (0)       0.85      0.96      0.90        54\n",
            " Symptomatic (1)       0.33      0.10      0.15        10\n",
            "\n",
            "        accuracy                           0.83        64\n",
            "       macro avg       0.59      0.53      0.53        64\n",
            "    weighted avg       0.77      0.83      0.79        64\n",
            "\n"
          ]
        }
      ]
    }
  ],
  "metadata": {
    "colab": {
      "provenance": [],
      "authorship_tag": "ABX9TyMT+qvl8CHEU0QHIWZgvB+q",
      "include_colab_link": true
    },
    "kernelspec": {
      "display_name": "Python 3",
      "name": "python3"
    },
    "language_info": {
      "name": "python"
    }
  },
  "nbformat": 4,
  "nbformat_minor": 0
}