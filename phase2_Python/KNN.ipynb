{
  "cells": [
    {
      "cell_type": "markdown",
      "metadata": {
        "id": "view-in-github",
        "colab_type": "text"
      },
      "source": [
        "<a href=\"https://colab.research.google.com/github/alvaroleva/TFG_collabs/blob/main/KNN.ipynb\" target=\"_parent\"><img src=\"https://colab.research.google.com/assets/colab-badge.svg\" alt=\"Open In Colab\"/></a>"
      ]
    },
    {
      "cell_type": "markdown",
      "metadata": {
        "id": "T-kAExHJbdmg"
      },
      "source": [
        "# **KNN classifier on different datasets**\n",
        "\n",
        "\n",
        "This script will utlimately try to find the best KNN model performing hyperparameter tunning with GridSearch on different datasets:\n",
        "\n",
        "* **All the biomarkers**: all the 120 ECG-derived markers. \n",
        "\n",
        "* **Dataset 1**: best biomarkers (Correlation + Decision Trees + Univariate selection).\n",
        "* **Dataseet 2**: best biomarkers + clinical data.\n",
        "* **Dataset 3**: 5 best biomarkers for each lead (based on correlation).\n",
        "* **Dataset 4**: 5 best biomarkers for each lead (based on correlation) + clinical data. \n",
        "* **Dataset 5**: 30 best biomarkers based only on univariate selection (SelectKBest).\n",
        "* **Dataset 6**: 30 best biomarkers based only on Tree Classifier approach.\n",
        "\n"
      ]
    },
    {
      "cell_type": "markdown",
      "metadata": {
        "id": "8EdHnALccI7y"
      },
      "source": [
        "Import needed libraries"
      ]
    },
    {
      "cell_type": "code",
      "execution_count": null,
      "metadata": {
        "id": "jRCG4RqHbYPO"
      },
      "outputs": [],
      "source": [
        "#Basic libraries\n",
        "import pandas as pd\n",
        "import numpy as np\n",
        "import matplotlib.pyplot as plt\n",
        "#Machine Learning\n",
        "from sklearn.neighbors import KNeighborsClassifier\n",
        "from sklearn.model_selection import GridSearchCV,StratifiedKFold\n",
        "from sklearn.metrics import confusion_matrix, ConfusionMatrixDisplay, classification_report, accuracy_score, roc_auc_score,recall_score\n",
        "from sklearn.model_selection import cross_val_score\n",
        "from collections import Counter\n",
        "from sklearn.pipeline import make_pipeline\n",
        "from sklearn.preprocessing import StandardScaler"
      ]
    },
    {
      "cell_type": "markdown",
      "metadata": {
        "id": "csWDRRZOQ3cq"
      },
      "source": [
        "## 0A. Import Data: all the final **biomarkers** (after KNN imputation) and **clinical** variables\n",
        "\n",
        "> Last result from [p02_FeatureSelection_DataVisualization](https://colab.research.google.com/drive/1ebdLWv-O7FurtHxEVpgi4ute8-b-gOSn#scrollTo=NxjMCC3QwbGC)"
      ]
    },
    {
      "cell_type": "code",
      "execution_count": null,
      "metadata": {
        "colab": {
          "base_uri": "https://localhost:8080/"
        },
        "id": "Tphs_S5EQ2vp",
        "outputId": "57662050-e1dc-4ef4-c1de-170ef4b95368"
      },
      "outputs": [
        {
          "output_type": "stream",
          "name": "stdout",
          "text": [
            "Original dataset shape: (26304, 131)\n"
          ]
        }
      ],
      "source": [
        "#Code needed to import the Data from GoogleDrive\n",
        "from google.colab import files\n",
        "from pydrive.auth import GoogleAuth \n",
        "from pydrive.drive import GoogleDrive \n",
        "from google.colab import auth \n",
        "from oauth2client.client import GoogleCredentials\n",
        "\n",
        "auth.authenticate_user() \n",
        "gauth = GoogleAuth() \n",
        "gauth.credentials = GoogleCredentials.get_application_default() \n",
        "drive = GoogleDrive(gauth)\n",
        "\n",
        "X_bmkclc_url = 'https://docs.google.com/spreadsheets/d/1Md6cxfAp4_AMZlBhSHQtWj_iXljjc7o8/edit?usp=share_link&ouid=111241553451068058703&rtpof=true&sd=true'\n",
        "id = X_bmkclc_url.split(\"/\")[-2] #get ID\n",
        "downloaded = drive.CreateFile({'id':id}) #download from ID\n",
        "downloaded.GetContentFile('X_bmkclc.xlsx') #Get the file in the Colab working directory\n",
        "\n",
        "#load all the merged data\n",
        "X_bmkclc = pd.read_excel('X_bmkclc.xlsx', index_col = 0)\n",
        "X_bmkclc = X_bmkclc.reset_index(drop=True)\n",
        "print('Original dataset shape: {}'.format(X_bmkclc.shape))"
      ]
    },
    {
      "cell_type": "markdown",
      "metadata": {
        "id": "EDmkfXTqQRE9"
      },
      "source": [
        "## 0B. Define the custom functions to split the beats data according to BHs. \n"
      ]
    },
    {
      "cell_type": "code",
      "execution_count": null,
      "metadata": {
        "id": "H-NAS3AIQQEx"
      },
      "outputs": [],
      "source": [
        "def train_test_split_BH(data_BHsymp, rnd_state, test_siz = None, figures = 1):\n",
        "    \"\"\"\n",
        "    Performs a stratified patient partition and returns the corresponding beat selection for train and test datasets. \n",
        "    \n",
        "    INPUT ARGUMENTS:\n",
        "    ## Data ##\n",
        "    - data_BHsymp: a pandas dataframe with all the independent variables (biomarkers), the'BH' (patient BH code) \n",
        "    and the 'symp'target variable (1: symptomatic / 0: asymptomatic). Each row correspond to a beat. \n",
        "    *Note: the 'BH' and 'symp' column names must be respected. \n",
        "\n",
        "    ## train_test_split parameters ##\n",
        "    -rnd_state = random_state\n",
        "    -strat = stratify (takes y_BH by default)\n",
        "    -test_siz = percentage from 0.0 to 1.0 of patients for test. If None, by default is taken as 25%.  \n",
        "   \n",
        "    Source: https://scikit-learn.org/stable/modules/generated/sklearn.model_selection.train_test_split.html\n",
        "   \n",
        "    ## figures ##\n",
        "    -figures = binary number indicating if pie charts are displayed (1: show / 0: hide). Showed by \n",
        "    default (figures = 1). \n",
        "    \n",
        "    OUTPUT ARGUMENTS:\n",
        "    -X_train = biomarkers for train (independent variables)\n",
        "    -X_test  = biomarkers for test  (independent variables)\n",
        "    -y_train = labels for train (target variable 'symp')\n",
        "    -y_test  = labels for test  (target variable 'symp')\n",
        "\n",
        "    *Returned in the following order X_train,X_test,y_train, y_test. \n",
        "\n",
        "    \"\"\"\n",
        "    \n",
        "    #Import train_test_split from sklearn\n",
        "    from sklearn.model_selection import train_test_split\n",
        "\n",
        "    #Define a dataframe with the all the BHs and their symp condition\n",
        "    BH_symp   = data_BHsymp.groupby('BH').symp.first()\n",
        "    BH_symp = pd.DataFrame(BH_symp.reset_index(drop = False)) #transform it to df\n",
        "\n",
        "    #Split the BH PATIENTS in train and test \n",
        "    X_BH = BH_symp.BH   #a pandas Series with the BH numbers.\n",
        "    y_BH = BH_symp.symp #the corresponding Series with the symptomatic condition of each BH (1: sympt / 0: asympt)\n",
        "\n",
        "\n",
        "    XBH_train, XBH_test, yBH_train, yBH_test = train_test_split(X_BH, y_BH, \n",
        "        random_state= rnd_state, stratify = y_BH , test_size = test_siz) #perform the split\n",
        "    \n",
        "    if figures:\n",
        "        print('*BH patient train-test split\\n---------------------------\\n')\n",
        "        print(\"Train patients: {:.2f}% | 0: {} | 1: {}\".format(len(XBH_train) / len(X_BH)*100, \n",
        "                                                        yBH_train.value_counts()[0],\n",
        "                                                        yBH_train.value_counts()[1]      ))\n",
        "\n",
        "        print(\"Test patients:  {:.2f}% | 0: {} | 1: {}\".format(len(XBH_test) / len(X_BH)*100, \n",
        "                                                        yBH_test.value_counts()[0],\n",
        "                                                        yBH_test.value_counts()[1]   ))\n",
        "        \n",
        "        import plotly.express as px\n",
        "        #See train-test overall percentage\n",
        "        fig = px.pie(values= [len(XBH_train), len(XBH_test)],  names = ['Train', 'Test'], width = 400, height = 400, title = 'Train-test BH patient split')\n",
        "        fig.show()\n",
        "\n",
        "\n",
        "        #See symp percentages in train\n",
        "        fig = px.pie(values= yBH_train.value_counts(),  names = ['Asymptomatic', 'Symptomatic'], width = 400, height = 400, title = 'TRAIN: Symptomatic vs Asymptomatic patients')\n",
        "        fig.show()\n",
        "\n",
        "        #See symp percentages in test\n",
        "        fig = px.pie(values= yBH_test.value_counts(),  names = ['Asymptomatic', 'Symptomatic'], width = 400, height = 400, title = 'TEST: Symptomatic vs Asymptomatic patients')\n",
        "        fig.show()\n",
        "    \n",
        "\n",
        "    #TAKE the beats corresponding to the BH train-test split\n",
        "    #Select all the beats for Train\n",
        "    X_train = data_BHsymp[data_BHsymp.BH.isin(XBH_train)]      #biomarkers\n",
        "    y_train = data_BHsymp[data_BHsymp.BH.isin(XBH_train)].symp #labels\n",
        "    #Select all the beats for Test\n",
        "    X_test = data_BHsymp[data_BHsymp.BH.isin(XBH_test)]        #biomarkers\n",
        "    y_test = data_BHsymp[data_BHsymp.BH.isin(XBH_test)].symp   #labels\n",
        "\n",
        "    #Reset the indexes\n",
        "    X_train = X_train.reset_index(drop = True)\n",
        "    X_test  = X_test.reset_index(drop = True)\n",
        "    y_train = y_train.reset_index(drop = True)\n",
        "    y_test  = y_test.reset_index(drop = True)\n",
        "    \n",
        "    X_train_wBH_Symp = X_train.copy()\n",
        "    \n",
        "    #Drop the BH patient's column and symp target variable from X_train and X_test\n",
        "    # and reset the indexes\n",
        "    X_train = X_train.drop(columns = ['BH', 'symp']).reset_index(drop = True)\n",
        "    X_test  = X_test.drop(columns =  ['BH', 'symp']).reset_index(drop = True)\n",
        "    y_train = y_train.reset_index(drop = True)\n",
        "    y_test  = y_test.reset_index(drop = True)\n",
        "    \n",
        "    return X_train,X_test,y_train, y_test, X_train_wBH_Symp"
      ]
    },
    {
      "cell_type": "code",
      "execution_count": null,
      "metadata": {
        "id": "t9vJXrRkQhKO"
      },
      "outputs": [],
      "source": [
        "def StratifiedKFold_BH (data_BHsymp, n_splits_, random_state_, shuffle_ = True):\n",
        "    \"\"\"\n",
        "    Mimicks the behaviour of StratifiedKFold but performing the train-test splits of each fold\n",
        "    according to the BH patients, and then selects the corresponding beats\n",
        "    \n",
        "    INPUT ARGUMENTS:\n",
        "    ## Data ##\n",
        "    - data_BHsymp: a pandas dataframe with all the independent variables (biomarkers), the'BH' (patient BH code) \n",
        "    and the 'symp'target variable (1: symptomatic / 0: asymptomatic). Each row correspond to a beat. \n",
        "    *Note: the 'BH' and 'symp' column names must be respected. \n",
        "\n",
        "    ## StratifiedKFold parameters ##\n",
        "    -n_splits_ = number of folds \n",
        "    -shuffle_ = Whether to shuffle each class’s samples before splitting into batches. Note that the samples within each split will not be shuffled.\n",
        "    -random_state_ = When shuffle is True, random_state affects the ordering of the indices, which controls the randomness of each fold for each class. \n",
        "    \n",
        "    Source: https://scikit-learn.org/stable/modules/generated/sklearn.model_selection.StratifiedKFold.html\n",
        "    \n",
        "    \"\"\"\n",
        "    BHs_in_data = data_BHsymp.BH.unique()\n",
        "    symp_in_data = data_BHsymp.groupby('BH').symp.first()\n",
        "\n",
        "    #Perform the StratifiedKfold split of the BH patients in the 'data' dataframe\n",
        "    cv = StratifiedKFold(n_splits= n_splits_, shuffle= shuffle_, random_state = random_state_)\n",
        "    BH_splits = list(cv.split(BHs_in_data, symp_in_data))\n",
        "\n",
        "    #Select the beats from that patients to define the final train-test split\n",
        "    cv_beats = []\n",
        "    for trainBH_index, testBH_index in BH_splits: #iterate the BH indexes for each fold\n",
        "\n",
        "        train_BH = BHs_in_data[trainBH_index] #take the BH numbers for train\n",
        "        test_BH = BHs_in_data[testBH_index]   #take the BH numbers for test\n",
        "\n",
        "        train_data = data_BHsymp[data_BHsymp['BH'].isin(train_BH)] #take the beats of the BH patients in train\n",
        "        test_data = data_BHsymp[data_BHsymp['BH'].isin(test_BH)]   #take the beats of the BH patients in test\n",
        "\n",
        "        train_data_idx = list(train_data.index) #extract the TRAIN beat indexes and convert to list\n",
        "        test_data_idx  = list(test_data.index)  #extract the TEST beat indexes and convert to list\n",
        "\n",
        "        tuple_train_test = (train_data_idx,test_data_idx) #generate a tuple with the train-test beat indexes for each fold\n",
        "        return cv_beats.append(tuple_train_test)"
      ]
    },
    {
      "cell_type": "markdown",
      "metadata": {
        "id": "4RFUz3tO3lL0"
      },
      "source": [
        "# **1. Define the datasets**"
      ]
    },
    {
      "cell_type": "markdown",
      "source": [
        "## **All the dataset**: All the 120 biomarkers.\n"
      ],
      "metadata": {
        "id": "xp6OTLhKDEUT"
      }
    },
    {
      "cell_type": "code",
      "source": [
        "tot_bmk = list(X_bmkclc.columns[11:].values)\n",
        "X_bmk_all = X_bmkclc[ ['BH','symp'] + tot_bmk]\n",
        "print('All biomarkers shape: {}'.format(X_bmk_all.shape))"
      ],
      "metadata": {
        "colab": {
          "base_uri": "https://localhost:8080/"
        },
        "id": "Wq2TGgGgDSLm",
        "outputId": "9adc1f95-8e08-4711-9c53-cea8854c37f3"
      },
      "execution_count": null,
      "outputs": [
        {
          "output_type": "stream",
          "name": "stdout",
          "text": [
            "All biomarkers shape: (26304, 122)\n"
          ]
        }
      ]
    },
    {
      "cell_type": "markdown",
      "metadata": {
        "id": "7ng2Qyt_3q2W"
      },
      "source": [
        "## **Dataset 1**: best biomarkers (Correlation + Decision Trees + Univariate selection).\n",
        "Includes 19 best biomarkers\n"
      ]
    },
    {
      "cell_type": "code",
      "execution_count": null,
      "metadata": {
        "colab": {
          "base_uri": "https://localhost:8080/"
        },
        "id": "bJk5uwbO31IU",
        "outputId": "eb3066eb-5ffd-4e7a-d606-6e422a1909ab"
      },
      "outputs": [
        {
          "output_type": "stream",
          "name": "stdout",
          "text": [
            "Dataset 1 shape: (26304, 21)\n"
          ]
        }
      ],
      "source": [
        "tot_best_bmk = ['AreaQRSabs_aVF', 'Pavg_aVL', 'LP_QRSd_V4', 'AreaQRSabs_II', 'LP_QRSd_V1', 'AreaQRSabs_V3', 'LP_RMS40_V3', 'AreaQRSabs_V2', 'Pavg_aVF', 'Pavg_III', 'ST_slope_V3', 'ST_slope_II', 'LP_QRSd_V6', 'LP_QRSd_V3', 'ST_slope_V5', 'AreaQRSabs_aVL', 'AreaQRSabs_V1', 'AreaQRSabs_III', 'QTc_V6']\n",
        "X_ds1 = X_bmkclc[ ['BH','symp'] + tot_best_bmk ] \n",
        "print('Dataset 1 shape: {}'.format(X_ds1.shape))"
      ]
    },
    {
      "cell_type": "markdown",
      "metadata": {
        "id": "20hPJCCE4dnF"
      },
      "source": [
        "## **Dataset 2**: best biomarkers + all clinical data.\n",
        "Includes 19 best biomarkers + 9 clinical variables\n"
      ]
    },
    {
      "cell_type": "code",
      "execution_count": null,
      "metadata": {
        "colab": {
          "base_uri": "https://localhost:8080/"
        },
        "id": "Zsw-s-6g4kjy",
        "outputId": "3751426f-05ec-43cc-dbd4-3a6ec227102b"
      },
      "outputs": [
        {
          "output_type": "stream",
          "name": "stdout",
          "text": [
            "Dataset 2 shape: (26304, 30)\n"
          ]
        }
      ],
      "source": [
        "tot_best_bmk = ['AreaQRSabs_aVF', 'Pavg_aVL', 'LP_QRSd_V4', 'AreaQRSabs_II', 'LP_QRSd_V1', 'AreaQRSabs_V3', 'LP_RMS40_V3', 'AreaQRSabs_V2', 'Pavg_aVF', 'Pavg_III', 'ST_slope_V3', 'ST_slope_II', 'LP_QRSd_V6', 'LP_QRSd_V3', 'ST_slope_V5', 'AreaQRSabs_aVL', 'AreaQRSabs_V1', 'AreaQRSabs_III', 'QTc_V6']\n",
        "clinical_vars = ['Diagnosis_age', 'Gender', 'Proband', 'FH_SCD', 'FH_SCD_bef_55', 'SD_VF_bef_Dg', 'sponECGtype1_all', 'AF_bef_Dg', 'EPS_inducib_dic']\n",
        "X_ds2 = X_bmkclc[ ['BH','symp'] + tot_best_bmk + clinical_vars] \n",
        "print('Dataset 2 shape: {}'.format(X_ds2.shape))"
      ]
    },
    {
      "cell_type": "markdown",
      "metadata": {
        "id": "ee8F4fnC9mDc"
      },
      "source": [
        "## **Dataset 3**: 5 best biomarkers for each lead (based on correlation).\n",
        "Includes 58 best biomarkers (5 from each lead but excluding 2 LP_LAS)\n"
      ]
    },
    {
      "cell_type": "code",
      "execution_count": null,
      "metadata": {
        "colab": {
          "base_uri": "https://localhost:8080/"
        },
        "id": "Y0BZzVAn94Zd",
        "outputId": "ad7e07c3-4cc7-4ba4-afc7-114003d40ae2"
      },
      "outputs": [
        {
          "output_type": "stream",
          "name": "stdout",
          "text": [
            "Dataset 3 shape: (26304, 60)\n"
          ]
        }
      ],
      "source": [
        "tot_best5lead_bmk = ['PR_I', 'ST_60_I', 'ST_0_I', 'LP_QRSd_I', 'qt_I', \n",
        "'ST_0_II', 'ST_slope_II', 'PR_II', 'qt_II', 'AreaQRSabs_II',\n",
        "'AreaQRSabs_III', 'Pavg_III' ,'PR_III', 'qt_III', 'LP_QRSd_III',\n",
        "'ST_60_aVR', 'LP_RMS40_aVR', 'ST_0_aVR', 'PR_aVR', 'qt_aVR', \n",
        "'Pavg_aVL', 'AreaQRSabs_aVL', 'PR_aVL', 'qt_aVL', 'ST_60_aVL', \n",
        "'ST_0_aVF', 'AreaQRSabs_aVF', 'ST_slope_aVF', 'PR_aVF', 'Pavg_aVF',\n",
        "'ST_60_V1', 'LP_QRSd_V1', 'PR_V1', 'qt_V1', 'AreaQRSabs_V1', \n",
        "'ST_60_V2', 'AreaQRSabs_V2', 'ST_0_V2', 'PR_V2', 'LP_QRSd_V2',\n",
        "'ST_60_V3', 'LP_QRSd_V3', 'PR_V3', 'AreaQRSabs_V3', 'LP_RMS40_V3',\n",
        "'LP_QRSd_V4', 'ST_60_V4', 'ST_0_V4', 'qt_V4',\n",
        "'ST_slope_V5', 'ST_0_V5', 'qt_V5', 'QTc_V5','PR_V5',\n",
        "'QTc_V6', 'LP_QRSd_V6', 'qt_V6', 'ST_slope_V6' ]\n",
        "\n",
        "X_ds3 = X_bmkclc[ ['BH','symp'] + tot_best5lead_bmk ] \n",
        "print('Dataset 3 shape: {}'.format(X_ds3.shape))"
      ]
    },
    {
      "cell_type": "markdown",
      "metadata": {
        "id": "wRS4iQDhWINx"
      },
      "source": [
        "## **Dataset 4**: 5 best biomarkers for each lead (based on correlation) + clinical data.\n",
        "Includes 58 best biomarkers (5 from each lead but excluding 2 LP_LAS) + clinical data. \n"
      ]
    },
    {
      "cell_type": "code",
      "execution_count": null,
      "metadata": {
        "colab": {
          "base_uri": "https://localhost:8080/"
        },
        "id": "miQ-aTPFWMxH",
        "outputId": "738e75f4-6eea-4a9c-ad02-1cfce4fa21c0"
      },
      "outputs": [
        {
          "output_type": "stream",
          "name": "stdout",
          "text": [
            "Dataset 3 shape: (26304, 69)\n"
          ]
        }
      ],
      "source": [
        "X_ds4 = X_bmkclc[ ['BH','symp'] + tot_best5lead_bmk +  clinical_vars] \n",
        "print('Dataset 3 shape: {}'.format(X_ds4.shape))"
      ]
    },
    {
      "cell_type": "markdown",
      "metadata": {
        "id": "xKtEYV9Y-ZEN"
      },
      "source": [
        "## **Dataset 5**: best biomarkers and clinical variable based on univariate selection (SelectKBest).\n",
        "Repeat what it was done in [3.2.3 Univariate selection](https://colab.research.google.com/drive/1ebdLWv-O7FurtHxEVpgi4ute8-b-gOSn#scrollTo=_cHtUC3zwbxo) but now taken into account also the clinical data. \n",
        "\n",
        "Includes the **30 best features** including both biomarkers and clinical data. \n"
      ]
    },
    {
      "cell_type": "code",
      "execution_count": null,
      "metadata": {
        "colab": {
          "base_uri": "https://localhost:8080/"
        },
        "id": "MhkZZtQq-ZEW",
        "outputId": "97724e15-d3ac-465f-c0dc-ea762c4324b0"
      },
      "outputs": [
        {
          "output_type": "stream",
          "name": "stdout",
          "text": [
            "           Features        Score\n",
            "5      SD_VF_bef_Dg  7469.770235\n",
            "4     FH_SCD_bef_55  2982.416154\n",
            "7         AF_bef_Dg  2920.911071\n",
            "49         Pavg_aVL  2005.623674\n",
            "13           ST_0_I  1949.765142\n",
            "50   AreaQRSabs_aVL  1938.968299\n",
            "94         ST_60_V3  1344.318640\n",
            "115     ST_slope_V5  1244.798462\n",
            "2           Proband  1194.595471\n",
            "44        ST_60_aVR  1089.913178\n",
            "113         ST_0_V5  1087.675960\n",
            "97       LP_QRSd_V3  1052.730879\n",
            "30   AreaQRSabs_III  1049.672080\n",
            "122          QTc_V6   978.527817\n",
            "80    AreaQRSabs_V2   936.262937\n",
            "77       LP_QRSd_V1   910.829249\n",
            "107      LP_QRSd_V4   895.497776\n",
            "25      ST_slope_II   890.102311\n",
            "21            qt_II   818.797288\n",
            "74         ST_60_V1   777.096646\n",
            "84         ST_60_V2   771.459984\n",
            "26            PR_II   740.618943\n",
            "54        ST_60_aVL   728.226895\n",
            "111           qt_V5   720.631624\n",
            "60   AreaQRSabs_aVF   715.445371\n",
            "116           PR_V5   709.034599\n",
            "23          ST_0_II   699.410605\n",
            "127      LP_QRSd_V6   694.730526\n",
            "61           qt_aVF   657.537262\n",
            "96            PR_V3   639.972062\n",
            "Dataset 5 shape: (26304, 32)\n"
          ]
        }
      ],
      "source": [
        "#UNIVARIATE SELECTION\n",
        "from sklearn.feature_selection import SelectKBest\n",
        "from sklearn.feature_selection import f_classif\n",
        "\n",
        "X_features = X_bmkclc.drop(columns = ['BH','symp'] )\n",
        "y_symp = X_bmkclc.symp\n",
        "\n",
        "bestfeatures = SelectKBest(score_func = f_classif, k = 10)\n",
        "fit = bestfeatures.fit(abs(X_features),y_symp)\n",
        "dfscores = pd.DataFrame(fit.scores_)\n",
        "dfcolumns = pd.DataFrame(X_features.columns)\n",
        "featureScores = pd.concat([dfcolumns, dfscores], axis = 1)\n",
        "featureScores.columns = ['Features', 'Score']\n",
        "print(featureScores.nlargest(30,'Score'))\n",
        "best_30ft_univ = featureScores.nlargest(30,'Score').Features\n",
        "best_30ft_univ = list(best_30ft_univ)\n",
        "\n",
        "#Dataframe ´\n",
        "X_ds5 = X_bmkclc[ ['BH','symp'] + best_30ft_univ ] \n",
        "print('Dataset 5 shape: {}'.format(X_ds5.shape))"
      ]
    },
    {
      "cell_type": "markdown",
      "metadata": {
        "id": "nthFNr-SiF-9"
      },
      "source": [
        "## **Dataset 6**: best biomarkers based only on Tree Classifier approach\n",
        "\n",
        "Repeat what it was done in [3.2.2 Tree Classifier approach](https://colab.research.google.com/drive/1ebdLWv-O7FurtHxEVpgi4ute8-b-gOSn#scrollTo=_cHtUC3zwbxo) but now taken into account also the clinical data. \n",
        "\n",
        "Includes the **30 best features** including both biomarkers and clinical data. \n"
      ]
    },
    {
      "cell_type": "code",
      "execution_count": null,
      "metadata": {
        "colab": {
          "base_uri": "https://localhost:8080/"
        },
        "id": "b2tN9PMmahz9",
        "outputId": "023457e9-201a-44c3-b801-cbaba7d4bb58"
      },
      "outputs": [
        {
          "output_type": "stream",
          "name": "stdout",
          "text": [
            "Dataset 6 shape: (26304, 32)\n"
          ]
        }
      ],
      "source": [
        "#Tree Classifier \n",
        "from sklearn.ensemble import ExtraTreesClassifier\n",
        "feature_importances = []\n",
        "\n",
        "n_trials = 3\n",
        "for i in range(n_trials):\n",
        "    model = ExtraTreesClassifier(random_state= i )\n",
        "    model.fit(X_features, y_symp) #the same inputs as before\n",
        "    feature_importances.append(model.feature_importances_)\n",
        "\n",
        "# Aggregate feature importances for each trial\n",
        "average_importances = np.mean(feature_importances, axis=0)\n",
        "feat_importances = pd.Series(average_importances, index=X_features.columns)\n",
        "\n",
        "# Select the top 30 features\n",
        "best_30ft_tree = list(feat_importances.nlargest(30).index)\n",
        "\n",
        "#Dataframe ´\n",
        "X_ds6 = X_bmkclc[ ['BH','symp'] + best_30ft_tree ] \n",
        "print('Dataset 6 shape: {}'.format(X_ds6.shape))\n"
      ]
    },
    {
      "cell_type": "code",
      "source": [
        "best_30ft_tree"
      ],
      "metadata": {
        "colab": {
          "base_uri": "https://localhost:8080/"
        },
        "id": "SeOZAmoOZnem",
        "outputId": "14b8532c-8b08-442f-d8a8-dccff10d9fe1"
      },
      "execution_count": null,
      "outputs": [
        {
          "output_type": "execute_result",
          "data": {
            "text/plain": [
              "['SD_VF_bef_Dg',\n",
              " 'FH_SCD_bef_55',\n",
              " 'AF_bef_Dg',\n",
              " 'Diagnosis_age',\n",
              " 'sponECGtype1_all',\n",
              " 'EPS_inducib_dic',\n",
              " 'Gender',\n",
              " 'FH_SCD',\n",
              " 'Pavg_aVL',\n",
              " 'PR_V5',\n",
              " 'ST_0_I',\n",
              " 'AreaQRSabs_aVL',\n",
              " 'AreaQRSabs_III',\n",
              " 'Pavg_II',\n",
              " 'Proband',\n",
              " 'Pavg_aVF',\n",
              " 'LP_QRSd_V4',\n",
              " 'Pavg_III',\n",
              " 'PR_V6',\n",
              " 'ST_60_aVR',\n",
              " 'LP_QRSd_V6',\n",
              " 'AreaQRSabs_V2',\n",
              " 'AreaQRSabs_aVF',\n",
              " 'LP_QRSd_V3',\n",
              " 'ST_slope_I',\n",
              " 'LP_QRSd_aVL',\n",
              " 'LP_QRSd_I',\n",
              " 'ST_60_V3',\n",
              " 'PR_II',\n",
              " 'ST_slope_V5']"
            ]
          },
          "metadata": {},
          "execution_count": 12
        }
      ]
    },
    {
      "cell_type": "markdown",
      "metadata": {
        "id": "q1oMFXhjjLaF"
      },
      "source": [
        "> Perform the feature selection based on ``ExtraTreesClassifier`` but modifing 3 times the ``random_state`` to ensure more robustneess. It end up with the 30 common features that have an average better importance on the 3 randomizations."
      ]
    },
    {
      "cell_type": "markdown",
      "metadata": {
        "id": "N5i7iw2KDOXo"
      },
      "source": [
        "**For better readability a dictionary will be done containing the 6 datasets.**"
      ]
    },
    {
      "cell_type": "code",
      "execution_count": 2,
      "metadata": {
        "id": "HYdOx5HADbqw"
      },
      "outputs": [],
      "source": [
        "all_datasets = {'All_biomarkers': X_bmk_all,'Dataset_1': X_ds1,'Dataset_2': X_ds2, 'Dataset_3': X_ds3,'Dataset_4': X_ds4, 'Dataset_5': X_ds5, 'Dataset_6':X_ds6}"
      ]
    },
    {
      "cell_type": "markdown",
      "metadata": {
        "id": "zalEAY8ZAuSP"
      },
      "source": [
        "# **2. Find the best KNN model**\n",
        "The same process will be conducted over each dataset."
      ]
    },
    {
      "cell_type": "code",
      "source": [
        "model = KNeighborsClassifier()"
      ],
      "metadata": {
        "id": "LTlT0eh8Uw9Z"
      },
      "execution_count": null,
      "outputs": []
    },
    {
      "cell_type": "markdown",
      "metadata": {
        "id": "ZF8-DkgRBmNf"
      },
      "source": [
        "### **1. First try KNN with default parameters**\n",
        "\n"
      ]
    },
    {
      "cell_type": "code",
      "execution_count": null,
      "metadata": {
        "id": "dGoVP5CMEMeh",
        "colab": {
          "base_uri": "https://localhost:8080/"
        },
        "outputId": "7e661ccc-b434-4725-a61a-1492a74a833f"
      },
      "outputs": [
        {
          "output_type": "stream",
          "name": "stdout",
          "text": [
            "All_biomarkers\n",
            "Dataset_1\n",
            "Dataset_2\n",
            "Dataset_3\n",
            "Dataset_4\n",
            "Dataset_5\n",
            "Dataset_6\n"
          ]
        }
      ],
      "source": [
        "default_results_ds = [];\n",
        "for dataset_name, dataset in all_datasets.items():\n",
        "  print(dataset_name)\n",
        "\n",
        "  #A. Define the X,y\n",
        "  X = dataset.drop(columns = ['BH', 'symp'])\n",
        "  y = dataset.symp\n",
        "\n",
        "  X_wBH_Symp = dataset #needed input for StratifiedKFold_BH (in this case corresponds to the raw datasets)\n",
        "\n",
        "    #B.3 Cross validation score with all data to assess the performance of the model for each dataset\n",
        "  n_scores = []\n",
        "  n_trials = 3\n",
        "  for i in range(n_trials):\n",
        "    #define the cross-validation strategy to validate the model (using the custom function)\n",
        "    cv = StratifiedKFold_BH (X_wBH_Symp, n_splits_ = 6, random_state_ = i, shuffle_ = True) #X_train_wBH_Symp output from the custom function (See the section above)\n",
        "\n",
        "    #evaluate the model\n",
        "    scores = cross_val_score(model, X, y, scoring='roc_auc', cv=cv, n_jobs=-1)\n",
        "\n",
        "    #save the mean scores\n",
        "    n_scores.append(np.mean(scores))\n",
        "    mean_cv_nscore = np.mean(n_scores)\n",
        "\n",
        "    #Save RESULTS: The mean ROC_AUC cv score for each dataset\n",
        "  default_results_ds.append({\n",
        "      'Dataset' : dataset_name,\n",
        "      'AUC_roc_mean_cvscore': mean_cv_nscore\n",
        "      \n",
        "  })\n",
        "\n",
        "df_DatasetResults = pd.DataFrame(default_results_ds,columns=['Dataset', 'AUC_roc_mean_cvscore'])"
      ]
    },
    {
      "cell_type": "code",
      "execution_count": null,
      "metadata": {
        "colab": {
          "base_uri": "https://localhost:8080/",
          "height": 268
        },
        "id": "pLX4yaqhX3O7",
        "outputId": "075f362e-ffae-43c1-bb43-824affe5cf03"
      },
      "outputs": [
        {
          "output_type": "execute_result",
          "data": {
            "text/plain": [
              "          Dataset  AUC_roc_mean_cvscore\n",
              "0  All_biomarkers              0.643876\n",
              "1       Dataset_1              0.624333\n",
              "2       Dataset_2              0.640637\n",
              "3       Dataset_3              0.627415\n",
              "4       Dataset_4              0.651435\n",
              "5       Dataset_5              0.653787\n",
              "6       Dataset_6              0.630977"
            ],
            "text/html": [
              "\n",
              "  <div id=\"df-4bd6bf4b-c5e9-4af9-a07b-3c5cc8e965e7\">\n",
              "    <div class=\"colab-df-container\">\n",
              "      <div>\n",
              "<style scoped>\n",
              "    .dataframe tbody tr th:only-of-type {\n",
              "        vertical-align: middle;\n",
              "    }\n",
              "\n",
              "    .dataframe tbody tr th {\n",
              "        vertical-align: top;\n",
              "    }\n",
              "\n",
              "    .dataframe thead th {\n",
              "        text-align: right;\n",
              "    }\n",
              "</style>\n",
              "<table border=\"1\" class=\"dataframe\">\n",
              "  <thead>\n",
              "    <tr style=\"text-align: right;\">\n",
              "      <th></th>\n",
              "      <th>Dataset</th>\n",
              "      <th>AUC_roc_mean_cvscore</th>\n",
              "    </tr>\n",
              "  </thead>\n",
              "  <tbody>\n",
              "    <tr>\n",
              "      <th>0</th>\n",
              "      <td>All_biomarkers</td>\n",
              "      <td>0.643876</td>\n",
              "    </tr>\n",
              "    <tr>\n",
              "      <th>1</th>\n",
              "      <td>Dataset_1</td>\n",
              "      <td>0.624333</td>\n",
              "    </tr>\n",
              "    <tr>\n",
              "      <th>2</th>\n",
              "      <td>Dataset_2</td>\n",
              "      <td>0.640637</td>\n",
              "    </tr>\n",
              "    <tr>\n",
              "      <th>3</th>\n",
              "      <td>Dataset_3</td>\n",
              "      <td>0.627415</td>\n",
              "    </tr>\n",
              "    <tr>\n",
              "      <th>4</th>\n",
              "      <td>Dataset_4</td>\n",
              "      <td>0.651435</td>\n",
              "    </tr>\n",
              "    <tr>\n",
              "      <th>5</th>\n",
              "      <td>Dataset_5</td>\n",
              "      <td>0.653787</td>\n",
              "    </tr>\n",
              "    <tr>\n",
              "      <th>6</th>\n",
              "      <td>Dataset_6</td>\n",
              "      <td>0.630977</td>\n",
              "    </tr>\n",
              "  </tbody>\n",
              "</table>\n",
              "</div>\n",
              "      <button class=\"colab-df-convert\" onclick=\"convertToInteractive('df-4bd6bf4b-c5e9-4af9-a07b-3c5cc8e965e7')\"\n",
              "              title=\"Convert this dataframe to an interactive table.\"\n",
              "              style=\"display:none;\">\n",
              "        \n",
              "  <svg xmlns=\"http://www.w3.org/2000/svg\" height=\"24px\"viewBox=\"0 0 24 24\"\n",
              "       width=\"24px\">\n",
              "    <path d=\"M0 0h24v24H0V0z\" fill=\"none\"/>\n",
              "    <path d=\"M18.56 5.44l.94 2.06.94-2.06 2.06-.94-2.06-.94-.94-2.06-.94 2.06-2.06.94zm-11 1L8.5 8.5l.94-2.06 2.06-.94-2.06-.94L8.5 2.5l-.94 2.06-2.06.94zm10 10l.94 2.06.94-2.06 2.06-.94-2.06-.94-.94-2.06-.94 2.06-2.06.94z\"/><path d=\"M17.41 7.96l-1.37-1.37c-.4-.4-.92-.59-1.43-.59-.52 0-1.04.2-1.43.59L10.3 9.45l-7.72 7.72c-.78.78-.78 2.05 0 2.83L4 21.41c.39.39.9.59 1.41.59.51 0 1.02-.2 1.41-.59l7.78-7.78 2.81-2.81c.8-.78.8-2.07 0-2.86zM5.41 20L4 18.59l7.72-7.72 1.47 1.35L5.41 20z\"/>\n",
              "  </svg>\n",
              "      </button>\n",
              "      \n",
              "  <style>\n",
              "    .colab-df-container {\n",
              "      display:flex;\n",
              "      flex-wrap:wrap;\n",
              "      gap: 12px;\n",
              "    }\n",
              "\n",
              "    .colab-df-convert {\n",
              "      background-color: #E8F0FE;\n",
              "      border: none;\n",
              "      border-radius: 50%;\n",
              "      cursor: pointer;\n",
              "      display: none;\n",
              "      fill: #1967D2;\n",
              "      height: 32px;\n",
              "      padding: 0 0 0 0;\n",
              "      width: 32px;\n",
              "    }\n",
              "\n",
              "    .colab-df-convert:hover {\n",
              "      background-color: #E2EBFA;\n",
              "      box-shadow: 0px 1px 2px rgba(60, 64, 67, 0.3), 0px 1px 3px 1px rgba(60, 64, 67, 0.15);\n",
              "      fill: #174EA6;\n",
              "    }\n",
              "\n",
              "    [theme=dark] .colab-df-convert {\n",
              "      background-color: #3B4455;\n",
              "      fill: #D2E3FC;\n",
              "    }\n",
              "\n",
              "    [theme=dark] .colab-df-convert:hover {\n",
              "      background-color: #434B5C;\n",
              "      box-shadow: 0px 1px 3px 1px rgba(0, 0, 0, 0.15);\n",
              "      filter: drop-shadow(0px 1px 2px rgba(0, 0, 0, 0.3));\n",
              "      fill: #FFFFFF;\n",
              "    }\n",
              "  </style>\n",
              "\n",
              "      <script>\n",
              "        const buttonEl =\n",
              "          document.querySelector('#df-4bd6bf4b-c5e9-4af9-a07b-3c5cc8e965e7 button.colab-df-convert');\n",
              "        buttonEl.style.display =\n",
              "          google.colab.kernel.accessAllowed ? 'block' : 'none';\n",
              "\n",
              "        async function convertToInteractive(key) {\n",
              "          const element = document.querySelector('#df-4bd6bf4b-c5e9-4af9-a07b-3c5cc8e965e7');\n",
              "          const dataTable =\n",
              "            await google.colab.kernel.invokeFunction('convertToInteractive',\n",
              "                                                     [key], {});\n",
              "          if (!dataTable) return;\n",
              "\n",
              "          const docLinkHtml = 'Like what you see? Visit the ' +\n",
              "            '<a target=\"_blank\" href=https://colab.research.google.com/notebooks/data_table.ipynb>data table notebook</a>'\n",
              "            + ' to learn more about interactive tables.';\n",
              "          element.innerHTML = '';\n",
              "          dataTable['output_type'] = 'display_data';\n",
              "          await google.colab.output.renderOutput(dataTable, element);\n",
              "          const docLink = document.createElement('div');\n",
              "          docLink.innerHTML = docLinkHtml;\n",
              "          element.appendChild(docLink);\n",
              "        }\n",
              "      </script>\n",
              "    </div>\n",
              "  </div>\n",
              "  "
            ]
          },
          "metadata": {},
          "execution_count": 16
        }
      ],
      "source": [
        "df_DatasetResults"
      ]
    },
    {
      "cell_type": "markdown",
      "metadata": {
        "id": "tNAUNXQKFt6s"
      },
      "source": [
        "### **2. GridSearchCV hyperparameter tunning with the best combination**\n"
      ]
    },
    {
      "cell_type": "code",
      "execution_count": null,
      "metadata": {
        "id": "udq5lk0rEa1w"
      },
      "outputs": [],
      "source": [
        "best_ds = X_ds5"
      ]
    },
    {
      "cell_type": "markdown",
      "metadata": {
        "id": "M8YD73EpecYo"
      },
      "source": [
        "TRAIN-TEST split"
      ]
    },
    {
      "cell_type": "code",
      "execution_count": null,
      "metadata": {
        "colab": {
          "base_uri": "https://localhost:8080/"
        },
        "id": "OWyDdzcaeXAF",
        "outputId": "60939029-830b-4582-b229-a5f282ff1aab"
      },
      "outputs": [
        {
          "output_type": "stream",
          "name": "stdout",
          "text": [
            "X_train shape: (19592, 30)\n",
            "y_train shape: (19592,)\n",
            "X_test shape: (6712, 30)\n",
            "y_test shape: (6712,)\n",
            "\n",
            "\n",
            "TRAIN: Symptomatic vs Asymptomatic beat count\n",
            "0    16340\n",
            "1     3252\n",
            "Name: symp, dtype: int64\n",
            "\n",
            "\n",
            "TEST:  Symptomatic vs Asymptomatic beat count\n",
            "0    5875\n",
            "1     837\n",
            "Name: symp, dtype: int64\n"
          ]
        }
      ],
      "source": [
        "X_train, X_test, y_train, y_test, X_train_wBH_Symp = train_test_split_BH(best_ds, rnd_state = 0, figures = 0)\n",
        "print(\"X_train shape: {}\".format(X_train.shape))\n",
        "print(\"y_train shape: {}\".format(y_train.shape))\n",
        "print(\"X_test shape: {}\".format(X_test.shape))\n",
        "print(\"y_test shape: {}\".format(y_test.shape))\n",
        "print('\\n')\n",
        "print('TRAIN: Symptomatic vs Asymptomatic beat count')\n",
        "print(y_train.value_counts())\n",
        "print('\\n')\n",
        "print('TEST:  Symptomatic vs Asymptomatic beat count')\n",
        "print(y_test.value_counts())"
      ]
    },
    {
      "cell_type": "code",
      "execution_count": 5,
      "metadata": {
        "id": "pIZzzLxUH66x"
      },
      "outputs": [],
      "source": [
        "# Set up possible values of parameters to optimize over\n",
        "p_grid = {'n_neighbors': np.arange(1, int(np.sqrt(len(y_train))) + 1)}\n",
        "\n",
        "\n",
        "\n",
        "# Loop for each trial\n",
        "num_trials = 3\n",
        "non_nested_scores = np.zeros(num_trials)# Array to store scores\n",
        "for i in range(num_trials):\n",
        "\n",
        "    # Selecting stratified cross-validation technique for preserving the data distribution\n",
        "    outer_cv = StratifiedKFold_BH (X_train_wBH_Symp, n_splits_ = 4, random_state_ = i, shuffle_ = True)#define the outer loop with 4folds \n",
        "\n",
        "    # Non_nested parameter search and scoring\n",
        "    clf = GridSearchCV(estimator= model, param_grid=p_grid, cv=outer_cv, scoring = 'roc_auc')\n",
        "    print('Hyperparameter tunning has started | Waiting for the results...')\n",
        "    clf.fit(X_train, y_train) #DO IT WITH TRAIN \n",
        "    print('Hyperparameter tunning has finished | Saving the results...')\n",
        "    \n",
        "    #Results\n",
        "    non_nested_scores[i] = clf.best_score_\n",
        "\n",
        "    #Save results\n",
        "    best_params = clf.best_params_\n",
        "    best_estimator = clf.best_estimator_\n",
        "    results = clf.cv_results_\n",
        "    print(best_params)\n",
        "    print(best_estimator)\n",
        "\n",
        "    # Export GridSearchCV results into a dataframe for better view\n",
        "    df_results = pd.DataFrame(results)\n",
        "\n",
        "    #Download results in local \n",
        "    from google.colab import files\n",
        "\n",
        "    df_results.to_excel('KNN_bestds_GridSearch{}.xlsx'.format(i))\n",
        "    # download the file to your local PC\n",
        "    files.download('KNN_bestds_GridSearch{}.xlsx'.format(i))"
      ]
    },
    {
      "cell_type": "code",
      "source": [
        "best_model = KNeighborsClassifier(n_neighbors = 19)"
      ],
      "metadata": {
        "id": "xoSeTC-9g52H"
      },
      "execution_count": null,
      "outputs": []
    },
    {
      "cell_type": "code",
      "source": [
        "\n",
        "best_model.fit(X_train, y_train) #training\n",
        "y_pred = best_model.predict(X_test) #predictions\n",
        "\n",
        "\n",
        "#confusion matrix\n",
        "labels_str= [0,1]\n",
        "\n",
        "cm = confusion_matrix(y_test, y_pred, labels= labels_str)\n",
        "cm_fig = ConfusionMatrixDisplay(confusion_matrix=cm,\n",
        "                               display_labels=labels_str)\n",
        "cm_fig.plot()\n",
        "\n",
        "plt.show()\n",
        "\n",
        "tn, fp, fn, tp = cm.ravel()\n",
        "\n",
        "# compute sensitivity and specificity\n",
        "sensitivity = tp / (tp + fn)\n",
        "specificity = tn / (tn + fp)\n",
        "print('Accuracy: ', accuracy_score(y_test, y_pred))\n",
        "print('AUC roc: ' , roc_auc_score(y_test,y_pred))\n",
        "print('Sensitivity: {:.3f} %'.format(sensitivity*100))\n",
        "print('Specificity: {:.3f} %'.format(specificity*100))\n",
        "\n",
        "target_names = ['Asymptomatic (0)', 'Symptomatic (1)']\n",
        "print(classification_report(y_test, y_pred, target_names=target_names))\n"
      ],
      "metadata": {
        "colab": {
          "base_uri": "https://localhost:8080/",
          "height": 684
        },
        "id": "VEv9YUPUgsL-",
        "outputId": "6e2c2fdf-f3d3-4fd3-a2e2-ba4c1ac28fc0"
      },
      "execution_count": null,
      "outputs": [
        {
          "output_type": "display_data",
          "data": {
            "text/plain": [
              "<Figure size 640x480 with 2 Axes>"
            ],
            "image/png": "[encoded data removed]"
          },
          "metadata": {}
        },
        {
          "output_type": "stream",
          "name": "stdout",
          "text": [
            "Accuracy:  0.8457985697258641\n",
            "AUC roc:  0.5640868349475077\n",
            "Sensitivity: 18.877 %\n",
            "Specificity: 93.940 %\n",
            "                  precision    recall  f1-score   support\n",
            "\n",
            "Asymptomatic (0)       0.89      0.94      0.91      5875\n",
            " Symptomatic (1)       0.31      0.19      0.23       837\n",
            "\n",
            "        accuracy                           0.85      6712\n",
            "       macro avg       0.60      0.56      0.57      6712\n",
            "    weighted avg       0.82      0.85      0.83      6712\n",
            "\n"
          ]
        }
      ]
    },
    {
      "cell_type": "markdown",
      "source": [
        "### **Final cross-validation**"
      ],
      "metadata": {
        "id": "4iBAzb6_EWKB"
      }
    },
    {
      "cell_type": "code",
      "source": [
        "best_ds = X_ds5\n",
        "best_model  = KNeighborsClassifier(n_neighbors = 19)\n",
        "\n",
        "#A. Define the X,y\n",
        "X = best_ds.drop(columns = ['BH', 'symp'])\n",
        "y = best_ds.symp\n",
        "\n",
        "X_wBH_Symp = best_ds #needed input for StratifiedKFold_BH (in this case corresponds to the raw datasets)\n",
        "\n",
        "#Cross validation score with all data to assess the performance of the model for each dataset\n",
        "mean_cv_AUC = []\n",
        "mean_cv_recall = []\n",
        "mean_cv_specificity = []\n",
        "\n",
        "n_trials = 3\n",
        "for i in range(n_trials):\n",
        "  #define the cross-validation strategy to validate the model (using the custom function)\n",
        "  cv = StratifiedKFold_BH (X_wBH_Symp, n_splits_ = 6, random_state_ = i, shuffle_ = True) #X_train_wBH_Symp output from the custom function (See the section above)\n",
        "\n",
        "  #evaluate the model\n",
        "  cv_AUCs = cross_val_score(best_model, X, y, scoring='roc_auc', cv=cv, n_jobs=-1)\n",
        "  cv_recalls = cross_val_score(best_model, X, y, scoring='recall', cv=cv, n_jobs=-1)  \n",
        "  #save the mean scores\n",
        "  mean_cv_AUC.append(np.mean(cv_AUCs))\n",
        "  mean_cv_recall.append(np.mean(cv_recalls))\n",
        "\n",
        "print(np.mean(mean_cv_AUC))\n",
        "print(np.mean(mean_cv_recall))\n"
      ],
      "metadata": {
        "id": "GXIvMScTEayQ"
      },
      "execution_count": null,
      "outputs": []
    }
  ],
  "metadata": {
    "colab": {
      "provenance": [],
      "authorship_tag": "ABX9TyOECYBUHpK8WdzQ6poJqE7H",
      "include_colab_link": true
    },
    "kernelspec": {
      "display_name": "Python 3",
      "name": "python3"
    },
    "language_info": {
      "name": "python"
    }
  },
  "nbformat": 4,
  "nbformat_minor": 0
}
