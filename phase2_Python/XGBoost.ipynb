{
  "cells": [
    {
      "cell_type": "markdown",
      "metadata": {
        "id": "view-in-github",
        "colab_type": "text"
      },
      "source": [
        "<a href=\"https://colab.research.google.com/github/alvaroleva/TFG_collabs/blob/main/XGBoost_GridSearchCV_onDiffDatasets.ipynb\" target=\"_parent\"><img src=\"https://colab.research.google.com/assets/colab-badge.svg\" alt=\"Open In Colab\"/></a>"
      ]
    },
    {
      "cell_type": "markdown",
      "metadata": {
        "id": "T-kAExHJbdmg"
      },
      "source": [
        "# **XGBoost classifier on imbalanced data**\n",
        "\n",
        "\n",
        "This script will utlimately try to find the best XGBoost model performing hyperparameter tunning with GridSearch on different datasets:\n",
        "\n",
        "* **All the biomarkers**: all the 120 ECG-derived markers. \n",
        "\n",
        "* **Dataset 1**: best biomarkers (Correlation + Decision Trees + Univariate selection).\n",
        "* **Dataseet 2**: best biomarkers + clinical data.\n",
        "* **Dataset 3**: 5 best biomarkers for each lead (based on correlation).\n",
        "* **Dataset 4**: 5 best biomarkers for each lead (based on correlation) + clinical data. \n",
        "* **Dataset 5**: 30 best biomarkers based only on univariate selection (SelectKBest).\n",
        "* **Dataset 6**: 30 best biomarkers based only on Tree Classifier approach.\n",
        "\n",
        "*ABOUT* ``XGBoost``\n",
        "\n",
        "\n",
        "The XGBoost is an ensemble of decision trees algorithm where new trees fix errors of those trees that are already part of the model. Trees are added until no further improvements can be made to the model.\n",
        "\n",
        "It is an efficient implementation of the stochastic gradient boosting algorithm and offers a range of hyperparameters that give fine-grained control over the model training procedure. Although the algorithm performs well in general, even on imbalanced classification datasets, it offers a way to tune the training algorithm to pay more attention to misclassification of the minority class for datasets with a skewed class distribution\n",
        "\n",
        "> https://machinelearningmastery.com/xgboost-for-imbalanced-classification/\n",
        "\n",
        "\n",
        "\n",
        "\n"
      ]
    },
    {
      "cell_type": "markdown",
      "metadata": {
        "id": "8EdHnALccI7y"
      },
      "source": [
        "Import needed libraries"
      ]
    },
    {
      "cell_type": "code",
      "execution_count": null,
      "metadata": {
        "id": "jRCG4RqHbYPO"
      },
      "outputs": [],
      "source": [
        "#Basic libraries\n",
        "import pandas as pd\n",
        "import numpy as np\n",
        "import matplotlib.pyplot as plt\n",
        "#Machine Learning\n",
        "from xgboost import XGBClassifier,DMatrix\n",
        "from sklearn.model_selection import GridSearchCV,StratifiedKFold\n",
        "from sklearn.metrics import confusion_matrix, ConfusionMatrixDisplay, classification_report, accuracy_score, roc_auc_score,recall_score\n",
        "from sklearn.model_selection import cross_val_score\n",
        "from collections import Counter"
      ]
    },
    {
      "cell_type": "markdown",
      "metadata": {
        "id": "csWDRRZOQ3cq"
      },
      "source": [
        "## 0A. Import Data: all the final **biomarkers** (after KNN imputation) and **clinical** variables\n",
        "\n",
        "> Last result from [p02_FeatureSelection_DataVisualization](https://colab.research.google.com/drive/1ebdLWv-O7FurtHxEVpgi4ute8-b-gOSn#scrollTo=NxjMCC3QwbGC)"
      ]
    },
    {
      "cell_type": "code",
      "execution_count": null,
      "metadata": {
        "colab": {
          "base_uri": "https://localhost:8080/"
        },
        "id": "Tphs_S5EQ2vp",
        "outputId": "582da41f-161d-4ae8-ead0-1d84dfc061b3"
      },
      "outputs": [
        {
          "output_type": "stream",
          "name": "stdout",
          "text": [
            "Original dataset shape: (26304, 131)\n"
          ]
        }
      ],
      "source": [
        "#Code needed to import the Data from GoogleDrive\n",
        "from google.colab import files\n",
        "from pydrive.auth import GoogleAuth \n",
        "from pydrive.drive import GoogleDrive \n",
        "from google.colab import auth \n",
        "from oauth2client.client import GoogleCredentials\n",
        "\n",
        "auth.authenticate_user() \n",
        "gauth = GoogleAuth() \n",
        "gauth.credentials = GoogleCredentials.get_application_default() \n",
        "drive = GoogleDrive(gauth)\n",
        "\n",
        "X_bmkclc_url = 'https://docs.google.com/spreadsheets/d/1Md6cxfAp4_AMZlBhSHQtWj_iXljjc7o8/edit?usp=share_link&ouid=111241553451068058703&rtpof=true&sd=true'\n",
        "id = X_bmkclc_url.split(\"/\")[-2] #get ID\n",
        "downloaded = drive.CreateFile({'id':id}) #download from ID\n",
        "downloaded.GetContentFile('X_bmkclc.xlsx') #Get the file in the Colab working directory\n",
        "\n",
        "#load all the merged data\n",
        "X_bmkclc = pd.read_excel('X_bmkclc.xlsx', index_col = 0)\n",
        "X_bmkclc = X_bmkclc.reset_index(drop=True)\n",
        "print('Original dataset shape: {}'.format(X_bmkclc.shape))"
      ]
    },
    {
      "cell_type": "markdown",
      "metadata": {
        "id": "EDmkfXTqQRE9"
      },
      "source": [
        "## 0B. Define the custom functions to split the beats data according to BHs. \n"
      ]
    },
    {
      "cell_type": "code",
      "execution_count": null,
      "metadata": {
        "id": "H-NAS3AIQQEx"
      },
      "outputs": [],
      "source": [
        "def train_test_split_BH(data_BHsymp, rnd_state, test_siz = None, figures = 1):\n",
        "    \"\"\"\n",
        "    Performs a stratified patient partition and returns the corresponding beat selection for train and test datasets. \n",
        "    \n",
        "    INPUT ARGUMENTS:\n",
        "    ## Data ##\n",
        "    - data_BHsymp: a pandas dataframe with all the independent variables (biomarkers), the'BH' (patient BH code) \n",
        "    and the 'symp'target variable (1: symptomatic / 0: asymptomatic). Each row correspond to a beat. \n",
        "    *Note: the 'BH' and 'symp' column names must be respected. \n",
        "\n",
        "    ## train_test_split parameters ##\n",
        "    -rnd_state = random_state\n",
        "    -strat = stratify (takes y_BH by default)\n",
        "    -test_siz = percentage from 0.0 to 1.0 of patients for test. If None, by default is taken as 25%.  \n",
        "   \n",
        "    Source: https://scikit-learn.org/stable/modules/generated/sklearn.model_selection.train_test_split.html\n",
        "   \n",
        "    ## figures ##\n",
        "    -figures = binary number indicating if pie charts are displayed (1: show / 0: hide). Showed by \n",
        "    default (figures = 1). \n",
        "    \n",
        "    OUTPUT ARGUMENTS:\n",
        "    -X_train = biomarkers for train (independent variables)\n",
        "    -X_test  = biomarkers for test  (independent variables)\n",
        "    -y_train = labels for train (target variable 'symp')\n",
        "    -y_test  = labels for test  (target variable 'symp')\n",
        "\n",
        "    *Returned in the following order X_train,X_test,y_train, y_test. \n",
        "\n",
        "    \"\"\"\n",
        "    \n",
        "    #Import train_test_split from sklearn\n",
        "    from sklearn.model_selection import train_test_split\n",
        "\n",
        "    #Define a dataframe with the all the BHs and their symp condition\n",
        "    BH_symp   = data_BHsymp.groupby('BH').symp.first()\n",
        "    BH_symp = pd.DataFrame(BH_symp.reset_index(drop = False)) #transform it to df\n",
        "\n",
        "    #Split the BH PATIENTS in train and test \n",
        "    X_BH = BH_symp.BH   #a pandas Series with the BH numbers.\n",
        "    y_BH = BH_symp.symp #the corresponding Series with the symptomatic condition of each BH (1: sympt / 0: asympt)\n",
        "\n",
        "\n",
        "    XBH_train, XBH_test, yBH_train, yBH_test = train_test_split(X_BH, y_BH, \n",
        "        random_state= rnd_state, stratify = y_BH , test_size = test_siz) #perform the split\n",
        "    \n",
        "    if figures:\n",
        "        print('*BH patient train-test split\\n---------------------------\\n')\n",
        "        print(\"Train patients: {:.2f}% | 0: {} | 1: {}\".format(len(XBH_train) / len(X_BH)*100, \n",
        "                                                        yBH_train.value_counts()[0],\n",
        "                                                        yBH_train.value_counts()[1]      ))\n",
        "\n",
        "        print(\"Test patients:  {:.2f}% | 0: {} | 1: {}\".format(len(XBH_test) / len(X_BH)*100, \n",
        "                                                        yBH_test.value_counts()[0],\n",
        "                                                        yBH_test.value_counts()[1]   ))\n",
        "        \n",
        "        import plotly.express as px\n",
        "        #See train-test overall percentage\n",
        "        fig = px.pie(values= [len(XBH_train), len(XBH_test)],  names = ['Train', 'Test'], width = 400, height = 400, title = 'Train-test BH patient split')\n",
        "        fig.show()\n",
        "\n",
        "\n",
        "        #See symp percentages in train\n",
        "        fig = px.pie(values= yBH_train.value_counts(),  names = ['Asymptomatic', 'Symptomatic'], width = 400, height = 400, title = 'TRAIN: Symptomatic vs Asymptomatic patients')\n",
        "        fig.show()\n",
        "\n",
        "        #See symp percentages in test\n",
        "        fig = px.pie(values= yBH_test.value_counts(),  names = ['Asymptomatic', 'Symptomatic'], width = 400, height = 400, title = 'TEST: Symptomatic vs Asymptomatic patients')\n",
        "        fig.show()\n",
        "    \n",
        "\n",
        "    #TAKE the beats corresponding to the BH train-test split\n",
        "    #Select all the beats for Train\n",
        "    X_train = data_BHsymp[data_BHsymp.BH.isin(XBH_train)]      #biomarkers\n",
        "    y_train = data_BHsymp[data_BHsymp.BH.isin(XBH_train)].symp #labels\n",
        "    #Select all the beats for Test\n",
        "    X_test = data_BHsymp[data_BHsymp.BH.isin(XBH_test)]        #biomarkers\n",
        "    y_test = data_BHsymp[data_BHsymp.BH.isin(XBH_test)].symp   #labels\n",
        "\n",
        "    #Reset the indexes\n",
        "    X_train = X_train.reset_index(drop = True)\n",
        "    X_test  = X_test.reset_index(drop = True)\n",
        "    y_train = y_train.reset_index(drop = True)\n",
        "    y_test  = y_test.reset_index(drop = True)\n",
        "    \n",
        "    X_train_wBH_Symp = X_train.copy()\n",
        "    \n",
        "    #Drop the BH patient's column and symp target variable from X_train and X_test\n",
        "    # and reset the indexes\n",
        "    X_train = X_train.drop(columns = ['BH', 'symp']).reset_index(drop = True)\n",
        "    X_test  = X_test.drop(columns =  ['BH', 'symp']).reset_index(drop = True)\n",
        "    y_train = y_train.reset_index(drop = True)\n",
        "    y_test  = y_test.reset_index(drop = True)\n",
        "    \n",
        "    return X_train,X_test,y_train, y_test, X_train_wBH_Symp"
      ]
    },
    {
      "cell_type": "code",
      "execution_count": null,
      "metadata": {
        "id": "t9vJXrRkQhKO"
      },
      "outputs": [],
      "source": [
        "def StratifiedKFold_BH (data_BHsymp, n_splits_, random_state_, shuffle_ = True):\n",
        "    \"\"\"\n",
        "    Mimicks the behaviour of StratifiedKFold but performing the train-test splits of each fold\n",
        "    according to the BH patients, and then selects the corresponding beats\n",
        "    \n",
        "    INPUT ARGUMENTS:\n",
        "    ## Data ##\n",
        "    - data_BHsymp: a pandas dataframe with all the independent variables (biomarkers), the'BH' (patient BH code) \n",
        "    and the 'symp'target variable (1: symptomatic / 0: asymptomatic). Each row correspond to a beat. \n",
        "    *Note: the 'BH' and 'symp' column names must be respected. \n",
        "\n",
        "    ## StratifiedKFold parameters ##\n",
        "    -n_splits_ = number of folds \n",
        "    -shuffle_ = Whether to shuffle each class’s samples before splitting into batches. Note that the samples within each split will not be shuffled.\n",
        "    -random_state_ = When shuffle is True, random_state affects the ordering of the indices, which controls the randomness of each fold for each class. \n",
        "    \n",
        "    Source: https://scikit-learn.org/stable/modules/generated/sklearn.model_selection.StratifiedKFold.html\n",
        "    \n",
        "    \"\"\"\n",
        "    BHs_in_data = data_BHsymp.BH.unique()\n",
        "    symp_in_data = data_BHsymp.groupby('BH').symp.first()\n",
        "\n",
        "    #Perform the StratifiedKfold split of the BH patients in the 'data' dataframe\n",
        "    cv = StratifiedKFold(n_splits= n_splits_, shuffle= shuffle_, random_state = random_state_)\n",
        "    BH_splits = list(cv.split(BHs_in_data, symp_in_data))\n",
        "\n",
        "    #Select the beats from that patients to define the final train-test split\n",
        "    cv_beats = []\n",
        "    for trainBH_index, testBH_index in BH_splits: #iterate the BH indexes for each fold\n",
        "\n",
        "        train_BH = BHs_in_data[trainBH_index] #take the BH numbers for train\n",
        "        test_BH = BHs_in_data[testBH_index]   #take the BH numbers for test\n",
        "\n",
        "        train_data = data_BHsymp[data_BHsymp['BH'].isin(train_BH)] #take the beats of the BH patients in train\n",
        "        test_data = data_BHsymp[data_BHsymp['BH'].isin(test_BH)]   #take the beats of the BH patients in test\n",
        "\n",
        "        train_data_idx = list(train_data.index) #extract the TRAIN beat indexes and convert to list\n",
        "        test_data_idx  = list(test_data.index)  #extract the TEST beat indexes and convert to list\n",
        "\n",
        "        tuple_train_test = (train_data_idx,test_data_idx) #generate a tuple with the train-test beat indexes for each fold\n",
        "        return cv_beats.append(tuple_train_test)"
      ]
    },
    {
      "cell_type": "markdown",
      "metadata": {
        "id": "4RFUz3tO3lL0"
      },
      "source": [
        "# **1. Define the datasets**"
      ]
    },
    {
      "cell_type": "markdown",
      "source": [
        "## **All the dataset**: All the 120 biomarkers.\n"
      ],
      "metadata": {
        "id": "0IEMsU49EYfn"
      }
    },
    {
      "cell_type": "code",
      "source": [
        "tot_bmk = list(X_bmkclc.columns[11:].values)\n",
        "X_bmk_all = X_bmkclc[ ['BH','symp'] + tot_bmk]\n",
        "print('All biomarkers shape: {}'.format(X_bmk_all.shape))"
      ],
      "metadata": {
        "colab": {
          "base_uri": "https://localhost:8080/"
        },
        "id": "6KkUCd89EgFJ",
        "outputId": "569f68cd-2c25-41ad-cba5-1ad620e404dc"
      },
      "execution_count": null,
      "outputs": [
        {
          "output_type": "stream",
          "name": "stdout",
          "text": [
            "All biomarkers shape: (26304, 122)\n"
          ]
        }
      ]
    },
    {
      "cell_type": "markdown",
      "metadata": {
        "id": "7ng2Qyt_3q2W"
      },
      "source": [
        "## **Dataset 1**: best biomarkers (Correlation + Decision Trees + Univariate selection).\n",
        "Includes 19 best biomarkers\n"
      ]
    },
    {
      "cell_type": "code",
      "execution_count": null,
      "metadata": {
        "colab": {
          "base_uri": "https://localhost:8080/"
        },
        "id": "bJk5uwbO31IU",
        "outputId": "d4380c0a-3434-4e22-81ad-7d1700181f75"
      },
      "outputs": [
        {
          "output_type": "stream",
          "name": "stdout",
          "text": [
            "Dataset 1 shape: (26304, 21)\n"
          ]
        }
      ],
      "source": [
        "tot_best_bmk = ['AreaQRSabs_aVF', 'Pavg_aVL', 'LP_QRSd_V4', 'AreaQRSabs_II', 'LP_QRSd_V1', 'AreaQRSabs_V3', 'LP_RMS40_V3', 'AreaQRSabs_V2', 'Pavg_aVF', 'Pavg_III', 'ST_slope_V3', 'ST_slope_II', 'LP_QRSd_V6', 'LP_QRSd_V3', 'ST_slope_V5', 'AreaQRSabs_aVL', 'AreaQRSabs_V1', 'AreaQRSabs_III', 'QTc_V6']\n",
        "X_ds1 = X_bmkclc[ ['BH','symp'] + tot_best_bmk ] \n",
        "print('Dataset 1 shape: {}'.format(X_ds1.shape))"
      ]
    },
    {
      "cell_type": "markdown",
      "metadata": {
        "id": "20hPJCCE4dnF"
      },
      "source": [
        "## **Dataset 2**: best biomarkers + all clinical data.\n",
        "Includes 19 best biomarkers + 9 clinical variables\n"
      ]
    },
    {
      "cell_type": "code",
      "execution_count": null,
      "metadata": {
        "colab": {
          "base_uri": "https://localhost:8080/"
        },
        "id": "Zsw-s-6g4kjy",
        "outputId": "1a37bc12-e233-468f-9561-a41720e07f3f"
      },
      "outputs": [
        {
          "output_type": "stream",
          "name": "stdout",
          "text": [
            "Dataset 2 shape: (26304, 30)\n"
          ]
        }
      ],
      "source": [
        "tot_best_bmk = ['AreaQRSabs_aVF', 'Pavg_aVL', 'LP_QRSd_V4', 'AreaQRSabs_II', 'LP_QRSd_V1', 'AreaQRSabs_V3', 'LP_RMS40_V3', 'AreaQRSabs_V2', 'Pavg_aVF', 'Pavg_III', 'ST_slope_V3', 'ST_slope_II', 'LP_QRSd_V6', 'LP_QRSd_V3', 'ST_slope_V5', 'AreaQRSabs_aVL', 'AreaQRSabs_V1', 'AreaQRSabs_III', 'QTc_V6']\n",
        "clinical_vars = ['Diagnosis_age', 'Gender', 'Proband', 'FH_SCD', 'FH_SCD_bef_55', 'SD_VF_bef_Dg', 'sponECGtype1_all', 'AF_bef_Dg', 'EPS_inducib_dic']\n",
        "X_ds2 = X_bmkclc[ ['BH','symp'] + tot_best_bmk + clinical_vars] \n",
        "print('Dataset 2 shape: {}'.format(X_ds2.shape))"
      ]
    },
    {
      "cell_type": "markdown",
      "metadata": {
        "id": "ee8F4fnC9mDc"
      },
      "source": [
        "## **Dataset 3**: 5 best biomarkers for each lead (based on correlation).\n",
        "Includes 58 best biomarkers (5 from each lead but excluding 2 LP_LAS)\n"
      ]
    },
    {
      "cell_type": "code",
      "execution_count": null,
      "metadata": {
        "colab": {
          "base_uri": "https://localhost:8080/"
        },
        "id": "Y0BZzVAn94Zd",
        "outputId": "c2b23614-1985-492c-e44f-a83cbafd3171"
      },
      "outputs": [
        {
          "output_type": "stream",
          "name": "stdout",
          "text": [
            "Dataset 3 shape: (26304, 60)\n"
          ]
        }
      ],
      "source": [
        "tot_best5lead_bmk = ['PR_I', 'ST_60_I', 'ST_0_I', 'LP_QRSd_I', 'qt_I', \n",
        "'ST_0_II', 'ST_slope_II', 'PR_II', 'qt_II', 'AreaQRSabs_II',\n",
        "'AreaQRSabs_III', 'Pavg_III' ,'PR_III', 'qt_III', 'LP_QRSd_III',\n",
        "'ST_60_aVR', 'LP_RMS40_aVR', 'ST_0_aVR', 'PR_aVR', 'qt_aVR', \n",
        "'Pavg_aVL', 'AreaQRSabs_aVL', 'PR_aVL', 'qt_aVL', 'ST_60_aVL', \n",
        "'ST_0_aVF', 'AreaQRSabs_aVF', 'ST_slope_aVF', 'PR_aVF', 'Pavg_aVF',\n",
        "'ST_60_V1', 'LP_QRSd_V1', 'PR_V1', 'qt_V1', 'AreaQRSabs_V1', \n",
        "'ST_60_V2', 'AreaQRSabs_V2', 'ST_0_V2', 'PR_V2', 'LP_QRSd_V2',\n",
        "'ST_60_V3', 'LP_QRSd_V3', 'PR_V3', 'AreaQRSabs_V3', 'LP_RMS40_V3',\n",
        "'LP_QRSd_V4', 'ST_60_V4', 'ST_0_V4', 'qt_V4',\n",
        "'ST_slope_V5', 'ST_0_V5', 'qt_V5', 'QTc_V5','PR_V5',\n",
        "'QTc_V6', 'LP_QRSd_V6', 'qt_V6', 'ST_slope_V6' ]\n",
        "\n",
        "X_ds3 = X_bmkclc[ ['BH','symp'] + tot_best5lead_bmk ] \n",
        "print('Dataset 3 shape: {}'.format(X_ds3.shape))"
      ]
    },
    {
      "cell_type": "markdown",
      "metadata": {
        "id": "wRS4iQDhWINx"
      },
      "source": [
        "## **Dataset 4**: 5 best biomarkers for each lead (based on correlation) + clinical data.\n",
        "Includes 58 best biomarkers (5 from each lead but excluding 2 LP_LAS) + clinical data. \n"
      ]
    },
    {
      "cell_type": "code",
      "execution_count": null,
      "metadata": {
        "colab": {
          "base_uri": "https://localhost:8080/"
        },
        "id": "miQ-aTPFWMxH",
        "outputId": "79e2f6e1-c03d-495f-b188-831c3c1ae53e"
      },
      "outputs": [
        {
          "output_type": "stream",
          "name": "stdout",
          "text": [
            "Dataset 3 shape: (26304, 69)\n"
          ]
        }
      ],
      "source": [
        "X_ds4 = X_bmkclc[ ['BH','symp'] + tot_best5lead_bmk +  clinical_vars] \n",
        "print('Dataset 3 shape: {}'.format(X_ds4.shape))"
      ]
    },
    {
      "cell_type": "markdown",
      "metadata": {
        "id": "xKtEYV9Y-ZEN"
      },
      "source": [
        "## **Dataset 5**: best biomarkers and clinical variable based on univariate selection (SelectKBest).\n",
        "Repeat what it was done in [3.2.3 Univariate selection](https://colab.research.google.com/drive/1ebdLWv-O7FurtHxEVpgi4ute8-b-gOSn#scrollTo=_cHtUC3zwbxo) but now taken into account also the clinical data. \n",
        "\n",
        "Includes the **30 best features** including both biomarkers and clinical data. \n"
      ]
    },
    {
      "cell_type": "code",
      "execution_count": null,
      "metadata": {
        "colab": {
          "base_uri": "https://localhost:8080/"
        },
        "id": "MhkZZtQq-ZEW",
        "outputId": "c9904895-fffa-424f-c496-109a73b49357"
      },
      "outputs": [
        {
          "output_type": "stream",
          "name": "stdout",
          "text": [
            "           Features        Score\n",
            "5      SD_VF_bef_Dg  7469.770235\n",
            "4     FH_SCD_bef_55  2982.416154\n",
            "7         AF_bef_Dg  2920.911071\n",
            "49         Pavg_aVL  2005.623674\n",
            "13           ST_0_I  1949.765142\n",
            "50   AreaQRSabs_aVL  1938.968299\n",
            "94         ST_60_V3  1344.318640\n",
            "115     ST_slope_V5  1244.798462\n",
            "2           Proband  1194.595471\n",
            "44        ST_60_aVR  1089.913178\n",
            "113         ST_0_V5  1087.675960\n",
            "97       LP_QRSd_V3  1052.730879\n",
            "30   AreaQRSabs_III  1049.672080\n",
            "122          QTc_V6   978.527817\n",
            "80    AreaQRSabs_V2   936.262937\n",
            "77       LP_QRSd_V1   910.829249\n",
            "107      LP_QRSd_V4   895.497776\n",
            "25      ST_slope_II   890.102311\n",
            "21            qt_II   818.797288\n",
            "74         ST_60_V1   777.096646\n",
            "84         ST_60_V2   771.459984\n",
            "26            PR_II   740.618943\n",
            "54        ST_60_aVL   728.226895\n",
            "111           qt_V5   720.631624\n",
            "60   AreaQRSabs_aVF   715.445371\n",
            "116           PR_V5   709.034599\n",
            "23          ST_0_II   699.410605\n",
            "127      LP_QRSd_V6   694.730526\n",
            "61           qt_aVF   657.537262\n",
            "96            PR_V3   639.972062\n",
            "Dataset 5 shape: (26304, 32)\n"
          ]
        }
      ],
      "source": [
        "#UNIVARIATE SELECTION\n",
        "from sklearn.feature_selection import SelectKBest\n",
        "from sklearn.feature_selection import f_classif\n",
        "\n",
        "X_features = X_bmkclc.drop(columns = ['BH','symp'] )\n",
        "y_symp = X_bmkclc.symp\n",
        "\n",
        "bestfeatures = SelectKBest(score_func = f_classif, k = 10)\n",
        "fit = bestfeatures.fit(abs(X_features),y_symp)\n",
        "dfscores = pd.DataFrame(fit.scores_)\n",
        "dfcolumns = pd.DataFrame(X_features.columns)\n",
        "featureScores = pd.concat([dfcolumns, dfscores], axis = 1)\n",
        "featureScores.columns = ['Features', 'Score']\n",
        "print(featureScores.nlargest(30,'Score'))\n",
        "best_30ft_univ = featureScores.nlargest(30,'Score').Features\n",
        "best_30ft_univ = list(best_30ft_univ)\n",
        "\n",
        "#Dataframe ´\n",
        "X_ds5 = X_bmkclc[ ['BH','symp'] + best_30ft_univ ] \n",
        "print('Dataset 5 shape: {}'.format(X_ds5.shape))"
      ]
    },
    {
      "cell_type": "markdown",
      "metadata": {
        "id": "nthFNr-SiF-9"
      },
      "source": [
        "## **Dataset 6**: best biomarkers based only on Tree Classifier approach\n",
        "\n",
        "Repeat what it was done in [3.2.2 Tree Classifier approach](https://colab.research.google.com/drive/1ebdLWv-O7FurtHxEVpgi4ute8-b-gOSn#scrollTo=_cHtUC3zwbxo) but now taken into account also the clinical data. \n",
        "\n",
        "Includes the **30 best features** including both biomarkers and clinical data. \n"
      ]
    },
    {
      "cell_type": "code",
      "execution_count": null,
      "metadata": {
        "colab": {
          "base_uri": "https://localhost:8080/"
        },
        "id": "b2tN9PMmahz9",
        "outputId": "d4131041-4993-4b3c-d857-2d91d49baf3f"
      },
      "outputs": [
        {
          "output_type": "stream",
          "name": "stdout",
          "text": [
            "Dataset 6 shape: (26304, 32)\n"
          ]
        }
      ],
      "source": [
        "#Tree Classifier \n",
        "from sklearn.ensemble import ExtraTreesClassifier\n",
        "feature_importances = []\n",
        "\n",
        "n_trials = 3\n",
        "for i in range(n_trials):\n",
        "    model = ExtraTreesClassifier(random_state= i )\n",
        "    model.fit(X_features, y_symp) #the same inputs as before\n",
        "    feature_importances.append(model.feature_importances_)\n",
        "\n",
        "# Aggregate feature importances for each trial\n",
        "average_importances = np.mean(feature_importances, axis=0)\n",
        "feat_importances = pd.Series(average_importances, index=X_features.columns)\n",
        "\n",
        "# Select the top 30 features\n",
        "best_30ft_tree = list(feat_importances.nlargest(30).index)\n",
        "\n",
        "#Dataframe ´\n",
        "X_ds6 = X_bmkclc[ ['BH','symp'] + best_30ft_tree ] \n",
        "print('Dataset 6 shape: {}'.format(X_ds6.shape))\n"
      ]
    },
    {
      "cell_type": "markdown",
      "metadata": {
        "id": "q1oMFXhjjLaF"
      },
      "source": [
        "> Perform the feature selection based on ``ExtraTreesClassifier`` but modifing 3 times the ``random_state`` to ensure more robustneess. It end up with the 30 common features that have an average better importance on the 3 randomizations."
      ]
    },
    {
      "cell_type": "markdown",
      "metadata": {
        "id": "N5i7iw2KDOXo"
      },
      "source": [
        "**For better readability a dictionary will be done containing the 6 datasets.**"
      ]
    },
    {
      "cell_type": "code",
      "execution_count": null,
      "metadata": {
        "id": "HYdOx5HADbqw"
      },
      "outputs": [],
      "source": [
        "all_datasets = {'All_biomarkers': X_bmk_all, 'Dataset_1': X_ds1,'Dataset_2': X_ds2, 'Dataset_3': X_ds3,'Dataset_4': X_ds4, 'Dataset_5': X_ds5, 'Dataset_6':X_ds6}"
      ]
    },
    {
      "cell_type": "markdown",
      "metadata": {
        "id": "zalEAY8ZAuSP"
      },
      "source": [
        "# **2. Find the best XGBoost model**\n",
        "The same process will be conducted over each dataset."
      ]
    },
    {
      "cell_type": "code",
      "source": [
        "model = XGBClassifier() "
      ],
      "metadata": {
        "id": "NWKdxA1mE0MI"
      },
      "execution_count": null,
      "outputs": []
    },
    {
      "cell_type": "markdown",
      "metadata": {
        "id": "ZF8-DkgRBmNf"
      },
      "source": [
        "### **1. First try XGBoost with default parameters**\n",
        "\n"
      ]
    },
    {
      "cell_type": "code",
      "execution_count": null,
      "metadata": {
        "id": "dGoVP5CMEMeh",
        "colab": {
          "base_uri": "https://localhost:8080/"
        },
        "outputId": "55ddfe8a-7a56-4eac-d872-54b8e588a91c"
      },
      "outputs": [
        {
          "output_type": "stream",
          "name": "stdout",
          "text": [
            "All_biomarkers\n",
            "Dataset_1\n",
            "Dataset_2\n",
            "Dataset_3\n",
            "Dataset_4\n",
            "Dataset_5\n",
            "Dataset_6\n"
          ]
        }
      ],
      "source": [
        "default_results_ds = [];\n",
        "for dataset_name, dataset in all_datasets.items():\n",
        "  print(dataset_name)\n",
        "\n",
        "  #A. Define the X,y\n",
        "  X = dataset.drop(columns = ['BH', 'symp'])\n",
        "  y = dataset.symp\n",
        "\n",
        "  X_wBH_Symp = dataset #needed input for StratifiedKFold_BH (in this case corresponds to the raw datasets)\n",
        "\n",
        "    #B.3 Cross validation score with all data to assess the performance of the model for each dataset\n",
        "  n_scores = []\n",
        "  n_trials = 3\n",
        "  for i in range(n_trials):\n",
        "    #define the cross-validation strategy to validate the model (using the custom function)\n",
        "    cv = StratifiedKFold_BH (X_wBH_Symp, n_splits_ = 6, random_state_ = i, shuffle_ = True) #X_train_wBH_Symp output from the custom function (See the section above)\n",
        "\n",
        "    #evaluate the model\n",
        "    scores = cross_val_score(model, X, y, scoring='roc_auc', cv=cv, n_jobs=-1)\n",
        "\n",
        "    #save the mean scores\n",
        "    n_scores.append(np.mean(scores))\n",
        "    mean_cv_nscore = np.mean(n_scores)\n",
        "\n",
        "    #Save RESULTS: The mean ROC_AUC cv score for each dataset\n",
        "  default_results_ds.append({\n",
        "      'Dataset' : dataset_name,\n",
        "      'AUC_roc_mean_cvscore': mean_cv_nscore\n",
        "      \n",
        "  })\n",
        "\n",
        "df_DatasetResults = pd.DataFrame(default_results_ds,columns=['Dataset', 'AUC_roc_mean_cvscore'])"
      ]
    },
    {
      "cell_type": "code",
      "execution_count": null,
      "metadata": {
        "colab": {
          "base_uri": "https://localhost:8080/",
          "height": 269
        },
        "id": "pLX4yaqhX3O7",
        "outputId": "784e4c06-cc80-47b8-a95a-b27989bd0680"
      },
      "outputs": [
        {
          "output_type": "execute_result",
          "data": {
            "text/plain": [
              "          Dataset  AUC_roc_mean_cvscore\n",
              "0  All_biomarkers              0.671816\n",
              "1       Dataset_1              0.638698\n",
              "2       Dataset_2              0.726813\n",
              "3       Dataset_3              0.670066\n",
              "4       Dataset_4              0.753397\n",
              "5       Dataset_5              0.887738\n",
              "6       Dataset_6              0.755121"
            ],
            "text/html": [
              "\n",
              "  <div id=\"df-e82896ae-356c-4216-bcc0-4aaa5470ecdb\">\n",
              "    <div class=\"colab-df-container\">\n",
              "      <div>\n",
              "<style scoped>\n",
              "    .dataframe tbody tr th:only-of-type {\n",
              "        vertical-align: middle;\n",
              "    }\n",
              "\n",
              "    .dataframe tbody tr th {\n",
              "        vertical-align: top;\n",
              "    }\n",
              "\n",
              "    .dataframe thead th {\n",
              "        text-align: right;\n",
              "    }\n",
              "</style>\n",
              "<table border=\"1\" class=\"dataframe\">\n",
              "  <thead>\n",
              "    <tr style=\"text-align: right;\">\n",
              "      <th></th>\n",
              "      <th>Dataset</th>\n",
              "      <th>AUC_roc_mean_cvscore</th>\n",
              "    </tr>\n",
              "  </thead>\n",
              "  <tbody>\n",
              "    <tr>\n",
              "      <th>0</th>\n",
              "      <td>All_biomarkers</td>\n",
              "      <td>0.671816</td>\n",
              "    </tr>\n",
              "    <tr>\n",
              "      <th>1</th>\n",
              "      <td>Dataset_1</td>\n",
              "      <td>0.638698</td>\n",
              "    </tr>\n",
              "    <tr>\n",
              "      <th>2</th>\n",
              "      <td>Dataset_2</td>\n",
              "      <td>0.726813</td>\n",
              "    </tr>\n",
              "    <tr>\n",
              "      <th>3</th>\n",
              "      <td>Dataset_3</td>\n",
              "      <td>0.670066</td>\n",
              "    </tr>\n",
              "    <tr>\n",
              "      <th>4</th>\n",
              "      <td>Dataset_4</td>\n",
              "      <td>0.753397</td>\n",
              "    </tr>\n",
              "    <tr>\n",
              "      <th>5</th>\n",
              "      <td>Dataset_5</td>\n",
              "      <td>0.887738</td>\n",
              "    </tr>\n",
              "    <tr>\n",
              "      <th>6</th>\n",
              "      <td>Dataset_6</td>\n",
              "      <td>0.755121</td>\n",
              "    </tr>\n",
              "  </tbody>\n",
              "</table>\n",
              "</div>\n",
              "      <button class=\"colab-df-convert\" onclick=\"convertToInteractive('df-e82896ae-356c-4216-bcc0-4aaa5470ecdb')\"\n",
              "              title=\"Convert this dataframe to an interactive table.\"\n",
              "              style=\"display:none;\">\n",
              "        \n",
              "  <svg xmlns=\"http://www.w3.org/2000/svg\" height=\"24px\"viewBox=\"0 0 24 24\"\n",
              "       width=\"24px\">\n",
              "    <path d=\"M0 0h24v24H0V0z\" fill=\"none\"/>\n",
              "    <path d=\"M18.56 5.44l.94 2.06.94-2.06 2.06-.94-2.06-.94-.94-2.06-.94 2.06-2.06.94zm-11 1L8.5 8.5l.94-2.06 2.06-.94-2.06-.94L8.5 2.5l-.94 2.06-2.06.94zm10 10l.94 2.06.94-2.06 2.06-.94-2.06-.94-.94-2.06-.94 2.06-2.06.94z\"/><path d=\"M17.41 7.96l-1.37-1.37c-.4-.4-.92-.59-1.43-.59-.52 0-1.04.2-1.43.59L10.3 9.45l-7.72 7.72c-.78.78-.78 2.05 0 2.83L4 21.41c.39.39.9.59 1.41.59.51 0 1.02-.2 1.41-.59l7.78-7.78 2.81-2.81c.8-.78.8-2.07 0-2.86zM5.41 20L4 18.59l7.72-7.72 1.47 1.35L5.41 20z\"/>\n",
              "  </svg>\n",
              "      </button>\n",
              "      \n",
              "  <style>\n",
              "    .colab-df-container {\n",
              "      display:flex;\n",
              "      flex-wrap:wrap;\n",
              "      gap: 12px;\n",
              "    }\n",
              "\n",
              "    .colab-df-convert {\n",
              "      background-color: #E8F0FE;\n",
              "      border: none;\n",
              "      border-radius: 50%;\n",
              "      cursor: pointer;\n",
              "      display: none;\n",
              "      fill: #1967D2;\n",
              "      height: 32px;\n",
              "      padding: 0 0 0 0;\n",
              "      width: 32px;\n",
              "    }\n",
              "\n",
              "    .colab-df-convert:hover {\n",
              "      background-color: #E2EBFA;\n",
              "      box-shadow: 0px 1px 2px rgba(60, 64, 67, 0.3), 0px 1px 3px 1px rgba(60, 64, 67, 0.15);\n",
              "      fill: #174EA6;\n",
              "    }\n",
              "\n",
              "    [theme=dark] .colab-df-convert {\n",
              "      background-color: #3B4455;\n",
              "      fill: #D2E3FC;\n",
              "    }\n",
              "\n",
              "    [theme=dark] .colab-df-convert:hover {\n",
              "      background-color: #434B5C;\n",
              "      box-shadow: 0px 1px 3px 1px rgba(0, 0, 0, 0.15);\n",
              "      filter: drop-shadow(0px 1px 2px rgba(0, 0, 0, 0.3));\n",
              "      fill: #FFFFFF;\n",
              "    }\n",
              "  </style>\n",
              "\n",
              "      <script>\n",
              "        const buttonEl =\n",
              "          document.querySelector('#df-e82896ae-356c-4216-bcc0-4aaa5470ecdb button.colab-df-convert');\n",
              "        buttonEl.style.display =\n",
              "          google.colab.kernel.accessAllowed ? 'block' : 'none';\n",
              "\n",
              "        async function convertToInteractive(key) {\n",
              "          const element = document.querySelector('#df-e82896ae-356c-4216-bcc0-4aaa5470ecdb');\n",
              "          const dataTable =\n",
              "            await google.colab.kernel.invokeFunction('convertToInteractive',\n",
              "                                                     [key], {});\n",
              "          if (!dataTable) return;\n",
              "\n",
              "          const docLinkHtml = 'Like what you see? Visit the ' +\n",
              "            '<a target=\"_blank\" href=https://colab.research.google.com/notebooks/data_table.ipynb>data table notebook</a>'\n",
              "            + ' to learn more about interactive tables.';\n",
              "          element.innerHTML = '';\n",
              "          dataTable['output_type'] = 'display_data';\n",
              "          await google.colab.output.renderOutput(dataTable, element);\n",
              "          const docLink = document.createElement('div');\n",
              "          docLink.innerHTML = docLinkHtml;\n",
              "          element.appendChild(docLink);\n",
              "        }\n",
              "      </script>\n",
              "    </div>\n",
              "  </div>\n",
              "  "
            ]
          },
          "metadata": {},
          "execution_count": 15
        }
      ],
      "source": [
        "df_DatasetResults"
      ]
    },
    {
      "cell_type": "markdown",
      "metadata": {
        "id": "AXpvCqVaWauU"
      },
      "source": [
        "### **Results:**\n",
        "From the analysis of the different datasets and feature selection we can see that default XGBoost achieves the best perfomance with **Dataset 5: 30 best biomarkers based only on univariate selection (SelectKBest)**.\n",
        "\n",
        "Therefore, let's try to optimize the performance with this approach. Before GridSearchCV hyperparameter tunning, let's study what's the optimal number of features. For that, we will study **subsets of Dataset  5** generated with different number of best features from univariate selection: *Subset_<#features>*. \n"
      ]
    },
    {
      "cell_type": "code",
      "execution_count": null,
      "metadata": {
        "colab": {
          "base_uri": "https://localhost:8080/"
        },
        "id": "cef-GIG79O8C",
        "outputId": "a00dd044-106b-4fce-9497-3c62c8a977f0"
      },
      "outputs": [
        {
          "output_type": "stream",
          "name": "stdout",
          "text": [
            "Subset_10:  (26304, 12)\n",
            "Subset_20:  (26304, 22)\n",
            "Subset_30:  (26304, 32)\n",
            "Subset_40:  (26304, 42)\n",
            "Subset_50:  (26304, 52)\n",
            "Subset_60:  (26304, 62)\n"
          ]
        }
      ],
      "source": [
        "#Define the subsets\n",
        "X_ds5_subsets = {'Subset_{}'.format(n_feat) : X_bmkclc[ ['BH','symp'] + list(featureScores.nlargest(n_feat,'Score').Features) ] \n",
        "                 for n_feat in range(10,61,10)  } #Generate a subset with the top n_feat from univariate selection.\n",
        "\n",
        "#Show the shape of each subset (apart from the #features, BH and symp columns must be considered)\n",
        "for subs in X_ds5_subsets.keys():\n",
        "  print(subs + ': ',X_ds5_subsets[subs].shape)"
      ]
    },
    {
      "cell_type": "code",
      "execution_count": null,
      "metadata": {
        "id": "4O4e3d37_DMu",
        "colab": {
          "base_uri": "https://localhost:8080/"
        },
        "outputId": "11928476-2d82-449e-a40c-e3b21dab1494"
      },
      "outputs": [
        {
          "output_type": "stream",
          "name": "stdout",
          "text": [
            "Subset_10\n",
            "Subset_20\n",
            "Subset_30\n",
            "Subset_40\n",
            "Subset_50\n",
            "Subset_60\n"
          ]
        }
      ],
      "source": [
        "#Assess the default XGBoost performance for each subset\n",
        "default_results_subsets = [];\n",
        "for subset_name, subset in X_ds5_subsets.items():\n",
        "  print(subset_name)\n",
        "  #A. Define the X,y\n",
        "  X = subset.drop(columns = ['BH', 'symp'])\n",
        "  y = subset.symp\n",
        "\n",
        "  X_wBH_Symp = subset #needed input for StratifiedKFold_BH (in this case corresponds to the raw subsets) \n",
        "\n",
        "    #B.Cross validation score with all data to assess the performance of the model for each subset\n",
        "  n_scores = []\n",
        "  n_trials = 5\n",
        "  for i in range(n_trials):\n",
        "    #define the cross-validation strategy to validate the model (using the custom function)\n",
        "    cv = StratifiedKFold_BH (X_wBH_Symp, n_splits_ = 6, random_state_ = i, shuffle_ = True) #X_train_wBH_Symp output from the custom function (See the section above)\n",
        "\n",
        "    #evaluate the model\n",
        "    scores = cross_val_score(model, X, y, scoring='roc_auc', cv=cv, n_jobs=-1)\n",
        "\n",
        "    #save the mean scores\n",
        "    n_scores.append(np.mean(scores))\n",
        "    mean_cv_nscore = np.mean(n_scores)\n",
        "\n",
        "    #Save RESULTS: The mean ROC_AUC cv score for each subset\n",
        "  default_results_subsets.append({\n",
        "      'Subset' : subset_name,\n",
        "      'AUC_roc_mean_cvscore': mean_cv_nscore\n",
        "      \n",
        "  })\n",
        "\n",
        "df_SubsetResults = pd.DataFrame(default_results_subsets,columns=['Subset', 'AUC_roc_mean_cvscore'])"
      ]
    },
    {
      "cell_type": "code",
      "execution_count": null,
      "metadata": {
        "colab": {
          "base_uri": "https://localhost:8080/",
          "height": 237
        },
        "id": "FrMd4P6tEFS3",
        "outputId": "e35274c0-7ec2-4071-ef42-ce21eda9b8dd"
      },
      "outputs": [
        {
          "output_type": "execute_result",
          "data": {
            "text/plain": [
              "      Subset  AUC_roc_mean_cvscore\n",
              "0  Subset_10              0.846092\n",
              "1  Subset_20              0.913073\n",
              "2  Subset_30              0.887738\n",
              "3  Subset_40              0.870546\n",
              "4  Subset_50              0.826702\n",
              "5  Subset_60              0.821626"
            ],
            "text/html": [
              "\n",
              "  <div id=\"df-313e687f-04be-480d-8524-193748af05d9\">\n",
              "    <div class=\"colab-df-container\">\n",
              "      <div>\n",
              "<style scoped>\n",
              "    .dataframe tbody tr th:only-of-type {\n",
              "        vertical-align: middle;\n",
              "    }\n",
              "\n",
              "    .dataframe tbody tr th {\n",
              "        vertical-align: top;\n",
              "    }\n",
              "\n",
              "    .dataframe thead th {\n",
              "        text-align: right;\n",
              "    }\n",
              "</style>\n",
              "<table border=\"1\" class=\"dataframe\">\n",
              "  <thead>\n",
              "    <tr style=\"text-align: right;\">\n",
              "      <th></th>\n",
              "      <th>Subset</th>\n",
              "      <th>AUC_roc_mean_cvscore</th>\n",
              "    </tr>\n",
              "  </thead>\n",
              "  <tbody>\n",
              "    <tr>\n",
              "      <th>0</th>\n",
              "      <td>Subset_10</td>\n",
              "      <td>0.846092</td>\n",
              "    </tr>\n",
              "    <tr>\n",
              "      <th>1</th>\n",
              "      <td>Subset_20</td>\n",
              "      <td>0.913073</td>\n",
              "    </tr>\n",
              "    <tr>\n",
              "      <th>2</th>\n",
              "      <td>Subset_30</td>\n",
              "      <td>0.887738</td>\n",
              "    </tr>\n",
              "    <tr>\n",
              "      <th>3</th>\n",
              "      <td>Subset_40</td>\n",
              "      <td>0.870546</td>\n",
              "    </tr>\n",
              "    <tr>\n",
              "      <th>4</th>\n",
              "      <td>Subset_50</td>\n",
              "      <td>0.826702</td>\n",
              "    </tr>\n",
              "    <tr>\n",
              "      <th>5</th>\n",
              "      <td>Subset_60</td>\n",
              "      <td>0.821626</td>\n",
              "    </tr>\n",
              "  </tbody>\n",
              "</table>\n",
              "</div>\n",
              "      <button class=\"colab-df-convert\" onclick=\"convertToInteractive('df-313e687f-04be-480d-8524-193748af05d9')\"\n",
              "              title=\"Convert this dataframe to an interactive table.\"\n",
              "              style=\"display:none;\">\n",
              "        \n",
              "  <svg xmlns=\"http://www.w3.org/2000/svg\" height=\"24px\"viewBox=\"0 0 24 24\"\n",
              "       width=\"24px\">\n",
              "    <path d=\"M0 0h24v24H0V0z\" fill=\"none\"/>\n",
              "    <path d=\"M18.56 5.44l.94 2.06.94-2.06 2.06-.94-2.06-.94-.94-2.06-.94 2.06-2.06.94zm-11 1L8.5 8.5l.94-2.06 2.06-.94-2.06-.94L8.5 2.5l-.94 2.06-2.06.94zm10 10l.94 2.06.94-2.06 2.06-.94-2.06-.94-.94-2.06-.94 2.06-2.06.94z\"/><path d=\"M17.41 7.96l-1.37-1.37c-.4-.4-.92-.59-1.43-.59-.52 0-1.04.2-1.43.59L10.3 9.45l-7.72 7.72c-.78.78-.78 2.05 0 2.83L4 21.41c.39.39.9.59 1.41.59.51 0 1.02-.2 1.41-.59l7.78-7.78 2.81-2.81c.8-.78.8-2.07 0-2.86zM5.41 20L4 18.59l7.72-7.72 1.47 1.35L5.41 20z\"/>\n",
              "  </svg>\n",
              "      </button>\n",
              "      \n",
              "  <style>\n",
              "    .colab-df-container {\n",
              "      display:flex;\n",
              "      flex-wrap:wrap;\n",
              "      gap: 12px;\n",
              "    }\n",
              "\n",
              "    .colab-df-convert {\n",
              "      background-color: #E8F0FE;\n",
              "      border: none;\n",
              "      border-radius: 50%;\n",
              "      cursor: pointer;\n",
              "      display: none;\n",
              "      fill: #1967D2;\n",
              "      height: 32px;\n",
              "      padding: 0 0 0 0;\n",
              "      width: 32px;\n",
              "    }\n",
              "\n",
              "    .colab-df-convert:hover {\n",
              "      background-color: #E2EBFA;\n",
              "      box-shadow: 0px 1px 2px rgba(60, 64, 67, 0.3), 0px 1px 3px 1px rgba(60, 64, 67, 0.15);\n",
              "      fill: #174EA6;\n",
              "    }\n",
              "\n",
              "    [theme=dark] .colab-df-convert {\n",
              "      background-color: #3B4455;\n",
              "      fill: #D2E3FC;\n",
              "    }\n",
              "\n",
              "    [theme=dark] .colab-df-convert:hover {\n",
              "      background-color: #434B5C;\n",
              "      box-shadow: 0px 1px 3px 1px rgba(0, 0, 0, 0.15);\n",
              "      filter: drop-shadow(0px 1px 2px rgba(0, 0, 0, 0.3));\n",
              "      fill: #FFFFFF;\n",
              "    }\n",
              "  </style>\n",
              "\n",
              "      <script>\n",
              "        const buttonEl =\n",
              "          document.querySelector('#df-313e687f-04be-480d-8524-193748af05d9 button.colab-df-convert');\n",
              "        buttonEl.style.display =\n",
              "          google.colab.kernel.accessAllowed ? 'block' : 'none';\n",
              "\n",
              "        async function convertToInteractive(key) {\n",
              "          const element = document.querySelector('#df-313e687f-04be-480d-8524-193748af05d9');\n",
              "          const dataTable =\n",
              "            await google.colab.kernel.invokeFunction('convertToInteractive',\n",
              "                                                     [key], {});\n",
              "          if (!dataTable) return;\n",
              "\n",
              "          const docLinkHtml = 'Like what you see? Visit the ' +\n",
              "            '<a target=\"_blank\" href=https://colab.research.google.com/notebooks/data_table.ipynb>data table notebook</a>'\n",
              "            + ' to learn more about interactive tables.';\n",
              "          element.innerHTML = '';\n",
              "          dataTable['output_type'] = 'display_data';\n",
              "          await google.colab.output.renderOutput(dataTable, element);\n",
              "          const docLink = document.createElement('div');\n",
              "          docLink.innerHTML = docLinkHtml;\n",
              "          element.appendChild(docLink);\n",
              "        }\n",
              "      </script>\n",
              "    </div>\n",
              "  </div>\n",
              "  "
            ]
          },
          "metadata": {},
          "execution_count": 20
        }
      ],
      "source": [
        "df_SubsetResults"
      ]
    },
    {
      "cell_type": "markdown",
      "metadata": {
        "id": "v10xglamEafy"
      },
      "source": [
        "**The best performance is by taking the top 20 features from univariate selection (SelectKBest)**"
      ]
    },
    {
      "cell_type": "code",
      "execution_count": null,
      "metadata": {
        "colab": {
          "base_uri": "https://localhost:8080/",
          "height": 17
        },
        "id": "gtVoi8k4Ecvc",
        "outputId": "047678ee-692d-4a65-c3e1-ca5f55795808"
      },
      "outputs": [
        {
          "data": {
            "application/javascript": [
              "\n",
              "    async function download(id, filename, size) {\n",
              "      if (!google.colab.kernel.accessAllowed) {\n",
              "        return;\n",
              "      }\n",
              "      const div = document.createElement('div');\n",
              "      const label = document.createElement('label');\n",
              "      label.textContent = `Downloading \"${filename}\": `;\n",
              "      div.appendChild(label);\n",
              "      const progress = document.createElement('progress');\n",
              "      progress.max = size;\n",
              "      div.appendChild(progress);\n",
              "      document.body.appendChild(div);\n",
              "\n",
              "      const buffers = [];\n",
              "      let downloaded = 0;\n",
              "\n",
              "      const channel = await google.colab.kernel.comms.open(id);\n",
              "      // Send a message to notify the kernel that we're ready.\n",
              "      channel.send({})\n",
              "\n",
              "      for await (const message of channel.messages) {\n",
              "        // Send a message to notify the kernel that we're ready.\n",
              "        channel.send({})\n",
              "        if (message.buffers) {\n",
              "          for (const buffer of message.buffers) {\n",
              "            buffers.push(buffer);\n",
              "            downloaded += buffer.byteLength;\n",
              "            progress.value = downloaded;\n",
              "          }\n",
              "        }\n",
              "      }\n",
              "      const blob = new Blob(buffers, {type: 'application/binary'});\n",
              "      const a = document.createElement('a');\n",
              "      a.href = window.URL.createObjectURL(blob);\n",
              "      a.download = filename;\n",
              "      div.appendChild(a);\n",
              "      a.click();\n",
              "      div.remove();\n",
              "    }\n",
              "  "
            ],
            "text/plain": [
              "<IPython.core.display.Javascript object>"
            ]
          },
          "metadata": {},
          "output_type": "display_data"
        },
        {
          "data": {
            "application/javascript": [
              "download(\"download_7cca9cfb-cf66-4b54-be41-d2b8e11abbd7\", \"XGBoost_cvDatasets.xlsx\", 5116)"
            ],
            "text/plain": [
              "<IPython.core.display.Javascript object>"
            ]
          },
          "metadata": {},
          "output_type": "display_data"
        },
        {
          "data": {
            "application/javascript": [
              "\n",
              "    async function download(id, filename, size) {\n",
              "      if (!google.colab.kernel.accessAllowed) {\n",
              "        return;\n",
              "      }\n",
              "      const div = document.createElement('div');\n",
              "      const label = document.createElement('label');\n",
              "      label.textContent = `Downloading \"${filename}\": `;\n",
              "      div.appendChild(label);\n",
              "      const progress = document.createElement('progress');\n",
              "      progress.max = size;\n",
              "      div.appendChild(progress);\n",
              "      document.body.appendChild(div);\n",
              "\n",
              "      const buffers = [];\n",
              "      let downloaded = 0;\n",
              "\n",
              "      const channel = await google.colab.kernel.comms.open(id);\n",
              "      // Send a message to notify the kernel that we're ready.\n",
              "      channel.send({})\n",
              "\n",
              "      for await (const message of channel.messages) {\n",
              "        // Send a message to notify the kernel that we're ready.\n",
              "        channel.send({})\n",
              "        if (message.buffers) {\n",
              "          for (const buffer of message.buffers) {\n",
              "            buffers.push(buffer);\n",
              "            downloaded += buffer.byteLength;\n",
              "            progress.value = downloaded;\n",
              "          }\n",
              "        }\n",
              "      }\n",
              "      const blob = new Blob(buffers, {type: 'application/binary'});\n",
              "      const a = document.createElement('a');\n",
              "      a.href = window.URL.createObjectURL(blob);\n",
              "      a.download = filename;\n",
              "      div.appendChild(a);\n",
              "      a.click();\n",
              "      div.remove();\n",
              "    }\n",
              "  "
            ],
            "text/plain": [
              "<IPython.core.display.Javascript object>"
            ]
          },
          "metadata": {},
          "output_type": "display_data"
        },
        {
          "data": {
            "application/javascript": [
              "download(\"download_930632d1-8636-4ecb-9ab8-01962d554231\", \"XGBoost_cvSubsets.xlsx\", 5115)"
            ],
            "text/plain": [
              "<IPython.core.display.Javascript object>"
            ]
          },
          "metadata": {},
          "output_type": "display_data"
        }
      ],
      "source": [
        "# # Save results\n",
        "# from google.colab import files\n",
        "\n",
        "# df_DatasetResults.to_excel('XGBoost_cvDatasets.xlsx')\n",
        "# df_SubsetResults.to_excel('XGBoost_cvSubsets.xlsx')\n",
        "\n",
        "\n",
        "# # download the file to your local PC\n",
        "# files.download('XGBoost_cvDatasets.xlsx')\n",
        "# files.download('XGBoost_cvSubsets.xlsx')"
      ]
    },
    {
      "cell_type": "markdown",
      "source": [
        "* **Weighted XGBoost**"
      ],
      "metadata": {
        "id": "yLaRi1tUQEi2"
      }
    },
    {
      "cell_type": "code",
      "source": [
        "weighted_results_ds = [];\n",
        "for dataset_name, dataset in all_datasets.items():\n",
        "  print(dataset_name)\n",
        "\n",
        "  #A. Define the X,y\n",
        "  X = dataset.drop(columns = ['BH', 'symp'])\n",
        "  y = dataset.symp\n",
        "\n",
        "  #weighted XGBoost\n",
        "  # Compute scale_pos_weight value\n",
        "  counter = Counter(y) # count samples in each class\n",
        "  weight = counter[0] / counter[1]\n",
        "  scale_pos_weight = weight\n",
        "  w_model = XGBClassifier(scale_pos_weight = weight) \n",
        "\n",
        "  X_wBH_Symp = dataset #needed input for StratifiedKFold_BH (in this case corresponds to the raw datasets)\n",
        "\n",
        "    #B.3 Cross validation score with all data to assess the performance of the model for each dataset\n",
        "  n_scores = []\n",
        "  n_trials = 3\n",
        "  for i in range(n_trials):\n",
        "    #define the cross-validation strategy to validate the model (using the custom function)\n",
        "    cv = StratifiedKFold_BH (X_wBH_Symp, n_splits_ = 6, random_state_ = i, shuffle_ = True) #X_train_wBH_Symp output from the custom function (See the section above)\n",
        "\n",
        "    #evaluate the model\n",
        "    scores = cross_val_score(w_model, X, y, scoring='roc_auc', cv=cv, n_jobs=-1)\n",
        "\n",
        "    #save the mean scores\n",
        "    n_scores.append(np.mean(scores))\n",
        "    mean_cv_nscore = np.mean(n_scores)\n",
        "\n",
        "    #Save RESULTS: The mean ROC_AUC cv score for each dataset\n",
        "  weighted_results_ds.append({\n",
        "      'Dataset' : dataset_name,\n",
        "      'AUC_roc_mean_cvscore': mean_cv_nscore\n",
        "      \n",
        "  })\n",
        "\n",
        "df_DatasetWeightedResults = pd.DataFrame(weighted_results_ds,columns=['Dataset', 'AUC_roc_mean_cvscore'])"
      ],
      "metadata": {
        "colab": {
          "base_uri": "https://localhost:8080/"
        },
        "id": "imd3OdetQDeK",
        "outputId": "197b6b34-b533-49af-ea69-4a2598a5d473"
      },
      "execution_count": null,
      "outputs": [
        {
          "output_type": "stream",
          "name": "stdout",
          "text": [
            "All_biomarkers\n",
            "Dataset_1\n",
            "Dataset_2\n",
            "Dataset_3\n",
            "Dataset_4\n",
            "Dataset_5\n",
            "Dataset_6\n"
          ]
        }
      ]
    },
    {
      "cell_type": "code",
      "source": [
        "df_DatasetWeightedResults"
      ],
      "metadata": {
        "colab": {
          "base_uri": "https://localhost:8080/",
          "height": 269
        },
        "id": "wZsXls_NQYY8",
        "outputId": "34525dc2-18c7-4590-cdf2-212285fdd001"
      },
      "execution_count": null,
      "outputs": [
        {
          "output_type": "execute_result",
          "data": {
            "text/plain": [
              "          Dataset  AUC_roc_mean_cvscore\n",
              "0  All_biomarkers              0.655398\n",
              "1       Dataset_1              0.628377\n",
              "2       Dataset_2              0.712064\n",
              "3       Dataset_3              0.672644\n",
              "4       Dataset_4              0.752638\n",
              "5       Dataset_5              0.879953\n",
              "6       Dataset_6              0.727250"
            ],
            "text/html": [
              "\n",
              "  <div id=\"df-1c474002-0305-40fa-8b1d-1054cfc540e2\">\n",
              "    <div class=\"colab-df-container\">\n",
              "      <div>\n",
              "<style scoped>\n",
              "    .dataframe tbody tr th:only-of-type {\n",
              "        vertical-align: middle;\n",
              "    }\n",
              "\n",
              "    .dataframe tbody tr th {\n",
              "        vertical-align: top;\n",
              "    }\n",
              "\n",
              "    .dataframe thead th {\n",
              "        text-align: right;\n",
              "    }\n",
              "</style>\n",
              "<table border=\"1\" class=\"dataframe\">\n",
              "  <thead>\n",
              "    <tr style=\"text-align: right;\">\n",
              "      <th></th>\n",
              "      <th>Dataset</th>\n",
              "      <th>AUC_roc_mean_cvscore</th>\n",
              "    </tr>\n",
              "  </thead>\n",
              "  <tbody>\n",
              "    <tr>\n",
              "      <th>0</th>\n",
              "      <td>All_biomarkers</td>\n",
              "      <td>0.655398</td>\n",
              "    </tr>\n",
              "    <tr>\n",
              "      <th>1</th>\n",
              "      <td>Dataset_1</td>\n",
              "      <td>0.628377</td>\n",
              "    </tr>\n",
              "    <tr>\n",
              "      <th>2</th>\n",
              "      <td>Dataset_2</td>\n",
              "      <td>0.712064</td>\n",
              "    </tr>\n",
              "    <tr>\n",
              "      <th>3</th>\n",
              "      <td>Dataset_3</td>\n",
              "      <td>0.672644</td>\n",
              "    </tr>\n",
              "    <tr>\n",
              "      <th>4</th>\n",
              "      <td>Dataset_4</td>\n",
              "      <td>0.752638</td>\n",
              "    </tr>\n",
              "    <tr>\n",
              "      <th>5</th>\n",
              "      <td>Dataset_5</td>\n",
              "      <td>0.879953</td>\n",
              "    </tr>\n",
              "    <tr>\n",
              "      <th>6</th>\n",
              "      <td>Dataset_6</td>\n",
              "      <td>0.727250</td>\n",
              "    </tr>\n",
              "  </tbody>\n",
              "</table>\n",
              "</div>\n",
              "      <button class=\"colab-df-convert\" onclick=\"convertToInteractive('df-1c474002-0305-40fa-8b1d-1054cfc540e2')\"\n",
              "              title=\"Convert this dataframe to an interactive table.\"\n",
              "              style=\"display:none;\">\n",
              "        \n",
              "  <svg xmlns=\"http://www.w3.org/2000/svg\" height=\"24px\"viewBox=\"0 0 24 24\"\n",
              "       width=\"24px\">\n",
              "    <path d=\"M0 0h24v24H0V0z\" fill=\"none\"/>\n",
              "    <path d=\"M18.56 5.44l.94 2.06.94-2.06 2.06-.94-2.06-.94-.94-2.06-.94 2.06-2.06.94zm-11 1L8.5 8.5l.94-2.06 2.06-.94-2.06-.94L8.5 2.5l-.94 2.06-2.06.94zm10 10l.94 2.06.94-2.06 2.06-.94-2.06-.94-.94-2.06-.94 2.06-2.06.94z\"/><path d=\"M17.41 7.96l-1.37-1.37c-.4-.4-.92-.59-1.43-.59-.52 0-1.04.2-1.43.59L10.3 9.45l-7.72 7.72c-.78.78-.78 2.05 0 2.83L4 21.41c.39.39.9.59 1.41.59.51 0 1.02-.2 1.41-.59l7.78-7.78 2.81-2.81c.8-.78.8-2.07 0-2.86zM5.41 20L4 18.59l7.72-7.72 1.47 1.35L5.41 20z\"/>\n",
              "  </svg>\n",
              "      </button>\n",
              "      \n",
              "  <style>\n",
              "    .colab-df-container {\n",
              "      display:flex;\n",
              "      flex-wrap:wrap;\n",
              "      gap: 12px;\n",
              "    }\n",
              "\n",
              "    .colab-df-convert {\n",
              "      background-color: #E8F0FE;\n",
              "      border: none;\n",
              "      border-radius: 50%;\n",
              "      cursor: pointer;\n",
              "      display: none;\n",
              "      fill: #1967D2;\n",
              "      height: 32px;\n",
              "      padding: 0 0 0 0;\n",
              "      width: 32px;\n",
              "    }\n",
              "\n",
              "    .colab-df-convert:hover {\n",
              "      background-color: #E2EBFA;\n",
              "      box-shadow: 0px 1px 2px rgba(60, 64, 67, 0.3), 0px 1px 3px 1px rgba(60, 64, 67, 0.15);\n",
              "      fill: #174EA6;\n",
              "    }\n",
              "\n",
              "    [theme=dark] .colab-df-convert {\n",
              "      background-color: #3B4455;\n",
              "      fill: #D2E3FC;\n",
              "    }\n",
              "\n",
              "    [theme=dark] .colab-df-convert:hover {\n",
              "      background-color: #434B5C;\n",
              "      box-shadow: 0px 1px 3px 1px rgba(0, 0, 0, 0.15);\n",
              "      filter: drop-shadow(0px 1px 2px rgba(0, 0, 0, 0.3));\n",
              "      fill: #FFFFFF;\n",
              "    }\n",
              "  </style>\n",
              "\n",
              "      <script>\n",
              "        const buttonEl =\n",
              "          document.querySelector('#df-1c474002-0305-40fa-8b1d-1054cfc540e2 button.colab-df-convert');\n",
              "        buttonEl.style.display =\n",
              "          google.colab.kernel.accessAllowed ? 'block' : 'none';\n",
              "\n",
              "        async function convertToInteractive(key) {\n",
              "          const element = document.querySelector('#df-1c474002-0305-40fa-8b1d-1054cfc540e2');\n",
              "          const dataTable =\n",
              "            await google.colab.kernel.invokeFunction('convertToInteractive',\n",
              "                                                     [key], {});\n",
              "          if (!dataTable) return;\n",
              "\n",
              "          const docLinkHtml = 'Like what you see? Visit the ' +\n",
              "            '<a target=\"_blank\" href=https://colab.research.google.com/notebooks/data_table.ipynb>data table notebook</a>'\n",
              "            + ' to learn more about interactive tables.';\n",
              "          element.innerHTML = '';\n",
              "          dataTable['output_type'] = 'display_data';\n",
              "          await google.colab.output.renderOutput(dataTable, element);\n",
              "          const docLink = document.createElement('div');\n",
              "          docLink.innerHTML = docLinkHtml;\n",
              "          element.appendChild(docLink);\n",
              "        }\n",
              "      </script>\n",
              "    </div>\n",
              "  </div>\n",
              "  "
            ]
          },
          "metadata": {},
          "execution_count": 16
        }
      ]
    },
    {
      "cell_type": "markdown",
      "metadata": {
        "id": "tNAUNXQKFt6s"
      },
      "source": [
        "### **2. GridSearchCV hyperparameter tunning with the best dataset**\n",
        "Results from the former section have shown that training the model with the **20 best features from univariate selection** gives the best performance. \n",
        "Let's tune the hyperparameters conducting ``GridSearchCV`` with this feature selection.\n"
      ]
    },
    {
      "cell_type": "code",
      "execution_count": null,
      "metadata": {
        "id": "udq5lk0rEa1w"
      },
      "outputs": [],
      "source": [
        "best_ds = X_ds5_subsets['Subset_20']"
      ]
    },
    {
      "cell_type": "markdown",
      "metadata": {
        "id": "CS4HCfEvGf_B"
      },
      "source": [
        "**First of all, the 20 best selected features are visualized**, which include a combination of ECG-derived biomarkers and clinical data. "
      ]
    },
    {
      "cell_type": "code",
      "execution_count": null,
      "metadata": {
        "colab": {
          "base_uri": "https://localhost:8080/"
        },
        "id": "sLrKt0-EHjSa",
        "outputId": "49706d54-fc75-4ce0-e55e-9197f02a7b22"
      },
      "outputs": [
        {
          "output_type": "stream",
          "name": "stdout",
          "text": [
            "SD_VF_bef_Dg\n",
            "FH_SCD_bef_55\n",
            "AF_bef_Dg\n",
            "Pavg_aVL\n",
            "ST_0_I\n",
            "AreaQRSabs_aVL\n",
            "ST_60_V3\n",
            "ST_slope_V5\n",
            "Proband\n",
            "ST_60_aVR\n",
            "ST_0_V5\n",
            "LP_QRSd_V3\n",
            "AreaQRSabs_III\n",
            "QTc_V6\n",
            "AreaQRSabs_V2\n",
            "LP_QRSd_V1\n",
            "LP_QRSd_V4\n",
            "ST_slope_II\n",
            "qt_II\n",
            "ST_60_V1\n"
          ]
        }
      ],
      "source": [
        "for ft in best_ds.columns[2:]:\n",
        "  print(ft)"
      ]
    },
    {
      "cell_type": "markdown",
      "metadata": {
        "id": "M8YD73EpecYo"
      },
      "source": [
        "TRAIN-TEST split"
      ]
    },
    {
      "cell_type": "code",
      "execution_count": null,
      "metadata": {
        "colab": {
          "base_uri": "https://localhost:8080/"
        },
        "id": "OWyDdzcaeXAF",
        "outputId": "24224170-16e3-4f71-9c52-dfd7e5da0668"
      },
      "outputs": [
        {
          "output_type": "stream",
          "name": "stdout",
          "text": [
            "X_train shape: (19690, 20)\n",
            "y_train shape: (19690,)\n",
            "X_test shape: (6614, 20)\n",
            "y_test shape: (6614,)\n",
            "\n",
            "\n",
            "TRAIN: Symptomatic vs Asymptomatic beat count\n",
            "0    16867\n",
            "1     2823\n",
            "Name: symp, dtype: int64\n",
            "\n",
            "\n",
            "TEST:  Symptomatic vs Asymptomatic beat count\n",
            "0    5348\n",
            "1    1266\n",
            "Name: symp, dtype: int64\n"
          ]
        }
      ],
      "source": [
        "X_train, X_test, y_train, y_test, X_train_wBH_Symp = train_test_split_BH(best_ds, rnd_state = 1, figures = 0)\n",
        "print(\"X_train shape: {}\".format(X_train.shape))\n",
        "print(\"y_train shape: {}\".format(y_train.shape))\n",
        "print(\"X_test shape: {}\".format(X_test.shape))\n",
        "print(\"y_test shape: {}\".format(y_test.shape))\n",
        "print('\\n')\n",
        "print('TRAIN: Symptomatic vs Asymptomatic beat count')\n",
        "print(y_train.value_counts())\n",
        "print('\\n')\n",
        "print('TEST:  Symptomatic vs Asymptomatic beat count')\n",
        "print(y_test.value_counts())"
      ]
    },
    {
      "cell_type": "markdown",
      "metadata": {
        "id": "iDW7JrU0VWL5"
      },
      "source": [
        "**Hyperparameter tunning**\n",
        "\n",
        "> https://www.kaggle.com/code/prashant111/a-guide-on-xgboost-hyperparameters-tuning"
      ]
    },
    {
      "cell_type": "code",
      "execution_count": null,
      "metadata": {
        "colab": {
          "background_save": true,
          "base_uri": "https://localhost:8080/",
          "height": 577
        },
        "id": "pIZzzLxUH66x",
        "outputId": "3ba8d212-8e1d-4881-e876-e715815a854b"
      },
      "outputs": [
        {
          "name": "stdout",
          "output_type": "stream",
          "text": [
            "Hyperparameter tunning has started | Waiting for the results...\n",
            "Hyperparameter tunning has finished | Saving the results...\n",
            "{'eta': 0.3, 'max_depth': 6, 'n_estimators': 600}\n",
            "XGBClassifier(base_score=None, booster=None, callbacks=None,\n",
            "              colsample_bylevel=None, colsample_bynode=None,\n",
            "              colsample_bytree=None, early_stopping_rounds=None,\n",
            "              enable_categorical=False, eta=0.3, eval_metric='auc',\n",
            "              feature_types=None, gamma=None, gpu_id=None, grow_policy=None,\n",
            "              importance_type=None, interaction_constraints=None,\n",
            "              learning_rate=None, max_bin=None, max_cat_threshold=None,\n",
            "              max_cat_to_onehot=None, max_delta_step=None, max_depth=6,\n",
            "              max_leaves=None, min_child_weight=None, missing=nan,\n",
            "              monotone_constraints=None, n_estimators=600, n_jobs=None,\n",
            "              num_parallel_tree=None, predictor=None, ...)\n"
          ]
        },
        {
          "data": {
            "application/javascript": [
              "\n",
              "    async function download(id, filename, size) {\n",
              "      if (!google.colab.kernel.accessAllowed) {\n",
              "        return;\n",
              "      }\n",
              "      const div = document.createElement('div');\n",
              "      const label = document.createElement('label');\n",
              "      label.textContent = `Downloading \"${filename}\": `;\n",
              "      div.appendChild(label);\n",
              "      const progress = document.createElement('progress');\n",
              "      progress.max = size;\n",
              "      div.appendChild(progress);\n",
              "      document.body.appendChild(div);\n",
              "\n",
              "      const buffers = [];\n",
              "      let downloaded = 0;\n",
              "\n",
              "      const channel = await google.colab.kernel.comms.open(id);\n",
              "      // Send a message to notify the kernel that we're ready.\n",
              "      channel.send({})\n",
              "\n",
              "      for await (const message of channel.messages) {\n",
              "        // Send a message to notify the kernel that we're ready.\n",
              "        channel.send({})\n",
              "        if (message.buffers) {\n",
              "          for (const buffer of message.buffers) {\n",
              "            buffers.push(buffer);\n",
              "            downloaded += buffer.byteLength;\n",
              "            progress.value = downloaded;\n",
              "          }\n",
              "        }\n",
              "      }\n",
              "      const blob = new Blob(buffers, {type: 'application/binary'});\n",
              "      const a = document.createElement('a');\n",
              "      a.href = window.URL.createObjectURL(blob);\n",
              "      a.download = filename;\n",
              "      div.appendChild(a);\n",
              "      a.click();\n",
              "      div.remove();\n",
              "    }\n",
              "  "
            ],
            "text/plain": [
              "<IPython.core.display.Javascript object>"
            ]
          },
          "metadata": {},
          "output_type": "display_data"
        },
        {
          "data": {
            "application/javascript": [
              "download(\"download_86c86621-593f-4455-8670-f9b53dcec99b\", \"XGB_GridSearch0.xlsx\", 10074)"
            ],
            "text/plain": [
              "<IPython.core.display.Javascript object>"
            ]
          },
          "metadata": {},
          "output_type": "display_data"
        },
        {
          "name": "stdout",
          "output_type": "stream",
          "text": [
            "Hyperparameter tunning has started | Waiting for the results...\n",
            "Hyperparameter tunning has finished | Saving the results...\n",
            "{'eta': 0.3, 'max_depth': 6, 'n_estimators': 600}\n",
            "XGBClassifier(base_score=None, booster=None, callbacks=None,\n",
            "              colsample_bylevel=None, colsample_bynode=None,\n",
            "              colsample_bytree=None, early_stopping_rounds=None,\n",
            "              enable_categorical=False, eta=0.3, eval_metric='auc',\n",
            "              feature_types=None, gamma=None, gpu_id=None, grow_policy=None,\n",
            "              importance_type=None, interaction_constraints=None,\n",
            "              learning_rate=None, max_bin=None, max_cat_threshold=None,\n",
            "              max_cat_to_onehot=None, max_delta_step=None, max_depth=6,\n",
            "              max_leaves=None, min_child_weight=None, missing=nan,\n",
            "              monotone_constraints=None, n_estimators=600, n_jobs=None,\n",
            "              num_parallel_tree=None, predictor=None, ...)\n"
          ]
        },
        {
          "data": {
            "application/javascript": [
              "\n",
              "    async function download(id, filename, size) {\n",
              "      if (!google.colab.kernel.accessAllowed) {\n",
              "        return;\n",
              "      }\n",
              "      const div = document.createElement('div');\n",
              "      const label = document.createElement('label');\n",
              "      label.textContent = `Downloading \"${filename}\": `;\n",
              "      div.appendChild(label);\n",
              "      const progress = document.createElement('progress');\n",
              "      progress.max = size;\n",
              "      div.appendChild(progress);\n",
              "      document.body.appendChild(div);\n",
              "\n",
              "      const buffers = [];\n",
              "      let downloaded = 0;\n",
              "\n",
              "      const channel = await google.colab.kernel.comms.open(id);\n",
              "      // Send a message to notify the kernel that we're ready.\n",
              "      channel.send({})\n",
              "\n",
              "      for await (const message of channel.messages) {\n",
              "        // Send a message to notify the kernel that we're ready.\n",
              "        channel.send({})\n",
              "        if (message.buffers) {\n",
              "          for (const buffer of message.buffers) {\n",
              "            buffers.push(buffer);\n",
              "            downloaded += buffer.byteLength;\n",
              "            progress.value = downloaded;\n",
              "          }\n",
              "        }\n",
              "      }\n",
              "      const blob = new Blob(buffers, {type: 'application/binary'});\n",
              "      const a = document.createElement('a');\n",
              "      a.href = window.URL.createObjectURL(blob);\n",
              "      a.download = filename;\n",
              "      div.appendChild(a);\n",
              "      a.click();\n",
              "      div.remove();\n",
              "    }\n",
              "  "
            ],
            "text/plain": [
              "<IPython.core.display.Javascript object>"
            ]
          },
          "metadata": {},
          "output_type": "display_data"
        },
        {
          "data": {
            "application/javascript": [
              "download(\"download_2d72c45d-3d60-4a2c-9390-75c76df585ce\", \"XGB_GridSearch1.xlsx\", 10081)"
            ],
            "text/plain": [
              "<IPython.core.display.Javascript object>"
            ]
          },
          "metadata": {},
          "output_type": "display_data"
        },
        {
          "name": "stdout",
          "output_type": "stream",
          "text": [
            "Hyperparameter tunning has started | Waiting for the results...\n",
            "Hyperparameter tunning has finished | Saving the results...\n",
            "{'eta': 0.3, 'max_depth': 6, 'n_estimators': 600}\n",
            "XGBClassifier(base_score=None, booster=None, callbacks=None,\n",
            "              colsample_bylevel=None, colsample_bynode=None,\n",
            "              colsample_bytree=None, early_stopping_rounds=None,\n",
            "              enable_categorical=False, eta=0.3, eval_metric='auc',\n",
            "              feature_types=None, gamma=None, gpu_id=None, grow_policy=None,\n",
            "              importance_type=None, interaction_constraints=None,\n",
            "              learning_rate=None, max_bin=None, max_cat_threshold=None,\n",
            "              max_cat_to_onehot=None, max_delta_step=None, max_depth=6,\n",
            "              max_leaves=None, min_child_weight=None, missing=nan,\n",
            "              monotone_constraints=None, n_estimators=600, n_jobs=None,\n",
            "              num_parallel_tree=None, predictor=None, ...)\n"
          ]
        },
        {
          "data": {
            "application/javascript": [
              "\n",
              "    async function download(id, filename, size) {\n",
              "      if (!google.colab.kernel.accessAllowed) {\n",
              "        return;\n",
              "      }\n",
              "      const div = document.createElement('div');\n",
              "      const label = document.createElement('label');\n",
              "      label.textContent = `Downloading \"${filename}\": `;\n",
              "      div.appendChild(label);\n",
              "      const progress = document.createElement('progress');\n",
              "      progress.max = size;\n",
              "      div.appendChild(progress);\n",
              "      document.body.appendChild(div);\n",
              "\n",
              "      const buffers = [];\n",
              "      let downloaded = 0;\n",
              "\n",
              "      const channel = await google.colab.kernel.comms.open(id);\n",
              "      // Send a message to notify the kernel that we're ready.\n",
              "      channel.send({})\n",
              "\n",
              "      for await (const message of channel.messages) {\n",
              "        // Send a message to notify the kernel that we're ready.\n",
              "        channel.send({})\n",
              "        if (message.buffers) {\n",
              "          for (const buffer of message.buffers) {\n",
              "            buffers.push(buffer);\n",
              "            downloaded += buffer.byteLength;\n",
              "            progress.value = downloaded;\n",
              "          }\n",
              "        }\n",
              "      }\n",
              "      const blob = new Blob(buffers, {type: 'application/binary'});\n",
              "      const a = document.createElement('a');\n",
              "      a.href = window.URL.createObjectURL(blob);\n",
              "      a.download = filename;\n",
              "      div.appendChild(a);\n",
              "      a.click();\n",
              "      div.remove();\n",
              "    }\n",
              "  "
            ],
            "text/plain": [
              "<IPython.core.display.Javascript object>"
            ]
          },
          "metadata": {},
          "output_type": "display_data"
        },
        {
          "data": {
            "application/javascript": [
              "download(\"download_05a22090-e528-4c3f-ab77-ac21a90bf96c\", \"XGB_GridSearch2.xlsx\", 10067)"
            ],
            "text/plain": [
              "<IPython.core.display.Javascript object>"
            ]
          },
          "metadata": {},
          "output_type": "display_data"
        }
      ],
      "source": [
        "# Set up possible values of parameters to optimize over\n",
        "p_grid = {\n",
        "          \"eta\": [0.01, 0.1, 0.3],\n",
        "          \"max_depth\": [3, 6, 9],\n",
        "          \"n_estimators\": [100, 300, 600],\n",
        "          }\n",
        "\n",
        "#Design the XGBoost model\n",
        "  #Compute scale_pos_weight value\n",
        "counter = Counter(y_train) # count samples in each class\n",
        "weight = counter[0] / counter[1]\n",
        "\n",
        "#Define the weighted model\n",
        "XGB = XGBClassifier(scale_pos_weight = weight, eval_metric='auc', eta = 0.3, max_depth = 6, n_estimators = 600) \n",
        "\n",
        "# Loop for each trial\n",
        "num_trials = 3\n",
        "non_nested_scores = np.zeros(num_trials)# Array to store scores\n",
        "for i in range(num_trials):\n",
        "\n",
        "    # Selecting stratified cross-validation technique for preserving the data distribution\n",
        "    outer_cv = StratifiedKFold_BH (X_train_wBH_Symp, n_splits_ = 4, random_state_ = i, shuffle_ = True)#define the outer loop with 4folds \n",
        "\n",
        "    # Non_nested parameter search and scoring\n",
        "    clf = GridSearchCV(estimator= XGB, param_grid=p_grid, cv=outer_cv, scoring = 'roc_auc')\n",
        "    print('Hyperparameter tunning has started | Waiting for the results...')\n",
        "    clf.fit(X_train, y_train) #DO IT WITH TRAIN \n",
        "    print('Hyperparameter tunning has finished | Saving the results...')\n",
        "    \n",
        "    #Results\n",
        "    non_nested_scores[i] = clf.best_score_\n",
        "\n",
        "    #Save results\n",
        "    best_params = clf.best_params_\n",
        "    best_estimator = clf.best_estimator_\n",
        "    results = clf.cv_results_\n",
        "    print(best_params)\n",
        "    print(best_estimator)\n",
        "\n",
        "    # Export GridSearchCV results into a dataframe for better view\n",
        "    df_results = pd.DataFrame(results)\n",
        "\n",
        "    #Download results in local \n",
        "    from google.colab import files\n",
        "\n",
        "    df_results.to_excel('XGB_GridSearch{}.xlsx'.format(i))\n",
        "    # download the file to your local PC\n",
        "    files.download('XGB_GridSearch{}.xlsx'.format(i))"
      ]
    },
    {
      "cell_type": "markdown",
      "metadata": {
        "id": "dpAasIelHQ_i"
      },
      "source": [
        "From this first search the best are: \n",
        "* ``eta (learning-rate)`` = 0.3\n",
        "* ``max_depth`` = 6\n",
        "* ``n_estimators`` = 600"
      ]
    },
    {
      "cell_type": "code",
      "execution_count": null,
      "metadata": {
        "colab": {
          "base_uri": "https://localhost:8080/",
          "height": 248
        },
        "id": "0b1sinuoJdYB",
        "outputId": "f3188933-71a4-4f01-bd7b-ecfc69333054"
      },
      "outputs": [
        {
          "data": {
            "text/html": [
              "<style>#sk-container-id-1 {color: black;background-color: white;}#sk-container-id-1 pre{padding: 0;}#sk-container-id-1 div.sk-toggleable {background-color: white;}#sk-container-id-1 label.sk-toggleable__label {cursor: pointer;display: block;width: 100%;margin-bottom: 0;padding: 0.3em;box-sizing: border-box;text-align: center;}#sk-container-id-1 label.sk-toggleable__label-arrow:before {content: \"▸\";float: left;margin-right: 0.25em;color: #696969;}#sk-container-id-1 label.sk-toggleable__label-arrow:hover:before {color: black;}#sk-container-id-1 div.sk-estimator:hover label.sk-toggleable__label-arrow:before {color: black;}#sk-container-id-1 div.sk-toggleable__content {max-height: 0;max-width: 0;overflow: hidden;text-align: left;background-color: #f0f8ff;}#sk-container-id-1 div.sk-toggleable__content pre {margin: 0.2em;color: black;border-radius: 0.25em;background-color: #f0f8ff;}#sk-container-id-1 input.sk-toggleable__control:checked~div.sk-toggleable__content {max-height: 200px;max-width: 100%;overflow: auto;}#sk-container-id-1 input.sk-toggleable__control:checked~label.sk-toggleable__label-arrow:before {content: \"▾\";}#sk-container-id-1 div.sk-estimator input.sk-toggleable__control:checked~label.sk-toggleable__label {background-color: #d4ebff;}#sk-container-id-1 div.sk-label input.sk-toggleable__control:checked~label.sk-toggleable__label {background-color: #d4ebff;}#sk-container-id-1 input.sk-hidden--visually {border: 0;clip: rect(1px 1px 1px 1px);clip: rect(1px, 1px, 1px, 1px);height: 1px;margin: -1px;overflow: hidden;padding: 0;position: absolute;width: 1px;}#sk-container-id-1 div.sk-estimator {font-family: monospace;background-color: #f0f8ff;border: 1px dotted black;border-radius: 0.25em;box-sizing: border-box;margin-bottom: 0.5em;}#sk-container-id-1 div.sk-estimator:hover {background-color: #d4ebff;}#sk-container-id-1 div.sk-parallel-item::after {content: \"\";width: 100%;border-bottom: 1px solid gray;flex-grow: 1;}#sk-container-id-1 div.sk-label:hover label.sk-toggleable__label {background-color: #d4ebff;}#sk-container-id-1 div.sk-serial::before {content: \"\";position: absolute;border-left: 1px solid gray;box-sizing: border-box;top: 0;bottom: 0;left: 50%;z-index: 0;}#sk-container-id-1 div.sk-serial {display: flex;flex-direction: column;align-items: center;background-color: white;padding-right: 0.2em;padding-left: 0.2em;position: relative;}#sk-container-id-1 div.sk-item {position: relative;z-index: 1;}#sk-container-id-1 div.sk-parallel {display: flex;align-items: stretch;justify-content: center;background-color: white;position: relative;}#sk-container-id-1 div.sk-item::before, #sk-container-id-1 div.sk-parallel-item::before {content: \"\";position: absolute;border-left: 1px solid gray;box-sizing: border-box;top: 0;bottom: 0;left: 50%;z-index: -1;}#sk-container-id-1 div.sk-parallel-item {display: flex;flex-direction: column;z-index: 1;position: relative;background-color: white;}#sk-container-id-1 div.sk-parallel-item:first-child::after {align-self: flex-end;width: 50%;}#sk-container-id-1 div.sk-parallel-item:last-child::after {align-self: flex-start;width: 50%;}#sk-container-id-1 div.sk-parallel-item:only-child::after {width: 0;}#sk-container-id-1 div.sk-dashed-wrapped {border: 1px dashed gray;margin: 0 0.4em 0.5em 0.4em;box-sizing: border-box;padding-bottom: 0.4em;background-color: white;}#sk-container-id-1 div.sk-label label {font-family: monospace;font-weight: bold;display: inline-block;line-height: 1.2em;}#sk-container-id-1 div.sk-label-container {text-align: center;}#sk-container-id-1 div.sk-container {/* jupyter's `normalize.less` sets `[hidden] { display: none; }` but bootstrap.min.css set `[hidden] { display: none !important; }` so we also need the `!important` here to be able to override the default hidden behavior on the sphinx rendered scikit-learn.org. See: https://github.com/scikit-learn/scikit-learn/issues/21755 */display: inline-block !important;position: relative;}#sk-container-id-1 div.sk-text-repr-fallback {display: none;}</style><div id=\"sk-container-id-1\" class=\"sk-top-container\"><div class=\"sk-text-repr-fallback\"><pre>XGBClassifier(base_score=None, booster=None, callbacks=None,\n",
              "              colsample_bylevel=None, colsample_bynode=None,\n",
              "              colsample_bytree=None, early_stopping_rounds=None,\n",
              "              enable_categorical=False, eta=0.3, eval_metric=&#x27;auc&#x27;,\n",
              "              feature_types=None, gamma=None, gpu_id=None, grow_policy=None,\n",
              "              importance_type=None, interaction_constraints=None,\n",
              "              learning_rate=None, max_bin=None, max_cat_threshold=None,\n",
              "              max_cat_to_onehot=None, max_delta_step=None, max_depth=6,\n",
              "              max_leaves=None, min_child_weight=None, missing=nan,\n",
              "              monotone_constraints=None, n_estimators=600, n_jobs=None,\n",
              "              num_parallel_tree=None, predictor=None, ...)</pre><b>In a Jupyter environment, please rerun this cell to show the HTML representation or trust the notebook. <br />On GitHub, the HTML representation is unable to render, please try loading this page with nbviewer.org.</b></div><div class=\"sk-container\" hidden><div class=\"sk-item\"><div class=\"sk-estimator sk-toggleable\"><input class=\"sk-toggleable__control sk-hidden--visually\" id=\"sk-estimator-id-1\" type=\"checkbox\" checked><label for=\"sk-estimator-id-1\" class=\"sk-toggleable__label sk-toggleable__label-arrow\">XGBClassifier</label><div class=\"sk-toggleable__content\"><pre>XGBClassifier(base_score=None, booster=None, callbacks=None,\n",
              "              colsample_bylevel=None, colsample_bynode=None,\n",
              "              colsample_bytree=None, early_stopping_rounds=None,\n",
              "              enable_categorical=False, eta=0.3, eval_metric=&#x27;auc&#x27;,\n",
              "              feature_types=None, gamma=None, gpu_id=None, grow_policy=None,\n",
              "              importance_type=None, interaction_constraints=None,\n",
              "              learning_rate=None, max_bin=None, max_cat_threshold=None,\n",
              "              max_cat_to_onehot=None, max_delta_step=None, max_depth=6,\n",
              "              max_leaves=None, min_child_weight=None, missing=nan,\n",
              "              monotone_constraints=None, n_estimators=600, n_jobs=None,\n",
              "              num_parallel_tree=None, predictor=None, ...)</pre></div></div></div></div></div>"
            ],
            "text/plain": [
              "XGBClassifier(base_score=None, booster=None, callbacks=None,\n",
              "              colsample_bylevel=None, colsample_bynode=None,\n",
              "              colsample_bytree=None, early_stopping_rounds=None,\n",
              "              enable_categorical=False, eta=0.3, eval_metric='auc',\n",
              "              feature_types=None, gamma=None, gpu_id=None, grow_policy=None,\n",
              "              importance_type=None, interaction_constraints=None,\n",
              "              learning_rate=None, max_bin=None, max_cat_threshold=None,\n",
              "              max_cat_to_onehot=None, max_delta_step=None, max_depth=6,\n",
              "              max_leaves=None, min_child_weight=None, missing=nan,\n",
              "              monotone_constraints=None, n_estimators=600, n_jobs=None,\n",
              "              num_parallel_tree=None, predictor=None, ...)"
            ]
          },
          "execution_count": 16,
          "metadata": {},
          "output_type": "execute_result"
        }
      ],
      "source": [
        "best_estimator"
      ]
    },
    {
      "cell_type": "code",
      "execution_count": null,
      "metadata": {
        "colab": {
          "base_uri": "https://localhost:8080/",
          "height": 657
        },
        "id": "mgmv7z3MH3Pc",
        "outputId": "abb42be4-02ef-436d-ae39-4fd4788bb041"
      },
      "outputs": [
        {
          "output_type": "display_data",
          "data": {
            "text/plain": [
              "<Figure size 640x480 with 2 Axes>"
            ],
            "image/png": "[encoded data removed]"
          },
          "metadata": {}
        },
        {
          "output_type": "stream",
          "name": "stdout",
          "text": [
            "AUC roc:  0.7062580136759957\n",
            "Sensitivity: 47.073 %\n",
            "Specificity: 94.179 %\n",
            "                  precision    recall  f1-score   support\n",
            "\n",
            "Asymptomatic (0)       0.93      0.94      0.93      5875\n",
            " Symptomatic (1)       0.54      0.47      0.50       837\n",
            "\n",
            "        accuracy                           0.88      6712\n",
            "       macro avg       0.73      0.71      0.72      6712\n",
            "    weighted avg       0.88      0.88      0.88      6712\n",
            "\n"
          ]
        }
      ],
      "source": [
        "#Design the XGBoost model\n",
        "#Compute scale_pos_weight value\n",
        "counter = Counter(y_train) # count samples in each class\n",
        "weight = counter[0] / counter[1]\n",
        "\n",
        "XGB = XGBClassifier(scale_pos_weight = weight, eval_metric='auc', eta = 0.3, max_depth = 6, n_estimators =  600, gamma =  3, subsample =  0.8)\n",
        "XGB.fit(X_train, y_train) #training\n",
        "y_pred = XGB.predict(X_test) #predictions\n",
        "\n",
        "\n",
        "#confusion matrix\n",
        "labels_str= [0,1]\n",
        "\n",
        "cm = confusion_matrix(y_test, y_pred, labels= labels_str)\n",
        "cm_fig = ConfusionMatrixDisplay(confusion_matrix=cm,\n",
        "                               display_labels=labels_str)\n",
        "cm_fig.plot()\n",
        "\n",
        "plt.show()\n",
        "\n",
        "tn, fp, fn, tp = cm.ravel()\n",
        "\n",
        "# compute sensitivity and specificity\n",
        "sensitivity = tp / (tp + fn)\n",
        "specificity = tn / (tn + fp)\n",
        "print('AUC roc: ' , roc_auc_score(y_test,y_pred))\n",
        "print('Sensitivity: {:.3f} %'.format(sensitivity*100))\n",
        "print('Specificity: {:.3f} %'.format(specificity*100))\n",
        "\n",
        "target_names = ['Asymptomatic (0)', 'Symptomatic (1)']\n",
        "print(classification_report(y_test, y_pred, target_names=target_names))\n"
      ]
    },
    {
      "cell_type": "code",
      "source": [
        "#XGBoost without weights\n",
        "XGB = XGBClassifier( eval_metric='auc', eta = 0.3, max_depth = 6, n_estimators =  600, gamma =  3, subsample =  0.8)\n",
        "XGB.fit(X_train, y_train) #training\n",
        "y_pred = XGB.predict(X_test) #predictions\n",
        "\n",
        "\n",
        "#confusion matrix\n",
        "labels_str= [0,1]\n",
        "\n",
        "cm = confusion_matrix(y_test, y_pred, labels= labels_str)\n",
        "cm_fig = ConfusionMatrixDisplay(confusion_matrix=cm,\n",
        "                               display_labels=labels_str)\n",
        "cm_fig.plot()\n",
        "\n",
        "plt.show()\n",
        "\n",
        "tn, fp, fn, tp = cm.ravel()\n",
        "\n",
        "# compute sensitivity and specificity\n",
        "sensitivity = tp / (tp + fn)\n",
        "specificity = tn / (tn + fp)\n",
        "print('AUC roc: ' , roc_auc_score(y_test,y_pred))\n",
        "print('Sensitivity: {:.3f} %'.format(sensitivity*100))\n",
        "print('Specificity: {:.3f} %'.format(specificity*100))\n",
        "\n",
        "target_names = ['Asymptomatic (0)', 'Symptomatic (1)']\n",
        "print(classification_report(y_test, y_pred, target_names=target_names))\n"
      ],
      "metadata": {
        "colab": {
          "base_uri": "https://localhost:8080/",
          "height": 657
        },
        "id": "vQD_W8g4dPTa",
        "outputId": "00ff81a5-801b-4c3b-a596-148e99e3f129"
      },
      "execution_count": null,
      "outputs": [
        {
          "output_type": "display_data",
          "data": {
            "text/plain": [
              "<Figure size 640x480 with 2 Axes>"
            ],
            "image/png": "[encoded data removed]"
          },
          "metadata": {}
        },
        {
          "output_type": "stream",
          "name": "stdout",
          "text": [
            "AUC roc:  0.6569626063869383\n",
            "Sensitivity: 32.701 %\n",
            "Specificity: 98.691 %\n",
            "                  precision    recall  f1-score   support\n",
            "\n",
            "Asymptomatic (0)       0.86      0.99      0.92      5348\n",
            " Symptomatic (1)       0.86      0.33      0.47      1266\n",
            "\n",
            "        accuracy                           0.86      6614\n",
            "       macro avg       0.86      0.66      0.70      6614\n",
            "    weighted avg       0.86      0.86      0.83      6614\n",
            "\n"
          ]
        }
      ]
    },
    {
      "cell_type": "markdown",
      "source": [
        "### **Final cross-validation**"
      ],
      "metadata": {
        "id": "KKhO--c65xkT"
      }
    },
    {
      "cell_type": "code",
      "source": [
        "best_ds = X_ds5_subsets['Subset_20']\n",
        "\n",
        "counter = Counter(y_train) # count samples in each class\n",
        "weight = counter[0] / counter[1]\n",
        "\n",
        "best_model  = XGBClassifier(scale_pos_weight = weight, eval_metric='auc', eta = 0.3, max_depth = 6, n_estimators =  600, gamma =  3, subsample =  0.8)\n",
        "\n",
        "#A. Define the X,y\n",
        "X = best_ds.drop(columns = ['BH', 'symp'])\n",
        "y = best_ds.symp\n",
        "\n",
        "X_wBH_Symp = best_ds #needed input for StratifiedKFold_BH (in this case corresponds to the raw datasets)\n",
        "\n",
        "#Cross validation score with all data to assess the performance of the model for each dataset\n",
        "mean_cv_AUC = []\n",
        "mean_cv_recall = []\n",
        "mean_cv_specificity = []\n",
        "\n",
        "n_trials = 3\n",
        "for i in range(n_trials):\n",
        "  #define the cross-validation strategy to validate the model (using the custom function)\n",
        "  cv = StratifiedKFold_BH (X_wBH_Symp, n_splits_ = 6, random_state_ = i, shuffle_ = True) #X_train_wBH_Symp output from the custom function (See the section above)\n",
        "\n",
        "  #evaluate the model\n",
        "  cv_AUCs = cross_val_score(best_model, X, y, scoring='roc_auc', cv=cv, n_jobs=-1)\n",
        "  cv_recalls = cross_val_score(best_model, X, y, scoring='recall', cv=cv, n_jobs=-1)  \n",
        "  #save the mean scores\n",
        "  mean_cv_AUC.append(np.mean(cv_AUCs))\n",
        "  mean_cv_recall.append(np.mean(cv_recalls))\n",
        "\n",
        "print(np.mean(mean_cv_AUC))\n",
        "print(np.mean(mean_cv_recall))"
      ],
      "metadata": {
        "colab": {
          "base_uri": "https://localhost:8080/",
          "height": 270
        },
        "id": "7SamKHpN5yOc",
        "outputId": "fc54e9e2-8a58-4393-a97d-1de1e08de0c7"
      },
      "execution_count": null,
      "outputs": [
        {
          "output_type": "stream",
          "name": "stdout",
          "text": [
            "0.8879231938278899\n",
            "0.5838630806845966\n"
          ]
        },
        {
          "output_type": "error",
          "ename": "NameError",
          "evalue": "ignored",
          "traceback": [
            "\u001b[0;31m---------------------------------------------------------------------------\u001b[0m",
            "\u001b[0;31mNameError\u001b[0m                                 Traceback (most recent call last)",
            "\u001b[0;32m<ipython-input-29-0daff89f4872>\u001b[0m in \u001b[0;36m<cell line: 35>\u001b[0;34m()\u001b[0m\n\u001b[1;32m     33\u001b[0m \u001b[0;34m\u001b[0m\u001b[0m\n\u001b[1;32m     34\u001b[0m \u001b[0;31m# Export GridSearchCV results into a dataframe for better view\u001b[0m\u001b[0;34m\u001b[0m\u001b[0;34m\u001b[0m\u001b[0m\n\u001b[0;32m---> 35\u001b[0;31m \u001b[0mdf_results\u001b[0m \u001b[0;34m=\u001b[0m \u001b[0mpd\u001b[0m\u001b[0;34m.\u001b[0m\u001b[0mDataFrame\u001b[0m\u001b[0;34m(\u001b[0m\u001b[0mresults\u001b[0m\u001b[0;34m)\u001b[0m\u001b[0;34m\u001b[0m\u001b[0;34m\u001b[0m\u001b[0m\n\u001b[0m\u001b[1;32m     36\u001b[0m \u001b[0;34m\u001b[0m\u001b[0m\n\u001b[1;32m     37\u001b[0m \u001b[0;31m#Download results in local\u001b[0m\u001b[0;34m\u001b[0m\u001b[0;34m\u001b[0m\u001b[0m\n",
            "\u001b[0;31mNameError\u001b[0m: name 'results' is not defined"
          ]
        }
      ]
    },
    {
      "cell_type": "markdown",
      "source": [
        " #### Extra test: Leave-one-patient-out approach\n",
        "In each iteration we'll train the model taking only one patient appart to test. This approach did not yield good results.  "
      ],
      "metadata": {
        "id": "8ObeZoN0JIg_"
      }
    },
    {
      "cell_type": "markdown",
      "source": [
        "One-Single model\n"
      ],
      "metadata": {
        "id": "V_rcjmZFsuzM"
      }
    },
    {
      "cell_type": "code",
      "source": [
        "def leave_one_out_pred(dataset,model):\n",
        "  pred_symp_percentages = []\n",
        "\n",
        "  BHs = dataset.BH.unique()\n",
        "  BHs = list(BHs) #convert BHs to list\n",
        "\n",
        "  for n_pat in range(len(BHs)):\n",
        "    print('Progress: {:.2f}%'.format(n_pat/64*100))\n",
        "\n",
        "    #Take one patient as test and the rest for train\n",
        "    test_BH = BHs[n_pat]\n",
        "    train_BH = BHs[:n_pat] + BHs[n_pat+1:]\n",
        "\n",
        "    #Select all the beats for Train\n",
        "    X_train = dataset[dataset.BH.isin(train_BH)]      #biomarkers\n",
        "    y_train = dataset[dataset.BH.isin(train_BH)].symp #labels\n",
        "\n",
        "\n",
        "    #Select all the beats for Test\n",
        "    X_test = dataset[dataset.BH == test_BH]        #biomarkers\n",
        "    y_test = dataset[dataset.BH == test_BH].symp   #labels\n",
        "\n",
        "    #Reset the indexes\n",
        "    X_train = X_train.reset_index(drop = True)\n",
        "    X_test  = X_test.reset_index(drop = True)\n",
        "    y_train = y_train.reset_index(drop = True)\n",
        "    y_test  = y_test.reset_index(drop = True)\n",
        "\n",
        "\n",
        "    #Drop the BH patient's column and symp target variable from X_train and X_test\n",
        "    # and reset the indexes\n",
        "    X_train = X_train.drop(columns = ['BH', 'symp']).reset_index(drop = True)\n",
        "    X_test  = X_test.drop(columns =  ['BH', 'symp']).reset_index(drop = True)\n",
        "    y_train = y_train.reset_index(drop = True)\n",
        "    y_test  = y_test.reset_index(drop = True)\n",
        "\n",
        "\n",
        "    #DEFINE XGBoost MODELS\n",
        "    #Compute scale_pos_weight value\n",
        "    counter = Counter(y_train) # count samples in each class\n",
        "    weight = counter[0] / counter[1]\n",
        "\n",
        "    model.fit(X_train, y_train) #training\n",
        "    y_pred_BH = model.predict(X_test) #predictions\n",
        "\n",
        "    pred_counter = Counter(y_pred_BH)\n",
        "\n",
        "    if pred_counter[0] == 0:\n",
        "      pred_symp_percentage = 0\n",
        "    else:\n",
        "      pred_symp_percentage = pred_counter[1]/(pred_counter[0] + pred_counter[1])*100\n",
        "    pred_symp_percentages.append(pred_symp_percentage)\n",
        "  \n",
        "  return pred_symp_percentages"
      ],
      "metadata": {
        "id": "6vyy2DqoJPJq"
      },
      "execution_count": null,
      "outputs": []
    },
    {
      "cell_type": "code",
      "source": [
        "XGB_m1 = XGBClassifier(scale_pos_weight = weight, eval_metric='auc', eta = 0.3, max_depth = 6, n_estimators =  600)\n",
        "XGB_m2 = XGBClassifier(scale_pos_weight = weight, eval_metric='auc', eta = 0.3, max_depth = 6, n_estimators =  100)\n",
        "XGB_m3 = XGBClassifier(scale_pos_weight = weight, eval_metric='auc', eta = 0.1, max_depth = 3, n_estimators =  600)\n",
        "XGB_m4 = XGBClassifier(eval_metric='auc', eta = 0.3, max_depth = 6, n_estimators =  600)\n",
        "XGB_models = {'Model_1' : XGB_m1, 'Model_2': XGB_m2, 'Model_3': XGB_m3, 'Model_4': XGB_m4} #dictionary with all the models to try\n",
        "\n",
        "model_results = [];\n",
        "for model_name, model in XGB_models.items():\n",
        "  y_pred = leave_one_out_pred(best_ds, model)\n",
        "  model_results.append({model_name : y_pred})"
      ],
      "metadata": {
        "colab": {
          "base_uri": "https://localhost:8080/"
        },
        "id": "TSd7DfoJNytH",
        "outputId": "2ed5bf85-d3a0-4e52-c3de-050da780a2df"
      },
      "execution_count": null,
      "outputs": [
        {
          "output_type": "stream",
          "name": "stdout",
          "text": [
            "Progress: 0.00%\n",
            "Progress: 1.56%\n",
            "Progress: 3.12%\n",
            "Progress: 4.69%\n",
            "Progress: 6.25%\n",
            "Progress: 7.81%\n",
            "Progress: 9.38%\n",
            "Progress: 10.94%\n",
            "Progress: 12.50%\n",
            "Progress: 14.06%\n",
            "Progress: 15.62%\n",
            "Progress: 17.19%\n",
            "Progress: 18.75%\n",
            "Progress: 20.31%\n",
            "Progress: 21.88%\n",
            "Progress: 23.44%\n",
            "Progress: 25.00%\n",
            "Progress: 26.56%\n",
            "Progress: 28.12%\n",
            "Progress: 29.69%\n",
            "Progress: 31.25%\n",
            "Progress: 32.81%\n",
            "Progress: 34.38%\n",
            "Progress: 35.94%\n",
            "Progress: 37.50%\n",
            "Progress: 39.06%\n",
            "Progress: 40.62%\n",
            "Progress: 42.19%\n",
            "Progress: 43.75%\n",
            "Progress: 45.31%\n",
            "Progress: 46.88%\n",
            "Progress: 48.44%\n",
            "Progress: 50.00%\n",
            "Progress: 51.56%\n",
            "Progress: 53.12%\n",
            "Progress: 54.69%\n",
            "Progress: 56.25%\n",
            "Progress: 57.81%\n",
            "Progress: 59.38%\n",
            "Progress: 60.94%\n",
            "Progress: 62.50%\n",
            "Progress: 64.06%\n",
            "Progress: 65.62%\n",
            "Progress: 67.19%\n",
            "Progress: 68.75%\n",
            "Progress: 70.31%\n",
            "Progress: 71.88%\n",
            "Progress: 73.44%\n",
            "Progress: 75.00%\n",
            "Progress: 76.56%\n",
            "Progress: 78.12%\n",
            "Progress: 79.69%\n",
            "Progress: 81.25%\n",
            "Progress: 82.81%\n",
            "Progress: 84.38%\n",
            "Progress: 85.94%\n",
            "Progress: 87.50%\n",
            "Progress: 89.06%\n",
            "Progress: 90.62%\n",
            "Progress: 92.19%\n",
            "Progress: 93.75%\n",
            "Progress: 95.31%\n",
            "Progress: 96.88%\n",
            "Progress: 98.44%\n",
            "Progress: 0.00%\n",
            "Progress: 1.56%\n",
            "Progress: 3.12%\n",
            "Progress: 4.69%\n",
            "Progress: 6.25%\n",
            "Progress: 7.81%\n",
            "Progress: 9.38%\n",
            "Progress: 10.94%\n",
            "Progress: 12.50%\n",
            "Progress: 14.06%\n",
            "Progress: 15.62%\n",
            "Progress: 17.19%\n",
            "Progress: 18.75%\n",
            "Progress: 20.31%\n",
            "Progress: 21.88%\n",
            "Progress: 23.44%\n",
            "Progress: 25.00%\n",
            "Progress: 26.56%\n",
            "Progress: 28.12%\n",
            "Progress: 29.69%\n",
            "Progress: 31.25%\n",
            "Progress: 32.81%\n",
            "Progress: 34.38%\n",
            "Progress: 35.94%\n",
            "Progress: 37.50%\n",
            "Progress: 39.06%\n",
            "Progress: 40.62%\n",
            "Progress: 42.19%\n",
            "Progress: 43.75%\n",
            "Progress: 45.31%\n",
            "Progress: 46.88%\n",
            "Progress: 48.44%\n",
            "Progress: 50.00%\n",
            "Progress: 51.56%\n",
            "Progress: 53.12%\n",
            "Progress: 54.69%\n",
            "Progress: 56.25%\n",
            "Progress: 57.81%\n",
            "Progress: 59.38%\n",
            "Progress: 60.94%\n",
            "Progress: 62.50%\n",
            "Progress: 64.06%\n",
            "Progress: 65.62%\n",
            "Progress: 67.19%\n",
            "Progress: 68.75%\n",
            "Progress: 70.31%\n",
            "Progress: 71.88%\n",
            "Progress: 73.44%\n",
            "Progress: 75.00%\n",
            "Progress: 76.56%\n",
            "Progress: 78.12%\n",
            "Progress: 79.69%\n",
            "Progress: 81.25%\n",
            "Progress: 82.81%\n",
            "Progress: 84.38%\n",
            "Progress: 85.94%\n",
            "Progress: 87.50%\n",
            "Progress: 89.06%\n",
            "Progress: 90.62%\n",
            "Progress: 92.19%\n",
            "Progress: 93.75%\n",
            "Progress: 95.31%\n",
            "Progress: 96.88%\n",
            "Progress: 98.44%\n",
            "Progress: 0.00%\n",
            "Progress: 1.56%\n",
            "Progress: 3.12%\n",
            "Progress: 4.69%\n",
            "Progress: 6.25%\n",
            "Progress: 7.81%\n",
            "Progress: 9.38%\n",
            "Progress: 10.94%\n",
            "Progress: 12.50%\n",
            "Progress: 14.06%\n",
            "Progress: 15.62%\n",
            "Progress: 17.19%\n",
            "Progress: 18.75%\n",
            "Progress: 20.31%\n",
            "Progress: 21.88%\n",
            "Progress: 23.44%\n",
            "Progress: 25.00%\n",
            "Progress: 26.56%\n",
            "Progress: 28.12%\n",
            "Progress: 29.69%\n",
            "Progress: 31.25%\n",
            "Progress: 32.81%\n",
            "Progress: 34.38%\n",
            "Progress: 35.94%\n",
            "Progress: 37.50%\n",
            "Progress: 39.06%\n",
            "Progress: 40.62%\n",
            "Progress: 42.19%\n",
            "Progress: 43.75%\n",
            "Progress: 45.31%\n",
            "Progress: 46.88%\n",
            "Progress: 48.44%\n",
            "Progress: 50.00%\n",
            "Progress: 51.56%\n",
            "Progress: 53.12%\n",
            "Progress: 54.69%\n",
            "Progress: 56.25%\n",
            "Progress: 57.81%\n",
            "Progress: 59.38%\n",
            "Progress: 60.94%\n",
            "Progress: 62.50%\n",
            "Progress: 64.06%\n",
            "Progress: 65.62%\n",
            "Progress: 67.19%\n",
            "Progress: 68.75%\n",
            "Progress: 70.31%\n",
            "Progress: 71.88%\n",
            "Progress: 73.44%\n",
            "Progress: 75.00%\n",
            "Progress: 76.56%\n",
            "Progress: 78.12%\n",
            "Progress: 79.69%\n",
            "Progress: 81.25%\n",
            "Progress: 82.81%\n",
            "Progress: 84.38%\n",
            "Progress: 85.94%\n",
            "Progress: 87.50%\n",
            "Progress: 89.06%\n",
            "Progress: 90.62%\n",
            "Progress: 92.19%\n",
            "Progress: 93.75%\n",
            "Progress: 95.31%\n",
            "Progress: 96.88%\n",
            "Progress: 98.44%\n",
            "Progress: 0.00%\n",
            "Progress: 1.56%\n",
            "Progress: 3.12%\n",
            "Progress: 4.69%\n",
            "Progress: 6.25%\n",
            "Progress: 7.81%\n",
            "Progress: 9.38%\n",
            "Progress: 10.94%\n",
            "Progress: 12.50%\n",
            "Progress: 14.06%\n",
            "Progress: 15.62%\n",
            "Progress: 17.19%\n",
            "Progress: 18.75%\n",
            "Progress: 20.31%\n",
            "Progress: 21.88%\n",
            "Progress: 23.44%\n",
            "Progress: 25.00%\n",
            "Progress: 26.56%\n",
            "Progress: 28.12%\n",
            "Progress: 29.69%\n",
            "Progress: 31.25%\n",
            "Progress: 32.81%\n",
            "Progress: 34.38%\n",
            "Progress: 35.94%\n",
            "Progress: 37.50%\n",
            "Progress: 39.06%\n",
            "Progress: 40.62%\n",
            "Progress: 42.19%\n",
            "Progress: 43.75%\n",
            "Progress: 45.31%\n",
            "Progress: 46.88%\n",
            "Progress: 48.44%\n",
            "Progress: 50.00%\n",
            "Progress: 51.56%\n",
            "Progress: 53.12%\n",
            "Progress: 54.69%\n",
            "Progress: 56.25%\n",
            "Progress: 57.81%\n",
            "Progress: 59.38%\n",
            "Progress: 60.94%\n",
            "Progress: 62.50%\n",
            "Progress: 64.06%\n",
            "Progress: 65.62%\n",
            "Progress: 67.19%\n",
            "Progress: 68.75%\n",
            "Progress: 70.31%\n",
            "Progress: 71.88%\n",
            "Progress: 73.44%\n",
            "Progress: 75.00%\n",
            "Progress: 76.56%\n",
            "Progress: 78.12%\n",
            "Progress: 79.69%\n",
            "Progress: 81.25%\n",
            "Progress: 82.81%\n",
            "Progress: 84.38%\n",
            "Progress: 85.94%\n",
            "Progress: 87.50%\n",
            "Progress: 89.06%\n",
            "Progress: 90.62%\n",
            "Progress: 92.19%\n",
            "Progress: 93.75%\n",
            "Progress: 95.31%\n",
            "Progress: 96.88%\n",
            "Progress: 98.44%\n"
          ]
        }
      ]
    },
    {
      "cell_type": "code",
      "source": [
        "m1,m2,m3,m4 = model_results\n",
        "df_model_results = pd.concat([pd.DataFrame(m1), pd.DataFrame(m2), pd.DataFrame(m3), pd.DataFrame(m4)], axis = 1)\n",
        "df_BHs = pd.DataFrame(best_ds.BH.unique(), columns = ['BH'])\n",
        "df_symp_real = best_ds.groupby('BH').symp.first()\n",
        "df_model_results = pd.concat([df_BHs, df_model_results, df_symp_real.reset_index(drop = True)], axis = 1)\n",
        "df_model_results.round(2)"
      ],
      "metadata": {
        "colab": {
          "base_uri": "https://localhost:8080/",
          "height": 647
        },
        "id": "T_WTIywme2nY",
        "outputId": "8ae1f686-ec57-465a-80b3-aaf74a727890"
      },
      "execution_count": null,
      "outputs": [
        {
          "output_type": "execute_result",
          "data": {
            "text/plain": [
              "     BH  Model_1  Model_2  Model_3  Model_4  symp\n",
              "0     1     0.00     0.00     0.00     0.00     0\n",
              "1     2     3.94     2.08     2.31     5.09     0\n",
              "2     3     0.00     0.00     0.00     0.00     1\n",
              "3     4     0.00     0.00     0.00     0.00     0\n",
              "4     5    23.95    23.50    16.19    17.96     0\n",
              "..  ...      ...      ...      ...      ...   ...\n",
              "59  105     0.00     0.00     0.00     0.00     0\n",
              "60  106    25.85    28.99    27.05    21.74     0\n",
              "61  107     0.00     0.00     0.00     0.00     0\n",
              "62  108     0.00     0.00     0.00     0.00     0\n",
              "63  110     0.00     0.00     0.00     0.00     0\n",
              "\n",
              "[64 rows x 6 columns]"
            ],
            "text/html": [
              "\n",
              "  <div id=\"df-4ae3229e-71cc-4170-8d34-35b258d6dfbc\">\n",
              "    <div class=\"colab-df-container\">\n",
              "      <div>\n",
              "<style scoped>\n",
              "    .dataframe tbody tr th:only-of-type {\n",
              "        vertical-align: middle;\n",
              "    }\n",
              "\n",
              "    .dataframe tbody tr th {\n",
              "        vertical-align: top;\n",
              "    }\n",
              "\n",
              "    .dataframe thead th {\n",
              "        text-align: right;\n",
              "    }\n",
              "</style>\n",
              "<table border=\"1\" class=\"dataframe\">\n",
              "  <thead>\n",
              "    <tr style=\"text-align: right;\">\n",
              "      <th></th>\n",
              "      <th>BH</th>\n",
              "      <th>Model_1</th>\n",
              "      <th>Model_2</th>\n",
              "      <th>Model_3</th>\n",
              "      <th>Model_4</th>\n",
              "      <th>symp</th>\n",
              "    </tr>\n",
              "  </thead>\n",
              "  <tbody>\n",
              "    <tr>\n",
              "      <th>0</th>\n",
              "      <td>1</td>\n",
              "      <td>0.00</td>\n",
              "      <td>0.00</td>\n",
              "      <td>0.00</td>\n",
              "      <td>0.00</td>\n",
              "      <td>0</td>\n",
              "    </tr>\n",
              "    <tr>\n",
              "      <th>1</th>\n",
              "      <td>2</td>\n",
              "      <td>3.94</td>\n",
              "      <td>2.08</td>\n",
              "      <td>2.31</td>\n",
              "      <td>5.09</td>\n",
              "      <td>0</td>\n",
              "    </tr>\n",
              "    <tr>\n",
              "      <th>2</th>\n",
              "      <td>3</td>\n",
              "      <td>0.00</td>\n",
              "      <td>0.00</td>\n",
              "      <td>0.00</td>\n",
              "      <td>0.00</td>\n",
              "      <td>1</td>\n",
              "    </tr>\n",
              "    <tr>\n",
              "      <th>3</th>\n",
              "      <td>4</td>\n",
              "      <td>0.00</td>\n",
              "      <td>0.00</td>\n",
              "      <td>0.00</td>\n",
              "      <td>0.00</td>\n",
              "      <td>0</td>\n",
              "    </tr>\n",
              "    <tr>\n",
              "      <th>4</th>\n",
              "      <td>5</td>\n",
              "      <td>23.95</td>\n",
              "      <td>23.50</td>\n",
              "      <td>16.19</td>\n",
              "      <td>17.96</td>\n",
              "      <td>0</td>\n",
              "    </tr>\n",
              "    <tr>\n",
              "      <th>...</th>\n",
              "      <td>...</td>\n",
              "      <td>...</td>\n",
              "      <td>...</td>\n",
              "      <td>...</td>\n",
              "      <td>...</td>\n",
              "      <td>...</td>\n",
              "    </tr>\n",
              "    <tr>\n",
              "      <th>59</th>\n",
              "      <td>105</td>\n",
              "      <td>0.00</td>\n",
              "      <td>0.00</td>\n",
              "      <td>0.00</td>\n",
              "      <td>0.00</td>\n",
              "      <td>0</td>\n",
              "    </tr>\n",
              "    <tr>\n",
              "      <th>60</th>\n",
              "      <td>106</td>\n",
              "      <td>25.85</td>\n",
              "      <td>28.99</td>\n",
              "      <td>27.05</td>\n",
              "      <td>21.74</td>\n",
              "      <td>0</td>\n",
              "    </tr>\n",
              "    <tr>\n",
              "      <th>61</th>\n",
              "      <td>107</td>\n",
              "      <td>0.00</td>\n",
              "      <td>0.00</td>\n",
              "      <td>0.00</td>\n",
              "      <td>0.00</td>\n",
              "      <td>0</td>\n",
              "    </tr>\n",
              "    <tr>\n",
              "      <th>62</th>\n",
              "      <td>108</td>\n",
              "      <td>0.00</td>\n",
              "      <td>0.00</td>\n",
              "      <td>0.00</td>\n",
              "      <td>0.00</td>\n",
              "      <td>0</td>\n",
              "    </tr>\n",
              "    <tr>\n",
              "      <th>63</th>\n",
              "      <td>110</td>\n",
              "      <td>0.00</td>\n",
              "      <td>0.00</td>\n",
              "      <td>0.00</td>\n",
              "      <td>0.00</td>\n",
              "      <td>0</td>\n",
              "    </tr>\n",
              "  </tbody>\n",
              "</table>\n",
              "<p>64 rows × 6 columns</p>\n",
              "</div>\n",
              "      <button class=\"colab-df-convert\" onclick=\"convertToInteractive('df-4ae3229e-71cc-4170-8d34-35b258d6dfbc')\"\n",
              "              title=\"Convert this dataframe to an interactive table.\"\n",
              "              style=\"display:none;\">\n",
              "        \n",
              "  <svg xmlns=\"http://www.w3.org/2000/svg\" height=\"24px\"viewBox=\"0 0 24 24\"\n",
              "       width=\"24px\">\n",
              "    <path d=\"M0 0h24v24H0V0z\" fill=\"none\"/>\n",
              "    <path d=\"M18.56 5.44l.94 2.06.94-2.06 2.06-.94-2.06-.94-.94-2.06-.94 2.06-2.06.94zm-11 1L8.5 8.5l.94-2.06 2.06-.94-2.06-.94L8.5 2.5l-.94 2.06-2.06.94zm10 10l.94 2.06.94-2.06 2.06-.94-2.06-.94-.94-2.06-.94 2.06-2.06.94z\"/><path d=\"M17.41 7.96l-1.37-1.37c-.4-.4-.92-.59-1.43-.59-.52 0-1.04.2-1.43.59L10.3 9.45l-7.72 7.72c-.78.78-.78 2.05 0 2.83L4 21.41c.39.39.9.59 1.41.59.51 0 1.02-.2 1.41-.59l7.78-7.78 2.81-2.81c.8-.78.8-2.07 0-2.86zM5.41 20L4 18.59l7.72-7.72 1.47 1.35L5.41 20z\"/>\n",
              "  </svg>\n",
              "      </button>\n",
              "      \n",
              "  <style>\n",
              "    .colab-df-container {\n",
              "      display:flex;\n",
              "      flex-wrap:wrap;\n",
              "      gap: 12px;\n",
              "    }\n",
              "\n",
              "    .colab-df-convert {\n",
              "      background-color: #E8F0FE;\n",
              "      border: none;\n",
              "      border-radius: 50%;\n",
              "      cursor: pointer;\n",
              "      display: none;\n",
              "      fill: #1967D2;\n",
              "      height: 32px;\n",
              "      padding: 0 0 0 0;\n",
              "      width: 32px;\n",
              "    }\n",
              "\n",
              "    .colab-df-convert:hover {\n",
              "      background-color: #E2EBFA;\n",
              "      box-shadow: 0px 1px 2px rgba(60, 64, 67, 0.3), 0px 1px 3px 1px rgba(60, 64, 67, 0.15);\n",
              "      fill: #174EA6;\n",
              "    }\n",
              "\n",
              "    [theme=dark] .colab-df-convert {\n",
              "      background-color: #3B4455;\n",
              "      fill: #D2E3FC;\n",
              "    }\n",
              "\n",
              "    [theme=dark] .colab-df-convert:hover {\n",
              "      background-color: #434B5C;\n",
              "      box-shadow: 0px 1px 3px 1px rgba(0, 0, 0, 0.15);\n",
              "      filter: drop-shadow(0px 1px 2px rgba(0, 0, 0, 0.3));\n",
              "      fill: #FFFFFF;\n",
              "    }\n",
              "  </style>\n",
              "\n",
              "      <script>\n",
              "        const buttonEl =\n",
              "          document.querySelector('#df-4ae3229e-71cc-4170-8d34-35b258d6dfbc button.colab-df-convert');\n",
              "        buttonEl.style.display =\n",
              "          google.colab.kernel.accessAllowed ? 'block' : 'none';\n",
              "\n",
              "        async function convertToInteractive(key) {\n",
              "          const element = document.querySelector('#df-4ae3229e-71cc-4170-8d34-35b258d6dfbc');\n",
              "          const dataTable =\n",
              "            await google.colab.kernel.invokeFunction('convertToInteractive',\n",
              "                                                     [key], {});\n",
              "          if (!dataTable) return;\n",
              "\n",
              "          const docLinkHtml = 'Like what you see? Visit the ' +\n",
              "            '<a target=\"_blank\" href=https://colab.research.google.com/notebooks/data_table.ipynb>data table notebook</a>'\n",
              "            + ' to learn more about interactive tables.';\n",
              "          element.innerHTML = '';\n",
              "          dataTable['output_type'] = 'display_data';\n",
              "          await google.colab.output.renderOutput(dataTable, element);\n",
              "          const docLink = document.createElement('div');\n",
              "          docLink.innerHTML = docLinkHtml;\n",
              "          element.appendChild(docLink);\n",
              "        }\n",
              "      </script>\n",
              "    </div>\n",
              "  </div>\n",
              "  "
            ]
          },
          "metadata": {},
          "execution_count": 134
        }
      ]
    }
  ],
  "metadata": {
    "colab": {
      "provenance": [],
      "collapsed_sections": [
        "7ng2Qyt_3q2W",
        "20hPJCCE4dnF",
        "ee8F4fnC9mDc",
        "wRS4iQDhWINx",
        "nthFNr-SiF-9",
        "ZF8-DkgRBmNf"
      ],
      "authorship_tag": "ABX9TyOqJQm2NpNswvBme/EER/03",
      "include_colab_link": true
    },
    "kernelspec": {
      "display_name": "Python 3",
      "name": "python3"
    },
    "language_info": {
      "name": "python"
    }
  },
  "nbformat": 4,
  "nbformat_minor": 0
}
